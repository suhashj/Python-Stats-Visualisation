{
 "cells": [
  {
   "cell_type": "markdown",
   "metadata": {
    "id": "Gb9UYwXXYkF2"
   },
   "source": [
    "# Multiple Linear Regression "
   ]
  },
  {
   "cell_type": "markdown",
   "metadata": {
    "id": "_1ulroepYkF7"
   },
   "source": [
    "#### Problem Statement\n",
    "Objective: Mathematical model is proposed and developed using multivariate regression equation for the prediction of the net hourly electrical energy output (EP) of the plant.\n",
    "#### Dataset:\n",
    "* The dataset contains 9568 data points collected from a Combined Cycle Power Plant over 6 years (2006-2011), when the power plant was set to work with full load. \n",
    "\n",
    "##### Attribute Description\n",
    "Features consist of hourly average ambient variables \n",
    "    *  Temperature (T) in the range 1.81°C and 37.11°C\n",
    "    *  Ambient Pressure (AP) in the range 992.89-1033.30 milibar\n",
    "    *  Relative Humidity (RH) in the range 25.56% to 100.16%\n",
    "    *  Exhaust Vacuum (V) in the range 25.36-81.56 cm Hg\n",
    "    *  Net hourly electrical energy output (EP) 420.26-495.76 MW  -Taget variable\n",
    "\n",
    "The averages are taken from various sensors located around the plant that record the ambient variables every second. The variables are given without normalization.\n",
    "Machine Learning model: Apply Linear Regression-\n",
    " \n",
    "#### The objectives of today’s activity are :\n",
    "* Building a regression model to predict \n"
   ]
  },
  {
   "cell_type": "markdown",
   "metadata": {
    "id": "jyYVrjOiYkF8"
   },
   "source": [
    "### Identify right Error Metrics"
   ]
  },
  {
   "cell_type": "markdown",
   "metadata": {
    "id": "O7IKx_0yYkF-"
   },
   "source": [
    "##### Error Metrics for Regression\n",
    "\n",
    "* Mean Absolute Error (MAE):\n",
    "\n",
    "$$MAE = \\dfrac{1}{n}\\times|\\sum_{i = 1}^{n}y_{i} - \\hat{y_{i}}|$$\n",
    "\n",
    "\n",
    "* Mean Squared Error (MSE):\n",
    "\n",
    "$$MSE = \\dfrac{1}{n}\\times(\\sum_{i = 1}^{n}y_{i} - \\hat{y_{i}})^2$$\n",
    "\n",
    "\n",
    "* Root Mean Squared Error (RMSE):\n",
    "\n",
    "$$RMSE = \\sqrt{\\dfrac{1}{n}\\times(\\sum_{i = 1}^{n}y_{i} - \\hat{y_{i}})^2}$$\n",
    "\n",
    "\n",
    "* Mean Absolute Percentage Error (MAPE):\n",
    "\n",
    "$$MAPE = \\dfrac{100}{n}\\times\\mid\\dfrac{\\sum_{i = 1}^{n}y_{i} - \\hat{y_{i}}}{y_{i}}\\mid$$\n"
   ]
  },
  {
   "cell_type": "markdown",
   "metadata": {
    "id": "ffPYnw0YYkF_"
   },
   "source": [
    "### Loading the required libraries"
   ]
  },
  {
   "cell_type": "code",
   "execution_count": null,
   "metadata": {
    "id": "666sz-k4YkGA"
   },
   "outputs": [],
   "source": [
    "import warnings\n",
    "warnings.filterwarnings('ignore')\n",
    "import pandas as pd\n",
    "import numpy as np\n",
    "\n",
    "from sklearn.metrics import mean_squared_error, r2_score\n",
    "from sklearn.model_selection import train_test_split\n",
    "\n",
    "from  matplotlib import pyplot as plt\n",
    "import seaborn as sns\n",
    "\n",
    "import statsmodels.api as sm\n",
    "from statsmodels.formula.api import ols"
   ]
  },
  {
   "cell_type": "markdown",
   "metadata": {
    "id": "SayqXXRTYkGG"
   },
   "source": [
    "### Loading the data"
   ]
  },
  {
   "cell_type": "code",
   "execution_count": null,
   "metadata": {
    "colab": {
     "base_uri": "https://localhost:8080/"
    },
    "id": "jvx7xnqtG6il",
    "outputId": "a3fbfded-c9dc-4339-a156-80852bcdf053"
   },
   "outputs": [
    {
     "data": {
      "text/plain": [
       "['.config', 'PredictEnergy1.csv', 'sample_data']"
      ]
     },
     "execution_count": 2,
     "metadata": {},
     "output_type": "execute_result"
    }
   ],
   "source": [
    "import os\n",
    "os.getcwd()\n",
    "os.listdir('./')"
   ]
  },
  {
   "cell_type": "code",
   "execution_count": null,
   "metadata": {
    "colab": {
     "base_uri": "https://localhost:8080/",
     "height": 161
    },
    "id": "iKrCJYaZYkGH",
    "outputId": "f6ac2ac1-3c7a-4386-8862-0df85c04ce48"
   },
   "outputs": [
    {
     "name": "stdout",
     "output_type": "stream",
     "text": [
      "(9568, 5)\n"
     ]
    },
    {
     "data": {
      "text/html": [
       "\n",
       "  <div id=\"df-16346d76-f9ed-45a3-8716-3d7bc90a9814\">\n",
       "    <div class=\"colab-df-container\">\n",
       "      <div>\n",
       "<style scoped>\n",
       "    .dataframe tbody tr th:only-of-type {\n",
       "        vertical-align: middle;\n",
       "    }\n",
       "\n",
       "    .dataframe tbody tr th {\n",
       "        vertical-align: top;\n",
       "    }\n",
       "\n",
       "    .dataframe thead th {\n",
       "        text-align: right;\n",
       "    }\n",
       "</style>\n",
       "<table border=\"1\" class=\"dataframe\">\n",
       "  <thead>\n",
       "    <tr style=\"text-align: right;\">\n",
       "      <th></th>\n",
       "      <th>AT</th>\n",
       "      <th>V</th>\n",
       "      <th>AP</th>\n",
       "      <th>RH</th>\n",
       "      <th>PE</th>\n",
       "    </tr>\n",
       "  </thead>\n",
       "  <tbody>\n",
       "    <tr>\n",
       "      <th>0</th>\n",
       "      <td>14.96</td>\n",
       "      <td>41.76</td>\n",
       "      <td>1024.07</td>\n",
       "      <td>73.17</td>\n",
       "      <td>463.26</td>\n",
       "    </tr>\n",
       "    <tr>\n",
       "      <th>1</th>\n",
       "      <td>25.18</td>\n",
       "      <td>62.96</td>\n",
       "      <td>1020.04</td>\n",
       "      <td>59.08</td>\n",
       "      <td>444.37</td>\n",
       "    </tr>\n",
       "    <tr>\n",
       "      <th>2</th>\n",
       "      <td>5.11</td>\n",
       "      <td>39.40</td>\n",
       "      <td>1012.16</td>\n",
       "      <td>92.14</td>\n",
       "      <td>488.56</td>\n",
       "    </tr>\n",
       "  </tbody>\n",
       "</table>\n",
       "</div>\n",
       "      <button class=\"colab-df-convert\" onclick=\"convertToInteractive('df-16346d76-f9ed-45a3-8716-3d7bc90a9814')\"\n",
       "              title=\"Convert this dataframe to an interactive table.\"\n",
       "              style=\"display:none;\">\n",
       "        \n",
       "  <svg xmlns=\"http://www.w3.org/2000/svg\" height=\"24px\"viewBox=\"0 0 24 24\"\n",
       "       width=\"24px\">\n",
       "    <path d=\"M0 0h24v24H0V0z\" fill=\"none\"/>\n",
       "    <path d=\"M18.56 5.44l.94 2.06.94-2.06 2.06-.94-2.06-.94-.94-2.06-.94 2.06-2.06.94zm-11 1L8.5 8.5l.94-2.06 2.06-.94-2.06-.94L8.5 2.5l-.94 2.06-2.06.94zm10 10l.94 2.06.94-2.06 2.06-.94-2.06-.94-.94-2.06-.94 2.06-2.06.94z\"/><path d=\"M17.41 7.96l-1.37-1.37c-.4-.4-.92-.59-1.43-.59-.52 0-1.04.2-1.43.59L10.3 9.45l-7.72 7.72c-.78.78-.78 2.05 0 2.83L4 21.41c.39.39.9.59 1.41.59.51 0 1.02-.2 1.41-.59l7.78-7.78 2.81-2.81c.8-.78.8-2.07 0-2.86zM5.41 20L4 18.59l7.72-7.72 1.47 1.35L5.41 20z\"/>\n",
       "  </svg>\n",
       "      </button>\n",
       "      \n",
       "  <style>\n",
       "    .colab-df-container {\n",
       "      display:flex;\n",
       "      flex-wrap:wrap;\n",
       "      gap: 12px;\n",
       "    }\n",
       "\n",
       "    .colab-df-convert {\n",
       "      background-color: #E8F0FE;\n",
       "      border: none;\n",
       "      border-radius: 50%;\n",
       "      cursor: pointer;\n",
       "      display: none;\n",
       "      fill: #1967D2;\n",
       "      height: 32px;\n",
       "      padding: 0 0 0 0;\n",
       "      width: 32px;\n",
       "    }\n",
       "\n",
       "    .colab-df-convert:hover {\n",
       "      background-color: #E2EBFA;\n",
       "      box-shadow: 0px 1px 2px rgba(60, 64, 67, 0.3), 0px 1px 3px 1px rgba(60, 64, 67, 0.15);\n",
       "      fill: #174EA6;\n",
       "    }\n",
       "\n",
       "    [theme=dark] .colab-df-convert {\n",
       "      background-color: #3B4455;\n",
       "      fill: #D2E3FC;\n",
       "    }\n",
       "\n",
       "    [theme=dark] .colab-df-convert:hover {\n",
       "      background-color: #434B5C;\n",
       "      box-shadow: 0px 1px 3px 1px rgba(0, 0, 0, 0.15);\n",
       "      filter: drop-shadow(0px 1px 2px rgba(0, 0, 0, 0.3));\n",
       "      fill: #FFFFFF;\n",
       "    }\n",
       "  </style>\n",
       "\n",
       "      <script>\n",
       "        const buttonEl =\n",
       "          document.querySelector('#df-16346d76-f9ed-45a3-8716-3d7bc90a9814 button.colab-df-convert');\n",
       "        buttonEl.style.display =\n",
       "          google.colab.kernel.accessAllowed ? 'block' : 'none';\n",
       "\n",
       "        async function convertToInteractive(key) {\n",
       "          const element = document.querySelector('#df-16346d76-f9ed-45a3-8716-3d7bc90a9814');\n",
       "          const dataTable =\n",
       "            await google.colab.kernel.invokeFunction('convertToInteractive',\n",
       "                                                     [key], {});\n",
       "          if (!dataTable) return;\n",
       "\n",
       "          const docLinkHtml = 'Like what you see? Visit the ' +\n",
       "            '<a target=\"_blank\" href=https://colab.research.google.com/notebooks/data_table.ipynb>data table notebook</a>'\n",
       "            + ' to learn more about interactive tables.';\n",
       "          element.innerHTML = '';\n",
       "          dataTable['output_type'] = 'display_data';\n",
       "          await google.colab.output.renderOutput(dataTable, element);\n",
       "          const docLink = document.createElement('div');\n",
       "          docLink.innerHTML = docLinkHtml;\n",
       "          element.appendChild(docLink);\n",
       "        }\n",
       "      </script>\n",
       "    </div>\n",
       "  </div>\n",
       "  "
      ],
      "text/plain": [
       "      AT      V       AP     RH      PE\n",
       "0  14.96  41.76  1024.07  73.17  463.26\n",
       "1  25.18  62.96  1020.04  59.08  444.37\n",
       "2   5.11  39.40  1012.16  92.14  488.56"
      ]
     },
     "execution_count": 3,
     "metadata": {},
     "output_type": "execute_result"
    }
   ],
   "source": [
    "data = pd.read_csv(\"./PredictEnergy1.csv\")\n",
    "print(data.shape)\n",
    "data.head(3)"
   ]
  },
  {
   "cell_type": "markdown",
   "metadata": {
    "id": "y7bPobZjrn6d"
   },
   "source": [
    "### Renaming the columns"
   ]
  },
  {
   "cell_type": "code",
   "execution_count": null,
   "metadata": {
    "id": "i4W0G7CBrn6d"
   },
   "outputs": [],
   "source": [
    "data.columns=[\"Amb_Temperature\",\"Exhaust_Vaccum\",\"Amb_Pressure\",\"Rel_Humidity\",\"Target\"]"
   ]
  },
  {
   "cell_type": "markdown",
   "metadata": {
    "id": "bo-mzuzjYkGV"
   },
   "source": [
    "### Display the columns"
   ]
  },
  {
   "cell_type": "code",
   "execution_count": null,
   "metadata": {
    "colab": {
     "base_uri": "https://localhost:8080/"
    },
    "id": "l6v_dsCJYkGW",
    "outputId": "de3d02f3-9b09-4ebf-ead7-2dd1460b5768",
    "scrolled": true
   },
   "outputs": [
    {
     "data": {
      "text/plain": [
       "Index(['Amb_Temperature', 'Exhaust_Vaccum', 'Amb_Pressure', 'Rel_Humidity',\n",
       "       'Target'],\n",
       "      dtype='object')"
      ]
     },
     "execution_count": 5,
     "metadata": {},
     "output_type": "execute_result"
    }
   ],
   "source": [
    "data.columns"
   ]
  },
  {
   "cell_type": "markdown",
   "metadata": {
    "id": "SKZCDHb5YkGP"
   },
   "source": [
    "### Data Understanding"
   ]
  },
  {
   "cell_type": "code",
   "execution_count": null,
   "metadata": {
    "colab": {
     "base_uri": "https://localhost:8080/"
    },
    "id": "_3Wyz7VtYkGL",
    "outputId": "b297db5a-37bb-4458-f4b0-d159ea2cc5df"
   },
   "outputs": [
    {
     "data": {
      "text/plain": [
       "Amb_Temperature    float64\n",
       "Exhaust_Vaccum     float64\n",
       "Amb_Pressure       float64\n",
       "Rel_Humidity       float64\n",
       "Target             float64\n",
       "dtype: object"
      ]
     },
     "execution_count": 6,
     "metadata": {},
     "output_type": "execute_result"
    }
   ],
   "source": [
    "data.dtypes"
   ]
  },
  {
   "cell_type": "markdown",
   "metadata": {
    "id": "21a-9nf6YkGi"
   },
   "source": [
    "#### Summary Statistics using describe()"
   ]
  },
  {
   "cell_type": "markdown",
   "metadata": {
    "id": "SMxhjMzyYkGj"
   },
   "source": [
    "Descriptive or Summary Statistic of the numeric columns\n",
    "\n",
    "    It excludes character column and calculate summary statistics only for numeric columns"
   ]
  },
  {
   "cell_type": "code",
   "execution_count": null,
   "metadata": {
    "colab": {
     "base_uri": "https://localhost:8080/",
     "height": 300
    },
    "id": "H4CJv9W-YkGk",
    "outputId": "8aeab9fe-90fc-46d9-c8aa-2dbe99cb6d50"
   },
   "outputs": [
    {
     "data": {
      "text/html": [
       "\n",
       "  <div id=\"df-2aa77727-e636-494d-96a4-91bf2306a562\">\n",
       "    <div class=\"colab-df-container\">\n",
       "      <div>\n",
       "<style scoped>\n",
       "    .dataframe tbody tr th:only-of-type {\n",
       "        vertical-align: middle;\n",
       "    }\n",
       "\n",
       "    .dataframe tbody tr th {\n",
       "        vertical-align: top;\n",
       "    }\n",
       "\n",
       "    .dataframe thead th {\n",
       "        text-align: right;\n",
       "    }\n",
       "</style>\n",
       "<table border=\"1\" class=\"dataframe\">\n",
       "  <thead>\n",
       "    <tr style=\"text-align: right;\">\n",
       "      <th></th>\n",
       "      <th>Amb_Temperature</th>\n",
       "      <th>Exhaust_Vaccum</th>\n",
       "      <th>Amb_Pressure</th>\n",
       "      <th>Rel_Humidity</th>\n",
       "      <th>Target</th>\n",
       "    </tr>\n",
       "  </thead>\n",
       "  <tbody>\n",
       "    <tr>\n",
       "      <th>count</th>\n",
       "      <td>9568.000000</td>\n",
       "      <td>9568.000000</td>\n",
       "      <td>9568.000000</td>\n",
       "      <td>9568.000000</td>\n",
       "      <td>9568.000000</td>\n",
       "    </tr>\n",
       "    <tr>\n",
       "      <th>mean</th>\n",
       "      <td>19.651231</td>\n",
       "      <td>54.305804</td>\n",
       "      <td>1013.259078</td>\n",
       "      <td>73.308978</td>\n",
       "      <td>454.365009</td>\n",
       "    </tr>\n",
       "    <tr>\n",
       "      <th>std</th>\n",
       "      <td>7.452473</td>\n",
       "      <td>12.707893</td>\n",
       "      <td>5.938784</td>\n",
       "      <td>14.600269</td>\n",
       "      <td>17.066995</td>\n",
       "    </tr>\n",
       "    <tr>\n",
       "      <th>min</th>\n",
       "      <td>1.810000</td>\n",
       "      <td>25.360000</td>\n",
       "      <td>992.890000</td>\n",
       "      <td>25.560000</td>\n",
       "      <td>420.260000</td>\n",
       "    </tr>\n",
       "    <tr>\n",
       "      <th>25%</th>\n",
       "      <td>13.510000</td>\n",
       "      <td>41.740000</td>\n",
       "      <td>1009.100000</td>\n",
       "      <td>63.327500</td>\n",
       "      <td>439.750000</td>\n",
       "    </tr>\n",
       "    <tr>\n",
       "      <th>50%</th>\n",
       "      <td>20.345000</td>\n",
       "      <td>52.080000</td>\n",
       "      <td>1012.940000</td>\n",
       "      <td>74.975000</td>\n",
       "      <td>451.550000</td>\n",
       "    </tr>\n",
       "    <tr>\n",
       "      <th>75%</th>\n",
       "      <td>25.720000</td>\n",
       "      <td>66.540000</td>\n",
       "      <td>1017.260000</td>\n",
       "      <td>84.830000</td>\n",
       "      <td>468.430000</td>\n",
       "    </tr>\n",
       "    <tr>\n",
       "      <th>max</th>\n",
       "      <td>37.110000</td>\n",
       "      <td>81.560000</td>\n",
       "      <td>1033.300000</td>\n",
       "      <td>100.160000</td>\n",
       "      <td>495.760000</td>\n",
       "    </tr>\n",
       "  </tbody>\n",
       "</table>\n",
       "</div>\n",
       "      <button class=\"colab-df-convert\" onclick=\"convertToInteractive('df-2aa77727-e636-494d-96a4-91bf2306a562')\"\n",
       "              title=\"Convert this dataframe to an interactive table.\"\n",
       "              style=\"display:none;\">\n",
       "        \n",
       "  <svg xmlns=\"http://www.w3.org/2000/svg\" height=\"24px\"viewBox=\"0 0 24 24\"\n",
       "       width=\"24px\">\n",
       "    <path d=\"M0 0h24v24H0V0z\" fill=\"none\"/>\n",
       "    <path d=\"M18.56 5.44l.94 2.06.94-2.06 2.06-.94-2.06-.94-.94-2.06-.94 2.06-2.06.94zm-11 1L8.5 8.5l.94-2.06 2.06-.94-2.06-.94L8.5 2.5l-.94 2.06-2.06.94zm10 10l.94 2.06.94-2.06 2.06-.94-2.06-.94-.94-2.06-.94 2.06-2.06.94z\"/><path d=\"M17.41 7.96l-1.37-1.37c-.4-.4-.92-.59-1.43-.59-.52 0-1.04.2-1.43.59L10.3 9.45l-7.72 7.72c-.78.78-.78 2.05 0 2.83L4 21.41c.39.39.9.59 1.41.59.51 0 1.02-.2 1.41-.59l7.78-7.78 2.81-2.81c.8-.78.8-2.07 0-2.86zM5.41 20L4 18.59l7.72-7.72 1.47 1.35L5.41 20z\"/>\n",
       "  </svg>\n",
       "      </button>\n",
       "      \n",
       "  <style>\n",
       "    .colab-df-container {\n",
       "      display:flex;\n",
       "      flex-wrap:wrap;\n",
       "      gap: 12px;\n",
       "    }\n",
       "\n",
       "    .colab-df-convert {\n",
       "      background-color: #E8F0FE;\n",
       "      border: none;\n",
       "      border-radius: 50%;\n",
       "      cursor: pointer;\n",
       "      display: none;\n",
       "      fill: #1967D2;\n",
       "      height: 32px;\n",
       "      padding: 0 0 0 0;\n",
       "      width: 32px;\n",
       "    }\n",
       "\n",
       "    .colab-df-convert:hover {\n",
       "      background-color: #E2EBFA;\n",
       "      box-shadow: 0px 1px 2px rgba(60, 64, 67, 0.3), 0px 1px 3px 1px rgba(60, 64, 67, 0.15);\n",
       "      fill: #174EA6;\n",
       "    }\n",
       "\n",
       "    [theme=dark] .colab-df-convert {\n",
       "      background-color: #3B4455;\n",
       "      fill: #D2E3FC;\n",
       "    }\n",
       "\n",
       "    [theme=dark] .colab-df-convert:hover {\n",
       "      background-color: #434B5C;\n",
       "      box-shadow: 0px 1px 3px 1px rgba(0, 0, 0, 0.15);\n",
       "      filter: drop-shadow(0px 1px 2px rgba(0, 0, 0, 0.3));\n",
       "      fill: #FFFFFF;\n",
       "    }\n",
       "  </style>\n",
       "\n",
       "      <script>\n",
       "        const buttonEl =\n",
       "          document.querySelector('#df-2aa77727-e636-494d-96a4-91bf2306a562 button.colab-df-convert');\n",
       "        buttonEl.style.display =\n",
       "          google.colab.kernel.accessAllowed ? 'block' : 'none';\n",
       "\n",
       "        async function convertToInteractive(key) {\n",
       "          const element = document.querySelector('#df-2aa77727-e636-494d-96a4-91bf2306a562');\n",
       "          const dataTable =\n",
       "            await google.colab.kernel.invokeFunction('convertToInteractive',\n",
       "                                                     [key], {});\n",
       "          if (!dataTable) return;\n",
       "\n",
       "          const docLinkHtml = 'Like what you see? Visit the ' +\n",
       "            '<a target=\"_blank\" href=https://colab.research.google.com/notebooks/data_table.ipynb>data table notebook</a>'\n",
       "            + ' to learn more about interactive tables.';\n",
       "          element.innerHTML = '';\n",
       "          dataTable['output_type'] = 'display_data';\n",
       "          await google.colab.output.renderOutput(dataTable, element);\n",
       "          const docLink = document.createElement('div');\n",
       "          docLink.innerHTML = docLinkHtml;\n",
       "          element.appendChild(docLink);\n",
       "        }\n",
       "      </script>\n",
       "    </div>\n",
       "  </div>\n",
       "  "
      ],
      "text/plain": [
       "       Amb_Temperature  Exhaust_Vaccum  Amb_Pressure  Rel_Humidity  \\\n",
       "count      9568.000000     9568.000000   9568.000000   9568.000000   \n",
       "mean         19.651231       54.305804   1013.259078     73.308978   \n",
       "std           7.452473       12.707893      5.938784     14.600269   \n",
       "min           1.810000       25.360000    992.890000     25.560000   \n",
       "25%          13.510000       41.740000   1009.100000     63.327500   \n",
       "50%          20.345000       52.080000   1012.940000     74.975000   \n",
       "75%          25.720000       66.540000   1017.260000     84.830000   \n",
       "max          37.110000       81.560000   1033.300000    100.160000   \n",
       "\n",
       "            Target  \n",
       "count  9568.000000  \n",
       "mean    454.365009  \n",
       "std      17.066995  \n",
       "min     420.260000  \n",
       "25%     439.750000  \n",
       "50%     451.550000  \n",
       "75%     468.430000  \n",
       "max     495.760000  "
      ]
     },
     "execution_count": 7,
     "metadata": {},
     "output_type": "execute_result"
    }
   ],
   "source": [
    "data.describe()"
   ]
  },
  {
   "cell_type": "markdown",
   "metadata": {
    "id": "sMsGqSfgrn6g"
   },
   "source": [
    "#### A check on Target Data"
   ]
  },
  {
   "cell_type": "code",
   "execution_count": null,
   "metadata": {
    "colab": {
     "base_uri": "https://localhost:8080/",
     "height": 265
    },
    "id": "qIgD3Gv_rn6h",
    "outputId": "33239859-36d6-49eb-a2b1-f784473890da"
   },
   "outputs": [
    {
     "data": {
      "image/png": "[encoded data removed]",
      "text/plain": [
       "<Figure size 432x288 with 1 Axes>"
      ]
     },
     "metadata": {
      "needs_background": "light"
     },
     "output_type": "display_data"
    }
   ],
   "source": [
    "plt.hist(data['Target'])\n",
    "plt.show(True)"
   ]
  },
  {
   "cell_type": "markdown",
   "metadata": {
    "id": "Gi72sUbArn6h"
   },
   "source": []
  },
  {
   "cell_type": "markdown",
   "metadata": {
    "id": "NS2HxbWUrn6h"
   },
   "source": []
  },
  {
   "cell_type": "markdown",
   "metadata": {
    "id": "Dy59lqF8rn6h"
   },
   "source": [
    "#### An initial understanding of few variables Vs Target"
   ]
  },
  {
   "cell_type": "code",
   "execution_count": null,
   "metadata": {
    "colab": {
     "base_uri": "https://localhost:8080/",
     "height": 282
    },
    "id": "LmZsTrXOiFSA",
    "outputId": "689e4e7d-9580-4fc4-b316-7c499bf1cbc7"
   },
   "outputs": [
    {
     "data": {
      "text/plain": [
       "<matplotlib.collections.PathCollection at 0x7fe195664b90>"
      ]
     },
     "execution_count": 9,
     "metadata": {},
     "output_type": "execute_result"
    },
    {
     "data": {
      "image/png": "[encoded data removed]",
      "text/plain": [
       "<Figure size 432x288 with 1 Axes>"
      ]
     },
     "metadata": {
      "needs_background": "light"
     },
     "output_type": "display_data"
    }
   ],
   "source": [
    "plt.scatter(data['Amb_Temperature'],data['Target'])"
   ]
  },
  {
   "cell_type": "markdown",
   "metadata": {
    "id": "s7WMd1Qcrn6i"
   },
   "source": []
  },
  {
   "cell_type": "markdown",
   "metadata": {
    "id": "UhEbvB9qrn6i"
   },
   "source": []
  },
  {
   "cell_type": "markdown",
   "metadata": {
    "id": "2Dv95tH4YkHC"
   },
   "source": [
    "### Data Preparation\n",
    "##### Few checks at the begining \n",
    "    * Are there any duplicate rows  in the data.\n",
    "    * Are there any columns with no variance.  "
   ]
  },
  {
   "cell_type": "markdown",
   "metadata": {
    "id": "aGpUPsf_rn6j"
   },
   "source": [
    "#### Drop duplicate rows from the data -It is on train"
   ]
  },
  {
   "cell_type": "code",
   "execution_count": null,
   "metadata": {
    "colab": {
     "base_uri": "https://localhost:8080/"
    },
    "id": "yybv2J2Yrn6j",
    "outputId": "dff8566d-26a5-4a87-ee59-08ec2a5250fe"
   },
   "outputs": [
    {
     "data": {
      "text/plain": [
       "Index(['Amb_Temperature', 'Exhaust_Vaccum', 'Amb_Pressure', 'Rel_Humidity',\n",
       "       'Target'],\n",
       "      dtype='object')"
      ]
     },
     "execution_count": 10,
     "metadata": {},
     "output_type": "execute_result"
    }
   ],
   "source": [
    "data.columns"
   ]
  },
  {
   "cell_type": "code",
   "execution_count": null,
   "metadata": {
    "colab": {
     "base_uri": "https://localhost:8080/"
    },
    "id": "MTsCTk0Vq4Vv",
    "outputId": "d96b95ad-9c56-443a-a4c8-5a254a695056"
   },
   "outputs": [
    {
     "name": "stdout",
     "output_type": "stream",
     "text": [
      "(9568, 5)\n",
      "(9527, 5)\n"
     ]
    }
   ],
   "source": [
    "# Drop duplicate rows\n",
    "print(data.shape)\n",
    "data_unique=data.drop_duplicates(keep='first')\n",
    "print(data_unique.shape)"
   ]
  },
  {
   "cell_type": "code",
   "execution_count": null,
   "metadata": {
    "colab": {
     "base_uri": "https://localhost:8080/"
    },
    "id": "QYQLL2Oorn6k",
    "outputId": "59f743ba-6452-40c6-f7de-facd85640c0c"
   },
   "outputs": [
    {
     "name": "stdout",
     "output_type": "stream",
     "text": [
      "Index(['Amb_Temperature', 'Exhaust_Vaccum', 'Amb_Pressure', 'Rel_Humidity',\n",
      "       'Target'],\n",
      "      dtype='object')\n",
      "   Amb_Temperature  Exhaust_Vaccum  Amb_Pressure  Rel_Humidity  Target\n",
      "0            14.96           41.76       1024.07         73.17  463.26\n",
      "1            25.18           62.96       1020.04         59.08  444.37\n",
      "Index(['Amb_Temperature', 'Exhaust_Vaccum', 'Amb_Pressure', 'Rel_Humidity',\n",
      "       'Target'],\n",
      "      dtype='object')\n"
     ]
    }
   ],
   "source": [
    "#Drop if you have any constant columns in the data\n",
    "#As this data does not have any column as such \n",
    "data1=data.copy()\n",
    "print(data1.columns)\n",
    "print(data1.head(2))\n",
    "data1=data1.loc[:, (data1 != data1.iloc[0]).any()] #if the column has constant then it will drop the column\n",
    "print(data1.columns)"
   ]
  },
  {
   "cell_type": "markdown",
   "metadata": {
    "id": "qZKd6lcYrn6k"
   },
   "source": [
    "* No constant columns in the data"
   ]
  },
  {
   "cell_type": "markdown",
   "metadata": {
    "id": "ekUpG2QZrn6k"
   },
   "source": [
    "### Check Are there any missing values in the data\n",
    "* In this case there are no missing values. However if we find any missing values in the data, as a rule of thumb\n",
    "* isna()\n",
    "* Drop rows which contains missing values\n",
    "* If required you can impute the value with mean/median/mode/constant - Your choice and based on domain\n",
    "    * Manual imputation by column\n",
    "    * SimpleImputer from sklearn\n",
    "    "
   ]
  },
  {
   "cell_type": "code",
   "execution_count": null,
   "metadata": {
    "colab": {
     "base_uri": "https://localhost:8080/"
    },
    "id": "1-5nmstkrxAG",
    "outputId": "eae86dd4-ff97-4c37-ed19-1c4316effc39"
   },
   "outputs": [
    {
     "data": {
      "text/plain": [
       "Amb_Temperature    0\n",
       "Exhaust_Vaccum     0\n",
       "Amb_Pressure       0\n",
       "Rel_Humidity       0\n",
       "Target             0\n",
       "dtype: int64"
      ]
     },
     "execution_count": 13,
     "metadata": {},
     "output_type": "execute_result"
    }
   ],
   "source": [
    "data.isna().sum()"
   ]
  },
  {
   "cell_type": "markdown",
   "metadata": {
    "id": "ZeO9SWH9rn6l"
   },
   "source": [
    "* No missing values in the data -Hence the following cells are commented out _ If there are any missingvalues- you can prefer one of the following based on % of missing values"
   ]
  },
  {
   "cell_type": "code",
   "execution_count": null,
   "metadata": {
    "id": "1Gu_6bW8rn6l"
   },
   "outputs": [],
   "source": [
    "# Drop rows which contains missing values _ Given data does not have any missing values\n",
    "# print(data1.shape)\n",
    "# data1.dropna(inplace=True)\n",
    "# print(data1.shape)"
   ]
  },
  {
   "cell_type": "code",
   "execution_count": null,
   "metadata": {
    "id": "BSnZ3mA7rn6l"
   },
   "outputs": [],
   "source": [
    "# Manual imputation by column\n",
    "# print(data1.shape)\n",
    "# data1.loc[data1[' '].isna(),' ']=data1[' '].mean() # similarly you can use median,mode"
   ]
  },
  {
   "cell_type": "code",
   "execution_count": null,
   "metadata": {
    "colab": {
     "base_uri": "https://localhost:8080/",
     "height": 386
    },
    "id": "elwzypatrn6l",
    "outputId": "bf06c145-d14e-46b6-c5f3-07e40cadf56c"
   },
   "outputs": [
    {
     "name": "stdout",
     "output_type": "stream",
     "text": [
      "   Amb_Temperature  Exhaust_Vaccum  Amb_Pressure  Rel_Humidity  Target\n",
      "0            14.96           41.76       1024.07         73.17  463.26\n",
      "1            25.18           62.96       1020.04         59.08  444.37\n",
      "2             5.11           39.40       1012.16         92.14  488.56\n",
      "   Amb_Temperature  Exhaust_Vaccum  Amb_Pressure  Rel_Humidity  Target\n",
      "0              NaN           41.76       1024.07         73.17  463.26\n",
      "1            25.18           62.96       1020.04         59.08  444.37\n",
      "2             5.11           39.40       1012.16         92.14  488.56\n",
      "Amb_Temperature    float64\n",
      "Exhaust_Vaccum     float64\n",
      "Amb_Pressure       float64\n",
      "Rel_Humidity       float64\n",
      "Target             float64\n",
      "dtype: object\n"
     ]
    },
    {
     "data": {
      "text/html": [
       "\n",
       "  <div id=\"df-26f10c45-566b-4ef0-9761-e6b8cb5d1023\">\n",
       "    <div class=\"colab-df-container\">\n",
       "      <div>\n",
       "<style scoped>\n",
       "    .dataframe tbody tr th:only-of-type {\n",
       "        vertical-align: middle;\n",
       "    }\n",
       "\n",
       "    .dataframe tbody tr th {\n",
       "        vertical-align: top;\n",
       "    }\n",
       "\n",
       "    .dataframe thead th {\n",
       "        text-align: right;\n",
       "    }\n",
       "</style>\n",
       "<table border=\"1\" class=\"dataframe\">\n",
       "  <thead>\n",
       "    <tr style=\"text-align: right;\">\n",
       "      <th></th>\n",
       "      <th>0</th>\n",
       "      <th>1</th>\n",
       "      <th>2</th>\n",
       "      <th>3</th>\n",
       "      <th>4</th>\n",
       "    </tr>\n",
       "  </thead>\n",
       "  <tbody>\n",
       "    <tr>\n",
       "      <th>0</th>\n",
       "      <td>19.651722</td>\n",
       "      <td>41.76</td>\n",
       "      <td>1024.07</td>\n",
       "      <td>73.17</td>\n",
       "      <td>463.26</td>\n",
       "    </tr>\n",
       "    <tr>\n",
       "      <th>1</th>\n",
       "      <td>25.180000</td>\n",
       "      <td>62.96</td>\n",
       "      <td>1020.04</td>\n",
       "      <td>59.08</td>\n",
       "      <td>444.37</td>\n",
       "    </tr>\n",
       "    <tr>\n",
       "      <th>2</th>\n",
       "      <td>5.110000</td>\n",
       "      <td>39.40</td>\n",
       "      <td>1012.16</td>\n",
       "      <td>92.14</td>\n",
       "      <td>488.56</td>\n",
       "    </tr>\n",
       "  </tbody>\n",
       "</table>\n",
       "</div>\n",
       "      <button class=\"colab-df-convert\" onclick=\"convertToInteractive('df-26f10c45-566b-4ef0-9761-e6b8cb5d1023')\"\n",
       "              title=\"Convert this dataframe to an interactive table.\"\n",
       "              style=\"display:none;\">\n",
       "        \n",
       "  <svg xmlns=\"http://www.w3.org/2000/svg\" height=\"24px\"viewBox=\"0 0 24 24\"\n",
       "       width=\"24px\">\n",
       "    <path d=\"M0 0h24v24H0V0z\" fill=\"none\"/>\n",
       "    <path d=\"M18.56 5.44l.94 2.06.94-2.06 2.06-.94-2.06-.94-.94-2.06-.94 2.06-2.06.94zm-11 1L8.5 8.5l.94-2.06 2.06-.94-2.06-.94L8.5 2.5l-.94 2.06-2.06.94zm10 10l.94 2.06.94-2.06 2.06-.94-2.06-.94-.94-2.06-.94 2.06-2.06.94z\"/><path d=\"M17.41 7.96l-1.37-1.37c-.4-.4-.92-.59-1.43-.59-.52 0-1.04.2-1.43.59L10.3 9.45l-7.72 7.72c-.78.78-.78 2.05 0 2.83L4 21.41c.39.39.9.59 1.41.59.51 0 1.02-.2 1.41-.59l7.78-7.78 2.81-2.81c.8-.78.8-2.07 0-2.86zM5.41 20L4 18.59l7.72-7.72 1.47 1.35L5.41 20z\"/>\n",
       "  </svg>\n",
       "      </button>\n",
       "      \n",
       "  <style>\n",
       "    .colab-df-container {\n",
       "      display:flex;\n",
       "      flex-wrap:wrap;\n",
       "      gap: 12px;\n",
       "    }\n",
       "\n",
       "    .colab-df-convert {\n",
       "      background-color: #E8F0FE;\n",
       "      border: none;\n",
       "      border-radius: 50%;\n",
       "      cursor: pointer;\n",
       "      display: none;\n",
       "      fill: #1967D2;\n",
       "      height: 32px;\n",
       "      padding: 0 0 0 0;\n",
       "      width: 32px;\n",
       "    }\n",
       "\n",
       "    .colab-df-convert:hover {\n",
       "      background-color: #E2EBFA;\n",
       "      box-shadow: 0px 1px 2px rgba(60, 64, 67, 0.3), 0px 1px 3px 1px rgba(60, 64, 67, 0.15);\n",
       "      fill: #174EA6;\n",
       "    }\n",
       "\n",
       "    [theme=dark] .colab-df-convert {\n",
       "      background-color: #3B4455;\n",
       "      fill: #D2E3FC;\n",
       "    }\n",
       "\n",
       "    [theme=dark] .colab-df-convert:hover {\n",
       "      background-color: #434B5C;\n",
       "      box-shadow: 0px 1px 3px 1px rgba(0, 0, 0, 0.15);\n",
       "      filter: drop-shadow(0px 1px 2px rgba(0, 0, 0, 0.3));\n",
       "      fill: #FFFFFF;\n",
       "    }\n",
       "  </style>\n",
       "\n",
       "      <script>\n",
       "        const buttonEl =\n",
       "          document.querySelector('#df-26f10c45-566b-4ef0-9761-e6b8cb5d1023 button.colab-df-convert');\n",
       "        buttonEl.style.display =\n",
       "          google.colab.kernel.accessAllowed ? 'block' : 'none';\n",
       "\n",
       "        async function convertToInteractive(key) {\n",
       "          const element = document.querySelector('#df-26f10c45-566b-4ef0-9761-e6b8cb5d1023');\n",
       "          const dataTable =\n",
       "            await google.colab.kernel.invokeFunction('convertToInteractive',\n",
       "                                                     [key], {});\n",
       "          if (!dataTable) return;\n",
       "\n",
       "          const docLinkHtml = 'Like what you see? Visit the ' +\n",
       "            '<a target=\"_blank\" href=https://colab.research.google.com/notebooks/data_table.ipynb>data table notebook</a>'\n",
       "            + ' to learn more about interactive tables.';\n",
       "          element.innerHTML = '';\n",
       "          dataTable['output_type'] = 'display_data';\n",
       "          await google.colab.output.renderOutput(dataTable, element);\n",
       "          const docLink = document.createElement('div');\n",
       "          docLink.innerHTML = docLinkHtml;\n",
       "          element.appendChild(docLink);\n",
       "        }\n",
       "      </script>\n",
       "    </div>\n",
       "  </div>\n",
       "  "
      ],
      "text/plain": [
       "           0      1        2      3       4\n",
       "0  19.651722  41.76  1024.07  73.17  463.26\n",
       "1  25.180000  62.96  1020.04  59.08  444.37\n",
       "2   5.110000  39.40  1012.16  92.14  488.56"
      ]
     },
     "execution_count": 15,
     "metadata": {},
     "output_type": "execute_result"
    }
   ],
   "source": [
    "# # Using sklearn\n",
    "from sklearn.impute import SimpleImputer\n",
    "data1=data.copy()\n",
    "print(data1.head(3))\n",
    "# As this dataset does not have any missing values - sanity check\n",
    "data1.Amb_Temperature[0]=np.NaN\n",
    "print(data1.head(3))\n",
    "print(data1.dtypes)\n",
    "\n",
    "imp_mean = SimpleImputer(missing_values=np.nan, strategy='mean')\n",
    "\n",
    "pd.DataFrame(imp_mean.fit_transform(data1)).head(3)"
   ]
  },
  {
   "cell_type": "markdown",
   "metadata": {
    "id": "GOQ7K_qmrn6m"
   },
   "source": [
    "### Check the datatype of each varaible \n",
    "* Convert one type to another based on domain and your intution\n",
    "    * Eg: int/float/object to catgerical"
   ]
  },
  {
   "cell_type": "code",
   "execution_count": null,
   "metadata": {
    "colab": {
     "base_uri": "https://localhost:8080/"
    },
    "id": "bQNoaZa-YkHY",
    "outputId": "95806aea-9117-4677-d0fa-117823418dcf"
   },
   "outputs": [
    {
     "data": {
      "text/plain": [
       "Amb_Temperature    float64\n",
       "Exhaust_Vaccum     float64\n",
       "Amb_Pressure       float64\n",
       "Rel_Humidity       float64\n",
       "Target             float64\n",
       "dtype: object"
      ]
     },
     "execution_count": 14,
     "metadata": {},
     "output_type": "execute_result"
    }
   ],
   "source": [
    "data.dtypes"
   ]
  },
  {
   "cell_type": "markdown",
   "metadata": {
    "id": "AE2HiW-6rn6m"
   },
   "source": []
  },
  {
   "cell_type": "markdown",
   "metadata": {
    "id": "AdV-vDbUrn6m"
   },
   "source": []
  },
  {
   "cell_type": "markdown",
   "metadata": {
    "id": "AVu1cKayrn6m"
   },
   "source": [
    "### We are done with majority of data preprocessing \n",
    "* Now we can focus on Data Analysis.\n",
    "* As it is linear regression- \n",
    "    * Check the correlation among varaibles"
   ]
  },
  {
   "cell_type": "code",
   "execution_count": null,
   "metadata": {
    "colab": {
     "base_uri": "https://localhost:8080/",
     "height": 206
    },
    "id": "mM3Ce4oqua5Y",
    "outputId": "a9abc4ec-0846-4805-c248-551280eb118a"
   },
   "outputs": [
    {
     "data": {
      "text/html": [
       "<style type=\"text/css\">\n",
       "#T_3a648_row0_col0, #T_3a648_row1_col1, #T_3a648_row2_col2, #T_3a648_row3_col3, #T_3a648_row4_col4 {\n",
       "  background-color: #b40426;\n",
       "  color: #f1f1f1;\n",
       "}\n",
       "#T_3a648_row0_col1 {\n",
       "  background-color: #d1493f;\n",
       "  color: #f1f1f1;\n",
       "}\n",
       "#T_3a648_row0_col2, #T_3a648_row0_col3, #T_3a648_row0_col4, #T_3a648_row4_col0, #T_3a648_row4_col1 {\n",
       "  background-color: #3b4cc0;\n",
       "  color: #f1f1f1;\n",
       "}\n",
       "#T_3a648_row1_col0 {\n",
       "  background-color: #d0473d;\n",
       "  color: #f1f1f1;\n",
       "}\n",
       "#T_3a648_row1_col2 {\n",
       "  background-color: #4c66d6;\n",
       "  color: #f1f1f1;\n",
       "}\n",
       "#T_3a648_row1_col3 {\n",
       "  background-color: #6a8bef;\n",
       "  color: #f1f1f1;\n",
       "}\n",
       "#T_3a648_row1_col4 {\n",
       "  background-color: #465ecf;\n",
       "  color: #f1f1f1;\n",
       "}\n",
       "#T_3a648_row2_col0 {\n",
       "  background-color: #84a7fc;\n",
       "  color: #f1f1f1;\n",
       "}\n",
       "#T_3a648_row2_col1 {\n",
       "  background-color: #8badfd;\n",
       "  color: #000000;\n",
       "}\n",
       "#T_3a648_row2_col3 {\n",
       "  background-color: #c5d6f2;\n",
       "  color: #000000;\n",
       "}\n",
       "#T_3a648_row2_col4 {\n",
       "  background-color: #f4987a;\n",
       "  color: #000000;\n",
       "}\n",
       "#T_3a648_row3_col0 {\n",
       "  background-color: #7ea1fa;\n",
       "  color: #f1f1f1;\n",
       "}\n",
       "#T_3a648_row3_col1 {\n",
       "  background-color: #9ebeff;\n",
       "  color: #000000;\n",
       "}\n",
       "#T_3a648_row3_col2 {\n",
       "  background-color: #c1d4f4;\n",
       "  color: #000000;\n",
       "}\n",
       "#T_3a648_row3_col4 {\n",
       "  background-color: #f7b194;\n",
       "  color: #000000;\n",
       "}\n",
       "#T_3a648_row4_col2 {\n",
       "  background-color: #f7b396;\n",
       "  color: #000000;\n",
       "}\n",
       "#T_3a648_row4_col3 {\n",
       "  background-color: #f2cab5;\n",
       "  color: #000000;\n",
       "}\n",
       "</style>\n",
       "<table id=\"T_3a648_\" class=\"dataframe\">\n",
       "  <thead>\n",
       "    <tr>\n",
       "      <th class=\"blank level0\" >&nbsp;</th>\n",
       "      <th class=\"col_heading level0 col0\" >Amb_Temperature</th>\n",
       "      <th class=\"col_heading level0 col1\" >Exhaust_Vaccum</th>\n",
       "      <th class=\"col_heading level0 col2\" >Amb_Pressure</th>\n",
       "      <th class=\"col_heading level0 col3\" >Rel_Humidity</th>\n",
       "      <th class=\"col_heading level0 col4\" >Target</th>\n",
       "    </tr>\n",
       "  </thead>\n",
       "  <tbody>\n",
       "    <tr>\n",
       "      <th id=\"T_3a648_level0_row0\" class=\"row_heading level0 row0\" >Amb_Temperature</th>\n",
       "      <td id=\"T_3a648_row0_col0\" class=\"data row0 col0\" >1.000000</td>\n",
       "      <td id=\"T_3a648_row0_col1\" class=\"data row0 col1\" >0.844107</td>\n",
       "      <td id=\"T_3a648_row0_col2\" class=\"data row0 col2\" >-0.507549</td>\n",
       "      <td id=\"T_3a648_row0_col3\" class=\"data row0 col3\" >-0.542535</td>\n",
       "      <td id=\"T_3a648_row0_col4\" class=\"data row0 col4\" >-0.948128</td>\n",
       "    </tr>\n",
       "    <tr>\n",
       "      <th id=\"T_3a648_level0_row1\" class=\"row_heading level0 row1\" >Exhaust_Vaccum</th>\n",
       "      <td id=\"T_3a648_row1_col0\" class=\"data row1 col0\" >0.844107</td>\n",
       "      <td id=\"T_3a648_row1_col1\" class=\"data row1 col1\" >1.000000</td>\n",
       "      <td id=\"T_3a648_row1_col2\" class=\"data row1 col2\" >-0.413502</td>\n",
       "      <td id=\"T_3a648_row1_col3\" class=\"data row1 col3\" >-0.312187</td>\n",
       "      <td id=\"T_3a648_row1_col4\" class=\"data row1 col4\" >-0.869780</td>\n",
       "    </tr>\n",
       "    <tr>\n",
       "      <th id=\"T_3a648_level0_row2\" class=\"row_heading level0 row2\" >Amb_Pressure</th>\n",
       "      <td id=\"T_3a648_row2_col0\" class=\"data row2 col0\" >-0.507549</td>\n",
       "      <td id=\"T_3a648_row2_col1\" class=\"data row2 col1\" >-0.413502</td>\n",
       "      <td id=\"T_3a648_row2_col2\" class=\"data row2 col2\" >1.000000</td>\n",
       "      <td id=\"T_3a648_row2_col3\" class=\"data row2 col3\" >0.099574</td>\n",
       "      <td id=\"T_3a648_row2_col4\" class=\"data row2 col4\" >0.518429</td>\n",
       "    </tr>\n",
       "    <tr>\n",
       "      <th id=\"T_3a648_level0_row3\" class=\"row_heading level0 row3\" >Rel_Humidity</th>\n",
       "      <td id=\"T_3a648_row3_col0\" class=\"data row3 col0\" >-0.542535</td>\n",
       "      <td id=\"T_3a648_row3_col1\" class=\"data row3 col1\" >-0.312187</td>\n",
       "      <td id=\"T_3a648_row3_col2\" class=\"data row3 col2\" >0.099574</td>\n",
       "      <td id=\"T_3a648_row3_col3\" class=\"data row3 col3\" >1.000000</td>\n",
       "      <td id=\"T_3a648_row3_col4\" class=\"data row3 col4\" >0.389794</td>\n",
       "    </tr>\n",
       "    <tr>\n",
       "      <th id=\"T_3a648_level0_row4\" class=\"row_heading level0 row4\" >Target</th>\n",
       "      <td id=\"T_3a648_row4_col0\" class=\"data row4 col0\" >-0.948128</td>\n",
       "      <td id=\"T_3a648_row4_col1\" class=\"data row4 col1\" >-0.869780</td>\n",
       "      <td id=\"T_3a648_row4_col2\" class=\"data row4 col2\" >0.518429</td>\n",
       "      <td id=\"T_3a648_row4_col3\" class=\"data row4 col3\" >0.389794</td>\n",
       "      <td id=\"T_3a648_row4_col4\" class=\"data row4 col4\" >1.000000</td>\n",
       "    </tr>\n",
       "  </tbody>\n",
       "</table>\n"
      ],
      "text/plain": [
       "<pandas.io.formats.style.Styler at 0x7fe19471f690>"
      ]
     },
     "execution_count": 17,
     "metadata": {},
     "output_type": "execute_result"
    }
   ],
   "source": [
    "#data.corr()\n",
    "corr = data.corr()\n",
    "corr.style.background_gradient(cmap='coolwarm')"
   ]
  },
  {
   "cell_type": "markdown",
   "metadata": {
    "id": "uEDUYqYgYkIQ"
   },
   "source": [
    "### Exploratory Data Analysis"
   ]
  },
  {
   "cell_type": "markdown",
   "metadata": {
    "id": "zOQwQrLPYkIR"
   },
   "source": [
    "#### Uni-variate Analysis"
   ]
  },
  {
   "cell_type": "code",
   "execution_count": null,
   "metadata": {
    "colab": {
     "base_uri": "https://localhost:8080/",
     "height": 265
    },
    "id": "DRFsjLYJcaWr",
    "outputId": "7b7306d9-a64d-415d-bb62-471338b391c8"
   },
   "outputs": [
    {
     "data": {
      "image/png": "[encoded data removed]",
      "text/plain": [
       "<Figure size 432x288 with 1 Axes>"
      ]
     },
     "metadata": {
      "needs_background": "light"
     },
     "output_type": "display_data"
    }
   ],
   "source": [
    "# Check the distibution of Age varaible\n",
    "plt.hist(data['Amb_Temperature'])\n",
    "plt.show(True)"
   ]
  },
  {
   "cell_type": "markdown",
   "metadata": {
    "id": "4RXsYm2iYkIX"
   },
   "source": [
    "#### Bi-variate Analysis"
   ]
  },
  {
   "cell_type": "code",
   "execution_count": null,
   "metadata": {
    "colab": {
     "base_uri": "https://localhost:8080/",
     "height": 369
    },
    "id": "idKyMFYjYkIY",
    "outputId": "30743f97-7c90-4859-eda0-700d027b4f8e"
   },
   "outputs": [
    {
     "data": {
      "image/png": "[encoded data removed]",
      "text/plain": [
       "<Figure size 360x360 with 1 Axes>"
      ]
     },
     "metadata": {
      "needs_background": "light"
     },
     "output_type": "display_data"
    }
   ],
   "source": [
    "# Plotting Numeric VS Numeric Data\n",
    "#This function lmplot from seaborn combines regplot() and FacetGrid. \n",
    "#It is intended as a convenient interface to fit regression models across conditional subsets of a dataset.\n",
    "sns.lmplot(x='Amb_Temperature', y='Target', data=data)\n",
    "plt.show()"
   ]
  },
  {
   "cell_type": "markdown",
   "metadata": {
    "id": "aRMho9GNrn6o"
   },
   "source": [
    "### Split the data in to train and test"
   ]
  },
  {
   "cell_type": "code",
   "execution_count": null,
   "metadata": {
    "colab": {
     "base_uri": "https://localhost:8080/"
    },
    "id": "0I0Mma8mrn6o",
    "outputId": "ca442d1a-e19f-434a-f5c6-b31dd96a92c3"
   },
   "outputs": [
    {
     "name": "stdout",
     "output_type": "stream",
     "text": [
      "traindata (6697, 5)\n",
      "testdata (2871, 5)\n"
     ]
    }
   ],
   "source": [
    "from sklearn.model_selection import train_test_split\n",
    "traindata,testdata=train_test_split(data,random_state=30,test_size=0.3)\n",
    "print(\"traindata\",traindata.shape)\n",
    "print(\"testdata\",testdata.shape)"
   ]
  },
  {
   "cell_type": "markdown",
   "metadata": {
    "id": "rt2jGL2RYkKH"
   },
   "source": [
    "## Building a Linear  Regression  - using sklearn \n",
    "#### Most of the algorithms in the this modules need data to be in the numeric format"
   ]
  },
  {
   "cell_type": "code",
   "execution_count": null,
   "metadata": {
    "colab": {
     "base_uri": "https://localhost:8080/"
    },
    "id": "oOdGCSZUrn6o",
    "outputId": "6e8e9158-273f-410b-e5bc-7c40b10c3280"
   },
   "outputs": [
    {
     "name": "stdout",
     "output_type": "stream",
     "text": [
      "Index(['Amb_Temperature', 'Exhaust_Vaccum', 'Amb_Pressure', 'Rel_Humidity',\n",
      "       'Target'],\n",
      "      dtype='object')\n",
      "['Exhaust_Vaccum', 'Amb_Temperature', 'Amb_Pressure', 'Rel_Humidity']\n"
     ]
    }
   ],
   "source": [
    "print(data.columns)\n",
    "ind_atr=list(set(data.columns)-set(['Target']))\n",
    "print(ind_atr)"
   ]
  },
  {
   "cell_type": "code",
   "execution_count": null,
   "metadata": {
    "id": "0iZCapUrYkKb"
   },
   "outputs": [],
   "source": [
    "from sklearn.linear_model import LinearRegression\n",
    "linreg=LinearRegression()\n",
    "res_sklearn=linreg.fit(traindata[ind_atr],traindata['Target'])"
   ]
  },
  {
   "cell_type": "code",
   "execution_count": null,
   "metadata": {
    "colab": {
     "base_uri": "https://localhost:8080/"
    },
    "id": "KaDSj8kXrn6p",
    "outputId": "d41910f3-3cc3-4a8d-a4ca-3ae797623edc"
   },
   "outputs": [
    {
     "name": "stdout",
     "output_type": "stream",
     "text": [
      "[-0.23122333 -1.97427171  0.06650276 -0.15922773]\n",
      "449.94176591617116\n"
     ]
    }
   ],
   "source": [
    "print(res_sklearn.coef_)\n",
    "print(res_sklearn.intercept_)"
   ]
  },
  {
   "cell_type": "code",
   "execution_count": null,
   "metadata": {
    "id": "j3Ncb6aNYkKd"
   },
   "outputs": [],
   "source": [
    "preds_train_sklearn=res_sklearn.predict(traindata[ind_atr])\n",
    "preds_test_sklearn=res_sklearn.predict(testdata[ind_atr])"
   ]
  },
  {
   "cell_type": "code",
   "execution_count": null,
   "metadata": {
    "id": "tncfWOKzrn6p"
   },
   "outputs": [],
   "source": [
    "#To compute mean absolute percentage error\n",
    "def mape(actual,predicted):\n",
    "    r=np.mean(abs(actual-predicted)/actual)*100\n",
    "    return r "
   ]
  },
  {
   "cell_type": "code",
   "execution_count": null,
   "metadata": {
    "id": "V5JQN6Uarn6p"
   },
   "outputs": [],
   "source": [
    "#To compute Root mean squared error\n",
    "def rmse(actual,predicted):\n",
    "    r=np.sqrt((np.mean((actual-predicted)**2)))\n",
    "    return r   "
   ]
  },
  {
   "cell_type": "code",
   "execution_count": null,
   "metadata": {
    "colab": {
     "base_uri": "https://localhost:8080/"
    },
    "id": "xJxj8wO6rn6p",
    "outputId": "f47fef01-99ef-4444-cfbc-644f116e63f5"
   },
   "outputs": [
    {
     "name": "stdout",
     "output_type": "stream",
     "text": [
      "The Mean Absolute Error on train data is: 3.6398359461191214\n",
      "The Mean Absolute Error on test data is: 3.6005456420176047\n",
      "The Mean Absolute Percentage Error on train data is:  0.8027165968260284\n",
      "The Mean Absolute Percentage Error on test data is:  0.7933325040658884\n",
      "The Mean Squared Error on train data is:  21.10238757312769\n",
      "The Mean Squared Error on test data is:  20.01171384252855\n",
      "The Root Mean Squared Error on test data is:  4.5937335113312505\n",
      "The Root Mean Squared Error on train data is:  4.473445410701746\n"
     ]
    }
   ],
   "source": [
    "from sklearn.metrics import mean_absolute_error,mean_squared_error\n",
    "\n",
    "m1=mean_absolute_error(traindata['Target'],preds_train_sklearn)\n",
    "m2=mean_absolute_error(testdata['Target'],preds_test_sklearn)\n",
    "\n",
    "print( \"The Mean Absolute Error on train data is:\",m1)\n",
    "print( \"The Mean Absolute Error on test data is:\",m2)\n",
    "\n",
    "\n",
    "m3=mape(traindata['Target'],preds_train_sklearn)\n",
    "m4=mape(testdata['Target'],preds_test_sklearn)\n",
    "print(\"The Mean Absolute Percentage Error on train data is: \",m3)\n",
    "print(\"The Mean Absolute Percentage Error on test data is: \",m4)\n",
    "\n",
    "m5=mean_squared_error(traindata['Target'],preds_train_sklearn)\n",
    "m6=mean_squared_error(testdata['Target'],preds_test_sklearn)\n",
    "print(\"The Mean Squared Error on train data is: \",m5)\n",
    "print(\"The Mean Squared Error on test data is: \",m6)\n",
    "\n",
    "m7=rmse(traindata['Target'],preds_train_sklearn)\n",
    "m8=rmse(testdata['Target'],preds_test_sklearn)\n",
    "print(\"The Root Mean Squared Error on test data is: \",m7)\n",
    "print(\"The Root Mean Squared Error on train data is: \",m8)"
   ]
  },
  {
   "cell_type": "code",
   "execution_count": null,
   "metadata": {
    "id": "Meq6jL7grn6q"
   },
   "outputs": [],
   "source": [
    "#Empty Cell"
   ]
  },
  {
   "cell_type": "code",
   "execution_count": null,
   "metadata": {
    "id": "ZUvR76Xnrn6r"
   },
   "outputs": [],
   "source": []
  },
  {
   "cell_type": "markdown",
   "metadata": {
    "id": "1pAPOaMaYkIh"
   },
   "source": [
    "## Building a Linear Model using stats package\n",
    "* Using OLS method from stats\n",
    "* Using Lienar Regression from Sklearn"
   ]
  },
  {
   "cell_type": "markdown",
   "metadata": {
    "id": "T3KmXnVGYkIz"
   },
   "source": [
    "#### Model fit and summary"
   ]
  },
  {
   "cell_type": "markdown",
   "metadata": {
    "id": "9ieidC9kYkIz"
   },
   "source": [
    "Fitting a model in statsmodels typically involves 3 easy steps:\n",
    "\n",
    "    Use the model class to describe the model\n",
    "    Fit the model using a class method\n",
    "    Inspect the results using a summary method\n"
   ]
  },
  {
   "cell_type": "code",
   "execution_count": null,
   "metadata": {
    "id": "nCqyleG-rn6s"
   },
   "outputs": [],
   "source": [
    "Xtrain,Xtest=traindata[ind_atr],testdata[ind_atr]\n",
    "Xtrain1=sm.add_constant(Xtrain,prepend=False)\n",
    "Xtest1=sm.add_constant(Xtest,prepend=False)\n",
    "ytrain=traindata['Target']\n",
    "linregmod=sm.OLS(ytrain,Xtrain1).fit()"
   ]
  },
  {
   "cell_type": "code",
   "execution_count": null,
   "metadata": {
    "colab": {
     "base_uri": "https://localhost:8080/",
     "height": 386
    },
    "id": "FUBF8PIwrn6s",
    "outputId": "d8dbae7a-d953-4a60-ba41-934eecdd42ed"
   },
   "outputs": [
    {
     "data": {
      "text/html": [
       "<table class=\"simpletable\">\n",
       "<tr>\n",
       "        <td>Model:</td>               <td>OLS</td>         <td>Adj. R-squared:</td>      <td>0.927</td>  \n",
       "</tr>\n",
       "<tr>\n",
       "  <td>Dependent Variable:</td>      <td>Target</td>             <td>AIC:</td>         <td>39437.0020</td>\n",
       "</tr>\n",
       "<tr>\n",
       "         <td>Date:</td>        <td>2022-05-10 12:04</td>        <td>BIC:</td>         <td>39471.0491</td>\n",
       "</tr>\n",
       "<tr>\n",
       "   <td>No. Observations:</td>        <td>6697</td>         <td>Log-Likelihood:</td>     <td>-19714.</td> \n",
       "</tr>\n",
       "<tr>\n",
       "       <td>Df Model:</td>              <td>4</td>           <td>F-statistic:</td>      <td>2.126e+04</td>\n",
       "</tr>\n",
       "<tr>\n",
       "     <td>Df Residuals:</td>          <td>6692</td>       <td>Prob (F-statistic):</td>    <td>0.00</td>   \n",
       "</tr>\n",
       "<tr>\n",
       "      <td>R-squared:</td>            <td>0.927</td>            <td>Scale:</td>          <td>21.118</td>  \n",
       "</tr>\n",
       "</table>\n",
       "<table class=\"simpletable\">\n",
       "<tr>\n",
       "         <td></td>           <th>Coef.</th>  <th>Std.Err.</th>     <th>t</th>      <th>P>|t|</th>  <th>[0.025</th>   <th>0.975]</th> \n",
       "</tr>\n",
       "<tr>\n",
       "  <th>Exhaust_Vaccum</th>   <td>-0.2312</td>  <td>0.0087</td>  <td>-26.4768</td>  <td>0.0000</td>  <td>-0.2483</td>  <td>-0.2141</td>\n",
       "</tr>\n",
       "<tr>\n",
       "  <th>Amb_Temperature</th>  <td>-1.9743</td>  <td>0.0184</td>  <td>-107.1452</td> <td>0.0000</td>  <td>-2.0104</td>  <td>-1.9382</td>\n",
       "</tr>\n",
       "<tr>\n",
       "  <th>Amb_Pressure</th>     <td>0.0665</td>   <td>0.0113</td>   <td>5.8712</td>   <td>0.0000</td>  <td>0.0443</td>   <td>0.0887</td> \n",
       "</tr>\n",
       "<tr>\n",
       "  <th>Rel_Humidity</th>     <td>-0.1592</td>  <td>0.0050</td>  <td>-31.6776</td>  <td>0.0000</td>  <td>-0.1691</td>  <td>-0.1494</td>\n",
       "</tr>\n",
       "<tr>\n",
       "  <th>const</th>           <td>449.9418</td>  <td>11.6774</td>  <td>38.5309</td>  <td>0.0000</td> <td>427.0503</td> <td>472.8333</td>\n",
       "</tr>\n",
       "</table>\n",
       "<table class=\"simpletable\">\n",
       "<tr>\n",
       "     <td>Omnibus:</td>    <td>778.778</td>  <td>Durbin-Watson:</td>     <td>2.036</td> \n",
       "</tr>\n",
       "<tr>\n",
       "  <td>Prob(Omnibus):</td>  <td>0.000</td>  <td>Jarque-Bera (JB):</td> <td>4169.398</td>\n",
       "</tr>\n",
       "<tr>\n",
       "       <td>Skew:</td>     <td>-0.432</td>      <td>Prob(JB):</td>       <td>0.000</td> \n",
       "</tr>\n",
       "<tr>\n",
       "     <td>Kurtosis:</td>    <td>6.768</td>   <td>Condition No.:</td>    <td>211614</td> \n",
       "</tr>\n",
       "</table>"
      ],
      "text/plain": [
       "<class 'statsmodels.iolib.summary2.Summary'>\n",
       "\"\"\"\n",
       "                  Results: Ordinary least squares\n",
       "====================================================================\n",
       "Model:               OLS              Adj. R-squared:     0.927     \n",
       "Dependent Variable:  Target           AIC:                39437.0020\n",
       "Date:                2022-05-10 12:04 BIC:                39471.0491\n",
       "No. Observations:    6697             Log-Likelihood:     -19714.   \n",
       "Df Model:            4                F-statistic:        2.126e+04 \n",
       "Df Residuals:        6692             Prob (F-statistic): 0.00      \n",
       "R-squared:           0.927            Scale:              21.118    \n",
       "--------------------------------------------------------------------\n",
       "                 Coef.   Std.Err.     t     P>|t|   [0.025   0.975] \n",
       "--------------------------------------------------------------------\n",
       "Exhaust_Vaccum   -0.2312   0.0087  -26.4768 0.0000  -0.2483  -0.2141\n",
       "Amb_Temperature  -1.9743   0.0184 -107.1452 0.0000  -2.0104  -1.9382\n",
       "Amb_Pressure      0.0665   0.0113    5.8712 0.0000   0.0443   0.0887\n",
       "Rel_Humidity     -0.1592   0.0050  -31.6776 0.0000  -0.1691  -0.1494\n",
       "const           449.9418  11.6774   38.5309 0.0000 427.0503 472.8333\n",
       "--------------------------------------------------------------------\n",
       "Omnibus:              778.778       Durbin-Watson:          2.036   \n",
       "Prob(Omnibus):        0.000         Jarque-Bera (JB):       4169.398\n",
       "Skew:                 -0.432        Prob(JB):               0.000   \n",
       "Kurtosis:             6.768         Condition No.:          211614  \n",
       "====================================================================\n",
       "* The condition number is large (2e+05). This might indicate\n",
       "strong multicollinearity or other numerical problems.\n",
       "\"\"\""
      ]
     },
     "execution_count": 30,
     "metadata": {},
     "output_type": "execute_result"
    }
   ],
   "source": [
    "linregmod.summary2()"
   ]
  },
  {
   "cell_type": "code",
   "execution_count": null,
   "metadata": {
    "colab": {
     "base_uri": "https://localhost:8080/"
    },
    "id": "y_Nawdpirn6s",
    "outputId": "57bfb91c-9720-4548-9293-07b180dcc080"
   },
   "outputs": [
    {
     "name": "stdout",
     "output_type": "stream",
     "text": [
      "*******************\n",
      "Coeficient values: Exhaust_Vaccum      -0.231223\n",
      "Amb_Temperature     -1.974272\n",
      "Amb_Pressure         0.066503\n",
      "Rel_Humidity        -0.159228\n",
      "const              449.941766\n",
      "dtype: float64\n",
      "R square: 0.9270538228435027\n",
      "Adjusted R square: 0.9270102208248796\n",
      "*******************\n",
      "tvalue of the coefficients: Exhaust_Vaccum     -26.476813\n",
      "Amb_Temperature   -107.145209\n",
      "Amb_Pressure         5.871191\n",
      "Rel_Humidity       -31.677639\n",
      "const               38.530867\n",
      "dtype: float64\n",
      "pvalue of the coefficients: Exhaust_Vaccum     5.393798e-147\n",
      "Amb_Temperature     0.000000e+00\n",
      "Amb_Pressure        4.533963e-09\n",
      "Rel_Humidity       2.499669e-205\n",
      "const              1.570845e-293\n",
      "dtype: float64\n",
      "**************** End of model********************\n"
     ]
    }
   ],
   "source": [
    "print(\"*******************\")\n",
    "print(\"Coeficient values:\",linregmod.params)\n",
    "    \n",
    "print(\"R square:\",linregmod.rsquared)\n",
    "print(\"Adjusted R square:\",linregmod.rsquared_adj)\n",
    "print(\"*******************\")\n",
    "print(\"tvalue of the coefficients:\",linregmod.tvalues)\n",
    "\n",
    "print(\"pvalue of the coefficients:\",linregmod.pvalues)\n",
    "print(\"**************** End of model********************\")"
   ]
  },
  {
   "cell_type": "code",
   "execution_count": null,
   "metadata": {
    "id": "7K0Cf78uYkJM"
   },
   "outputs": [],
   "source": [
    "#Lets use variance inflation factor (VIF) to understand if there exist a multicollinearity and remove those attributes\n",
    "from statsmodels.stats.outliers_influence import variance_inflation_factor\n",
    "Xdata=traindata[ind_atr]\n",
    "Xdata['intercept']=1\n",
    "\n",
    "vif=pd.DataFrame()\n",
    "vif['Vif']=[variance_inflation_factor(Xdata.values,i) for i in range(Xdata.shape[1])]\n",
    "vif['Variables']=Xdata.columns.values"
   ]
  },
  {
   "cell_type": "code",
   "execution_count": null,
   "metadata": {
    "colab": {
     "base_uri": "https://localhost:8080/",
     "height": 206
    },
    "id": "LVGL1smkYkJO",
    "outputId": "921fc796-0704-4a45-e446-897e77c07c8c"
   },
   "outputs": [
    {
     "data": {
      "text/html": [
       "\n",
       "  <div id=\"df-42cff208-60d2-413b-bfa1-ae00548341a9\">\n",
       "    <div class=\"colab-df-container\">\n",
       "      <div>\n",
       "<style scoped>\n",
       "    .dataframe tbody tr th:only-of-type {\n",
       "        vertical-align: middle;\n",
       "    }\n",
       "\n",
       "    .dataframe tbody tr th {\n",
       "        vertical-align: top;\n",
       "    }\n",
       "\n",
       "    .dataframe thead th {\n",
       "        text-align: right;\n",
       "    }\n",
       "</style>\n",
       "<table border=\"1\" class=\"dataframe\">\n",
       "  <thead>\n",
       "    <tr style=\"text-align: right;\">\n",
       "      <th></th>\n",
       "      <th>Vif</th>\n",
       "      <th>Variables</th>\n",
       "    </tr>\n",
       "  </thead>\n",
       "  <tbody>\n",
       "    <tr>\n",
       "      <th>0</th>\n",
       "      <td>3.908776</td>\n",
       "      <td>Exhaust_Vaccum</td>\n",
       "    </tr>\n",
       "    <tr>\n",
       "      <th>1</th>\n",
       "      <td>5.973101</td>\n",
       "      <td>Amb_Temperature</td>\n",
       "    </tr>\n",
       "    <tr>\n",
       "      <th>2</th>\n",
       "      <td>1.455897</td>\n",
       "      <td>Amb_Pressure</td>\n",
       "    </tr>\n",
       "    <tr>\n",
       "      <th>3</th>\n",
       "      <td>1.724133</td>\n",
       "      <td>Rel_Humidity</td>\n",
       "    </tr>\n",
       "    <tr>\n",
       "      <th>4</th>\n",
       "      <td>43243.357095</td>\n",
       "      <td>intercept</td>\n",
       "    </tr>\n",
       "  </tbody>\n",
       "</table>\n",
       "</div>\n",
       "      <button class=\"colab-df-convert\" onclick=\"convertToInteractive('df-42cff208-60d2-413b-bfa1-ae00548341a9')\"\n",
       "              title=\"Convert this dataframe to an interactive table.\"\n",
       "              style=\"display:none;\">\n",
       "        \n",
       "  <svg xmlns=\"http://www.w3.org/2000/svg\" height=\"24px\"viewBox=\"0 0 24 24\"\n",
       "       width=\"24px\">\n",
       "    <path d=\"M0 0h24v24H0V0z\" fill=\"none\"/>\n",
       "    <path d=\"M18.56 5.44l.94 2.06.94-2.06 2.06-.94-2.06-.94-.94-2.06-.94 2.06-2.06.94zm-11 1L8.5 8.5l.94-2.06 2.06-.94-2.06-.94L8.5 2.5l-.94 2.06-2.06.94zm10 10l.94 2.06.94-2.06 2.06-.94-2.06-.94-.94-2.06-.94 2.06-2.06.94z\"/><path d=\"M17.41 7.96l-1.37-1.37c-.4-.4-.92-.59-1.43-.59-.52 0-1.04.2-1.43.59L10.3 9.45l-7.72 7.72c-.78.78-.78 2.05 0 2.83L4 21.41c.39.39.9.59 1.41.59.51 0 1.02-.2 1.41-.59l7.78-7.78 2.81-2.81c.8-.78.8-2.07 0-2.86zM5.41 20L4 18.59l7.72-7.72 1.47 1.35L5.41 20z\"/>\n",
       "  </svg>\n",
       "      </button>\n",
       "      \n",
       "  <style>\n",
       "    .colab-df-container {\n",
       "      display:flex;\n",
       "      flex-wrap:wrap;\n",
       "      gap: 12px;\n",
       "    }\n",
       "\n",
       "    .colab-df-convert {\n",
       "      background-color: #E8F0FE;\n",
       "      border: none;\n",
       "      border-radius: 50%;\n",
       "      cursor: pointer;\n",
       "      display: none;\n",
       "      fill: #1967D2;\n",
       "      height: 32px;\n",
       "      padding: 0 0 0 0;\n",
       "      width: 32px;\n",
       "    }\n",
       "\n",
       "    .colab-df-convert:hover {\n",
       "      background-color: #E2EBFA;\n",
       "      box-shadow: 0px 1px 2px rgba(60, 64, 67, 0.3), 0px 1px 3px 1px rgba(60, 64, 67, 0.15);\n",
       "      fill: #174EA6;\n",
       "    }\n",
       "\n",
       "    [theme=dark] .colab-df-convert {\n",
       "      background-color: #3B4455;\n",
       "      fill: #D2E3FC;\n",
       "    }\n",
       "\n",
       "    [theme=dark] .colab-df-convert:hover {\n",
       "      background-color: #434B5C;\n",
       "      box-shadow: 0px 1px 3px 1px rgba(0, 0, 0, 0.15);\n",
       "      filter: drop-shadow(0px 1px 2px rgba(0, 0, 0, 0.3));\n",
       "      fill: #FFFFFF;\n",
       "    }\n",
       "  </style>\n",
       "\n",
       "      <script>\n",
       "        const buttonEl =\n",
       "          document.querySelector('#df-42cff208-60d2-413b-bfa1-ae00548341a9 button.colab-df-convert');\n",
       "        buttonEl.style.display =\n",
       "          google.colab.kernel.accessAllowed ? 'block' : 'none';\n",
       "\n",
       "        async function convertToInteractive(key) {\n",
       "          const element = document.querySelector('#df-42cff208-60d2-413b-bfa1-ae00548341a9');\n",
       "          const dataTable =\n",
       "            await google.colab.kernel.invokeFunction('convertToInteractive',\n",
       "                                                     [key], {});\n",
       "          if (!dataTable) return;\n",
       "\n",
       "          const docLinkHtml = 'Like what you see? Visit the ' +\n",
       "            '<a target=\"_blank\" href=https://colab.research.google.com/notebooks/data_table.ipynb>data table notebook</a>'\n",
       "            + ' to learn more about interactive tables.';\n",
       "          element.innerHTML = '';\n",
       "          dataTable['output_type'] = 'display_data';\n",
       "          await google.colab.output.renderOutput(dataTable, element);\n",
       "          const docLink = document.createElement('div');\n",
       "          docLink.innerHTML = docLinkHtml;\n",
       "          element.appendChild(docLink);\n",
       "        }\n",
       "      </script>\n",
       "    </div>\n",
       "  </div>\n",
       "  "
      ],
      "text/plain": [
       "            Vif        Variables\n",
       "0      3.908776   Exhaust_Vaccum\n",
       "1      5.973101  Amb_Temperature\n",
       "2      1.455897     Amb_Pressure\n",
       "3      1.724133     Rel_Humidity\n",
       "4  43243.357095        intercept"
      ]
     },
     "execution_count": 33,
     "metadata": {},
     "output_type": "execute_result"
    }
   ],
   "source": [
    "vif"
   ]
  },
  {
   "cell_type": "markdown",
   "metadata": {
    "id": "SlGxBGf0rn6t"
   },
   "source": [
    "* Drop If there are any variables with VIF>5 and repeat the model building"
   ]
  },
  {
   "cell_type": "markdown",
   "metadata": {
    "id": "Pd_RhD6YYkJj"
   },
   "source": [
    "##### Evaluating model performance"
   ]
  },
  {
   "cell_type": "code",
   "execution_count": null,
   "metadata": {
    "colab": {
     "base_uri": "https://localhost:8080/"
    },
    "id": "Ad_TxXivYkJk",
    "outputId": "a46e2f92-576b-4e89-c482-7c705b867a77"
   },
   "outputs": [
    {
     "name": "stdout",
     "output_type": "stream",
     "text": [
      "The Mean Absolute Error on train data is: 3.6398359461191965\n",
      "The Mean Absolute Error on test data is: 3.600545642017616\n"
     ]
    }
   ],
   "source": [
    "from sklearn.metrics import mean_absolute_error,mean_squared_error    \n",
    "trainpreds=linregmod.fittedvalues\n",
    "testpreds=linregmod.predict(Xtest1)\n",
    "\n",
    "m1=mean_absolute_error(traindata['Target'],trainpreds)\n",
    "m2=mean_absolute_error(testdata['Target'],testpreds)\n",
    "print( \"The Mean Absolute Error on train data is:\",m1)\n",
    "print( \"The Mean Absolute Error on test data is:\",m2)"
   ]
  },
  {
   "cell_type": "code",
   "execution_count": null,
   "metadata": {
    "colab": {
     "base_uri": "https://localhost:8080/"
    },
    "id": "BQQ9-SwPYkJn",
    "outputId": "9bf892e3-f340-41ba-dd9f-abfcd2b8e9a0"
   },
   "outputs": [
    {
     "name": "stdout",
     "output_type": "stream",
     "text": [
      "The Mean Absolute Percentage Error on train data is:  0.8027165968260457\n",
      "The Mean Absolute Percentage Error on test data is:  0.7933325040658927\n"
     ]
    }
   ],
   "source": [
    "#mean absolute percentage error\n",
    "m3=mape(traindata[\"Target\"],trainpreds)\n",
    "m4=mape(testdata[\"Target\"],testpreds)\n",
    "print(\"The Mean Absolute Percentage Error on train data is: \",m3)\n",
    "print(\"The Mean Absolute Percentage Error on test data is: \",m4)"
   ]
  },
  {
   "cell_type": "code",
   "execution_count": null,
   "metadata": {
    "colab": {
     "base_uri": "https://localhost:8080/"
    },
    "id": "VxbaSUeOYkJp",
    "outputId": "460fa2cf-e0dd-4205-bfe3-8bde03199d4a"
   },
   "outputs": [
    {
     "name": "stdout",
     "output_type": "stream",
     "text": [
      "The Mean Squared Error on train data is:  21.10238757312769\n",
      "The Mean Squared Error on test data is:  20.011713842527765\n"
     ]
    }
   ],
   "source": [
    "#Compute mean squared error\n",
    "m5=mean_squared_error(traindata[\"Target\"],trainpreds)\n",
    "m6=mean_squared_error(testdata[\"Target\"],testpreds)\n",
    "print(\"The Mean Squared Error on train data is: \",m5)\n",
    "print(\"The Mean Squared Error on test data is: \",m6)"
   ]
  },
  {
   "cell_type": "code",
   "execution_count": null,
   "metadata": {
    "colab": {
     "base_uri": "https://localhost:8080/"
    },
    "id": "wxzKkZjnYkJt",
    "outputId": "23eee334-145e-47e6-9cf8-5979a2cf98ed"
   },
   "outputs": [
    {
     "name": "stdout",
     "output_type": "stream",
     "text": [
      "The Root Mean Squared Error on test data is:  4.593733511331241\n",
      "The Root Mean Squared Error on train data is:  4.473445410701657\n"
     ]
    }
   ],
   "source": [
    "#Compute Root mean squared error\n",
    "m7=rmse(traindata[\"Target\"],trainpreds)\n",
    "m8=rmse(testdata[\"Target\"],testpreds)\n",
    "print(\"The Root Mean Squared Error on test data is: \",m7)\n",
    "print(\"The Root Mean Squared Error on train data is: \",m8)"
   ]
  },
  {
   "cell_type": "code",
   "execution_count": null,
   "metadata": {
    "colab": {
     "base_uri": "https://localhost:8080/",
     "height": 81
    },
    "id": "k3G2d0xJrn6u",
    "outputId": "f9aa3157-3f30-4fee-9c20-9e602eae2da5"
   },
   "outputs": [
    {
     "data": {
      "text/html": [
       "\n",
       "  <div id=\"df-91aae017-2708-4b40-8da2-6388ff1e5c79\">\n",
       "    <div class=\"colab-df-container\">\n",
       "      <div>\n",
       "<style scoped>\n",
       "    .dataframe tbody tr th:only-of-type {\n",
       "        vertical-align: middle;\n",
       "    }\n",
       "\n",
       "    .dataframe tbody tr th {\n",
       "        vertical-align: top;\n",
       "    }\n",
       "\n",
       "    .dataframe thead th {\n",
       "        text-align: right;\n",
       "    }\n",
       "</style>\n",
       "<table border=\"1\" class=\"dataframe\">\n",
       "  <thead>\n",
       "    <tr style=\"text-align: right;\">\n",
       "      <th></th>\n",
       "      <th>Experiment</th>\n",
       "      <th>traindata</th>\n",
       "      <th>Mae</th>\n",
       "      <th>Mape</th>\n",
       "      <th>Mse</th>\n",
       "      <th>Rmse</th>\n",
       "    </tr>\n",
       "  </thead>\n",
       "  <tbody>\n",
       "    <tr>\n",
       "      <th>0</th>\n",
       "      <td>base</td>\n",
       "      <td>1</td>\n",
       "      <td>3.639836</td>\n",
       "      <td>0.802717</td>\n",
       "      <td>21.102388</td>\n",
       "      <td>4.593734</td>\n",
       "    </tr>\n",
       "  </tbody>\n",
       "</table>\n",
       "</div>\n",
       "      <button class=\"colab-df-convert\" onclick=\"convertToInteractive('df-91aae017-2708-4b40-8da2-6388ff1e5c79')\"\n",
       "              title=\"Convert this dataframe to an interactive table.\"\n",
       "              style=\"display:none;\">\n",
       "        \n",
       "  <svg xmlns=\"http://www.w3.org/2000/svg\" height=\"24px\"viewBox=\"0 0 24 24\"\n",
       "       width=\"24px\">\n",
       "    <path d=\"M0 0h24v24H0V0z\" fill=\"none\"/>\n",
       "    <path d=\"M18.56 5.44l.94 2.06.94-2.06 2.06-.94-2.06-.94-.94-2.06-.94 2.06-2.06.94zm-11 1L8.5 8.5l.94-2.06 2.06-.94-2.06-.94L8.5 2.5l-.94 2.06-2.06.94zm10 10l.94 2.06.94-2.06 2.06-.94-2.06-.94-.94-2.06-.94 2.06-2.06.94z\"/><path d=\"M17.41 7.96l-1.37-1.37c-.4-.4-.92-.59-1.43-.59-.52 0-1.04.2-1.43.59L10.3 9.45l-7.72 7.72c-.78.78-.78 2.05 0 2.83L4 21.41c.39.39.9.59 1.41.59.51 0 1.02-.2 1.41-.59l7.78-7.78 2.81-2.81c.8-.78.8-2.07 0-2.86zM5.41 20L4 18.59l7.72-7.72 1.47 1.35L5.41 20z\"/>\n",
       "  </svg>\n",
       "      </button>\n",
       "      \n",
       "  <style>\n",
       "    .colab-df-container {\n",
       "      display:flex;\n",
       "      flex-wrap:wrap;\n",
       "      gap: 12px;\n",
       "    }\n",
       "\n",
       "    .colab-df-convert {\n",
       "      background-color: #E8F0FE;\n",
       "      border: none;\n",
       "      border-radius: 50%;\n",
       "      cursor: pointer;\n",
       "      display: none;\n",
       "      fill: #1967D2;\n",
       "      height: 32px;\n",
       "      padding: 0 0 0 0;\n",
       "      width: 32px;\n",
       "    }\n",
       "\n",
       "    .colab-df-convert:hover {\n",
       "      background-color: #E2EBFA;\n",
       "      box-shadow: 0px 1px 2px rgba(60, 64, 67, 0.3), 0px 1px 3px 1px rgba(60, 64, 67, 0.15);\n",
       "      fill: #174EA6;\n",
       "    }\n",
       "\n",
       "    [theme=dark] .colab-df-convert {\n",
       "      background-color: #3B4455;\n",
       "      fill: #D2E3FC;\n",
       "    }\n",
       "\n",
       "    [theme=dark] .colab-df-convert:hover {\n",
       "      background-color: #434B5C;\n",
       "      box-shadow: 0px 1px 3px 1px rgba(0, 0, 0, 0.15);\n",
       "      filter: drop-shadow(0px 1px 2px rgba(0, 0, 0, 0.3));\n",
       "      fill: #FFFFFF;\n",
       "    }\n",
       "  </style>\n",
       "\n",
       "      <script>\n",
       "        const buttonEl =\n",
       "          document.querySelector('#df-91aae017-2708-4b40-8da2-6388ff1e5c79 button.colab-df-convert');\n",
       "        buttonEl.style.display =\n",
       "          google.colab.kernel.accessAllowed ? 'block' : 'none';\n",
       "\n",
       "        async function convertToInteractive(key) {\n",
       "          const element = document.querySelector('#df-91aae017-2708-4b40-8da2-6388ff1e5c79');\n",
       "          const dataTable =\n",
       "            await google.colab.kernel.invokeFunction('convertToInteractive',\n",
       "                                                     [key], {});\n",
       "          if (!dataTable) return;\n",
       "\n",
       "          const docLinkHtml = 'Like what you see? Visit the ' +\n",
       "            '<a target=\"_blank\" href=https://colab.research.google.com/notebooks/data_table.ipynb>data table notebook</a>'\n",
       "            + ' to learn more about interactive tables.';\n",
       "          element.innerHTML = '';\n",
       "          dataTable['output_type'] = 'display_data';\n",
       "          await google.colab.output.renderOutput(dataTable, element);\n",
       "          const docLink = document.createElement('div');\n",
       "          docLink.innerHTML = docLinkHtml;\n",
       "          element.appendChild(docLink);\n",
       "        }\n",
       "      </script>\n",
       "    </div>\n",
       "  </div>\n",
       "  "
      ],
      "text/plain": [
       "  Experiment  traindata       Mae      Mape        Mse      Rmse\n",
       "0       base          1  3.639836  0.802717  21.102388  4.593734"
      ]
     },
     "execution_count": 38,
     "metadata": {},
     "output_type": "execute_result"
    }
   ],
   "source": [
    "data_metrics=pd.DataFrame({\"Experiment\":\"base\",\"traindata\":1,\"Mae\":m1,\"Mape\":m3,\"Mse\":m5,\"Rmse\":m7},index=range(0,1))\n",
    "data_metrics.head()"
   ]
  },
  {
   "cell_type": "code",
   "execution_count": null,
   "metadata": {
    "id": "4poNrB_frn6u"
   },
   "outputs": [],
   "source": [
    "def insertmetrics(df,par1,par2,par3,par4,par5,par6):\n",
    "    temp=pd.DataFrame({\"Experiment\":par1,\"traindata\":par2,\"Mae\":par3,\"Mape\":par4,\"Mse\":par5,\"Rmse\":par6},index=range(0,1))\n",
    "    df=df.append(temp,ignore_index=True)\n",
    "    return df"
   ]
  },
  {
   "cell_type": "code",
   "execution_count": null,
   "metadata": {
    "colab": {
     "base_uri": "https://localhost:8080/",
     "height": 112
    },
    "id": "E4R3IBAjrn6u",
    "outputId": "cf3f146d-0d8a-4da7-def9-42b8d3bcb960"
   },
   "outputs": [
    {
     "data": {
      "text/html": [
       "\n",
       "  <div id=\"df-07715c76-64ad-49db-95d0-be6afedb1481\">\n",
       "    <div class=\"colab-df-container\">\n",
       "      <div>\n",
       "<style scoped>\n",
       "    .dataframe tbody tr th:only-of-type {\n",
       "        vertical-align: middle;\n",
       "    }\n",
       "\n",
       "    .dataframe tbody tr th {\n",
       "        vertical-align: top;\n",
       "    }\n",
       "\n",
       "    .dataframe thead th {\n",
       "        text-align: right;\n",
       "    }\n",
       "</style>\n",
       "<table border=\"1\" class=\"dataframe\">\n",
       "  <thead>\n",
       "    <tr style=\"text-align: right;\">\n",
       "      <th></th>\n",
       "      <th>Experiment</th>\n",
       "      <th>traindata</th>\n",
       "      <th>Mae</th>\n",
       "      <th>Mape</th>\n",
       "      <th>Mse</th>\n",
       "      <th>Rmse</th>\n",
       "    </tr>\n",
       "  </thead>\n",
       "  <tbody>\n",
       "    <tr>\n",
       "      <th>0</th>\n",
       "      <td>base</td>\n",
       "      <td>1</td>\n",
       "      <td>3.639836</td>\n",
       "      <td>0.802717</td>\n",
       "      <td>21.102388</td>\n",
       "      <td>4.593734</td>\n",
       "    </tr>\n",
       "    <tr>\n",
       "      <th>1</th>\n",
       "      <td>base</td>\n",
       "      <td>0</td>\n",
       "      <td>3.600546</td>\n",
       "      <td>0.793333</td>\n",
       "      <td>20.011714</td>\n",
       "      <td>4.473445</td>\n",
       "    </tr>\n",
       "  </tbody>\n",
       "</table>\n",
       "</div>\n",
       "      <button class=\"colab-df-convert\" onclick=\"convertToInteractive('df-07715c76-64ad-49db-95d0-be6afedb1481')\"\n",
       "              title=\"Convert this dataframe to an interactive table.\"\n",
       "              style=\"display:none;\">\n",
       "        \n",
       "  <svg xmlns=\"http://www.w3.org/2000/svg\" height=\"24px\"viewBox=\"0 0 24 24\"\n",
       "       width=\"24px\">\n",
       "    <path d=\"M0 0h24v24H0V0z\" fill=\"none\"/>\n",
       "    <path d=\"M18.56 5.44l.94 2.06.94-2.06 2.06-.94-2.06-.94-.94-2.06-.94 2.06-2.06.94zm-11 1L8.5 8.5l.94-2.06 2.06-.94-2.06-.94L8.5 2.5l-.94 2.06-2.06.94zm10 10l.94 2.06.94-2.06 2.06-.94-2.06-.94-.94-2.06-.94 2.06-2.06.94z\"/><path d=\"M17.41 7.96l-1.37-1.37c-.4-.4-.92-.59-1.43-.59-.52 0-1.04.2-1.43.59L10.3 9.45l-7.72 7.72c-.78.78-.78 2.05 0 2.83L4 21.41c.39.39.9.59 1.41.59.51 0 1.02-.2 1.41-.59l7.78-7.78 2.81-2.81c.8-.78.8-2.07 0-2.86zM5.41 20L4 18.59l7.72-7.72 1.47 1.35L5.41 20z\"/>\n",
       "  </svg>\n",
       "      </button>\n",
       "      \n",
       "  <style>\n",
       "    .colab-df-container {\n",
       "      display:flex;\n",
       "      flex-wrap:wrap;\n",
       "      gap: 12px;\n",
       "    }\n",
       "\n",
       "    .colab-df-convert {\n",
       "      background-color: #E8F0FE;\n",
       "      border: none;\n",
       "      border-radius: 50%;\n",
       "      cursor: pointer;\n",
       "      display: none;\n",
       "      fill: #1967D2;\n",
       "      height: 32px;\n",
       "      padding: 0 0 0 0;\n",
       "      width: 32px;\n",
       "    }\n",
       "\n",
       "    .colab-df-convert:hover {\n",
       "      background-color: #E2EBFA;\n",
       "      box-shadow: 0px 1px 2px rgba(60, 64, 67, 0.3), 0px 1px 3px 1px rgba(60, 64, 67, 0.15);\n",
       "      fill: #174EA6;\n",
       "    }\n",
       "\n",
       "    [theme=dark] .colab-df-convert {\n",
       "      background-color: #3B4455;\n",
       "      fill: #D2E3FC;\n",
       "    }\n",
       "\n",
       "    [theme=dark] .colab-df-convert:hover {\n",
       "      background-color: #434B5C;\n",
       "      box-shadow: 0px 1px 3px 1px rgba(0, 0, 0, 0.15);\n",
       "      filter: drop-shadow(0px 1px 2px rgba(0, 0, 0, 0.3));\n",
       "      fill: #FFFFFF;\n",
       "    }\n",
       "  </style>\n",
       "\n",
       "      <script>\n",
       "        const buttonEl =\n",
       "          document.querySelector('#df-07715c76-64ad-49db-95d0-be6afedb1481 button.colab-df-convert');\n",
       "        buttonEl.style.display =\n",
       "          google.colab.kernel.accessAllowed ? 'block' : 'none';\n",
       "\n",
       "        async function convertToInteractive(key) {\n",
       "          const element = document.querySelector('#df-07715c76-64ad-49db-95d0-be6afedb1481');\n",
       "          const dataTable =\n",
       "            await google.colab.kernel.invokeFunction('convertToInteractive',\n",
       "                                                     [key], {});\n",
       "          if (!dataTable) return;\n",
       "\n",
       "          const docLinkHtml = 'Like what you see? Visit the ' +\n",
       "            '<a target=\"_blank\" href=https://colab.research.google.com/notebooks/data_table.ipynb>data table notebook</a>'\n",
       "            + ' to learn more about interactive tables.';\n",
       "          element.innerHTML = '';\n",
       "          dataTable['output_type'] = 'display_data';\n",
       "          await google.colab.output.renderOutput(dataTable, element);\n",
       "          const docLink = document.createElement('div');\n",
       "          docLink.innerHTML = docLinkHtml;\n",
       "          element.appendChild(docLink);\n",
       "        }\n",
       "      </script>\n",
       "    </div>\n",
       "  </div>\n",
       "  "
      ],
      "text/plain": [
       "  Experiment  traindata       Mae      Mape        Mse      Rmse\n",
       "0       base          1  3.639836  0.802717  21.102388  4.593734\n",
       "1       base          0  3.600546  0.793333  20.011714  4.473445"
      ]
     },
     "execution_count": 40,
     "metadata": {},
     "output_type": "execute_result"
    }
   ],
   "source": [
    "data_metrics=insertmetrics(data_metrics,\"base\",0,m2,m4,m6,m8)\n",
    "data_metrics.head()"
   ]
  },
  {
   "cell_type": "markdown",
   "metadata": {
    "id": "7GThzsGxrn6u"
   },
   "source": [
    "### Exp2: Standardize the data and repeat the experiment"
   ]
  },
  {
   "cell_type": "code",
   "execution_count": null,
   "metadata": {
    "id": "M4sEuEW0rn6v"
   },
   "outputs": [],
   "source": [
    "from sklearn.preprocessing import StandardScaler\n",
    "traindata_std=traindata.copy()\n",
    "testdata_std=testdata.copy()\n",
    "\n",
    "std=StandardScaler().fit(traindata[ind_atr])\n",
    "traindata_std.loc[:,ind_atr]=std.transform(traindata[ind_atr])\n",
    "testdata_std.loc[:,ind_atr]=std.transform(testdata[ind_atr])"
   ]
  },
  {
   "cell_type": "code",
   "execution_count": null,
   "metadata": {
    "colab": {
     "base_uri": "https://localhost:8080/",
     "height": 147
    },
    "id": "Uqj3PIA-rn6v",
    "outputId": "4a50e36e-c866-4ee8-daa3-1991e3efa470"
   },
   "outputs": [
    {
     "name": "stdout",
     "output_type": "stream",
     "text": [
      "(6697, 5)\n",
      "(2871, 5)\n"
     ]
    },
    {
     "data": {
      "text/html": [
       "\n",
       "  <div id=\"df-db0695b2-0166-4e3e-8b6e-de50ca485d0a\">\n",
       "    <div class=\"colab-df-container\">\n",
       "      <div>\n",
       "<style scoped>\n",
       "    .dataframe tbody tr th:only-of-type {\n",
       "        vertical-align: middle;\n",
       "    }\n",
       "\n",
       "    .dataframe tbody tr th {\n",
       "        vertical-align: top;\n",
       "    }\n",
       "\n",
       "    .dataframe thead th {\n",
       "        text-align: right;\n",
       "    }\n",
       "</style>\n",
       "<table border=\"1\" class=\"dataframe\">\n",
       "  <thead>\n",
       "    <tr style=\"text-align: right;\">\n",
       "      <th></th>\n",
       "      <th>Amb_Temperature</th>\n",
       "      <th>Exhaust_Vaccum</th>\n",
       "      <th>Amb_Pressure</th>\n",
       "      <th>Rel_Humidity</th>\n",
       "      <th>Target</th>\n",
       "    </tr>\n",
       "  </thead>\n",
       "  <tbody>\n",
       "    <tr>\n",
       "      <th>2959</th>\n",
       "      <td>0.043909</td>\n",
       "      <td>0.394821</td>\n",
       "      <td>0.761004</td>\n",
       "      <td>0.693909</td>\n",
       "      <td>450.41</td>\n",
       "    </tr>\n",
       "    <tr>\n",
       "      <th>5215</th>\n",
       "      <td>-0.129286</td>\n",
       "      <td>0.389315</td>\n",
       "      <td>0.608879</td>\n",
       "      <td>0.259667</td>\n",
       "      <td>452.85</td>\n",
       "    </tr>\n",
       "  </tbody>\n",
       "</table>\n",
       "</div>\n",
       "      <button class=\"colab-df-convert\" onclick=\"convertToInteractive('df-db0695b2-0166-4e3e-8b6e-de50ca485d0a')\"\n",
       "              title=\"Convert this dataframe to an interactive table.\"\n",
       "              style=\"display:none;\">\n",
       "        \n",
       "  <svg xmlns=\"http://www.w3.org/2000/svg\" height=\"24px\"viewBox=\"0 0 24 24\"\n",
       "       width=\"24px\">\n",
       "    <path d=\"M0 0h24v24H0V0z\" fill=\"none\"/>\n",
       "    <path d=\"M18.56 5.44l.94 2.06.94-2.06 2.06-.94-2.06-.94-.94-2.06-.94 2.06-2.06.94zm-11 1L8.5 8.5l.94-2.06 2.06-.94-2.06-.94L8.5 2.5l-.94 2.06-2.06.94zm10 10l.94 2.06.94-2.06 2.06-.94-2.06-.94-.94-2.06-.94 2.06-2.06.94z\"/><path d=\"M17.41 7.96l-1.37-1.37c-.4-.4-.92-.59-1.43-.59-.52 0-1.04.2-1.43.59L10.3 9.45l-7.72 7.72c-.78.78-.78 2.05 0 2.83L4 21.41c.39.39.9.59 1.41.59.51 0 1.02-.2 1.41-.59l7.78-7.78 2.81-2.81c.8-.78.8-2.07 0-2.86zM5.41 20L4 18.59l7.72-7.72 1.47 1.35L5.41 20z\"/>\n",
       "  </svg>\n",
       "      </button>\n",
       "      \n",
       "  <style>\n",
       "    .colab-df-container {\n",
       "      display:flex;\n",
       "      flex-wrap:wrap;\n",
       "      gap: 12px;\n",
       "    }\n",
       "\n",
       "    .colab-df-convert {\n",
       "      background-color: #E8F0FE;\n",
       "      border: none;\n",
       "      border-radius: 50%;\n",
       "      cursor: pointer;\n",
       "      display: none;\n",
       "      fill: #1967D2;\n",
       "      height: 32px;\n",
       "      padding: 0 0 0 0;\n",
       "      width: 32px;\n",
       "    }\n",
       "\n",
       "    .colab-df-convert:hover {\n",
       "      background-color: #E2EBFA;\n",
       "      box-shadow: 0px 1px 2px rgba(60, 64, 67, 0.3), 0px 1px 3px 1px rgba(60, 64, 67, 0.15);\n",
       "      fill: #174EA6;\n",
       "    }\n",
       "\n",
       "    [theme=dark] .colab-df-convert {\n",
       "      background-color: #3B4455;\n",
       "      fill: #D2E3FC;\n",
       "    }\n",
       "\n",
       "    [theme=dark] .colab-df-convert:hover {\n",
       "      background-color: #434B5C;\n",
       "      box-shadow: 0px 1px 3px 1px rgba(0, 0, 0, 0.15);\n",
       "      filter: drop-shadow(0px 1px 2px rgba(0, 0, 0, 0.3));\n",
       "      fill: #FFFFFF;\n",
       "    }\n",
       "  </style>\n",
       "\n",
       "      <script>\n",
       "        const buttonEl =\n",
       "          document.querySelector('#df-db0695b2-0166-4e3e-8b6e-de50ca485d0a button.colab-df-convert');\n",
       "        buttonEl.style.display =\n",
       "          google.colab.kernel.accessAllowed ? 'block' : 'none';\n",
       "\n",
       "        async function convertToInteractive(key) {\n",
       "          const element = document.querySelector('#df-db0695b2-0166-4e3e-8b6e-de50ca485d0a');\n",
       "          const dataTable =\n",
       "            await google.colab.kernel.invokeFunction('convertToInteractive',\n",
       "                                                     [key], {});\n",
       "          if (!dataTable) return;\n",
       "\n",
       "          const docLinkHtml = 'Like what you see? Visit the ' +\n",
       "            '<a target=\"_blank\" href=https://colab.research.google.com/notebooks/data_table.ipynb>data table notebook</a>'\n",
       "            + ' to learn more about interactive tables.';\n",
       "          element.innerHTML = '';\n",
       "          dataTable['output_type'] = 'display_data';\n",
       "          await google.colab.output.renderOutput(dataTable, element);\n",
       "          const docLink = document.createElement('div');\n",
       "          docLink.innerHTML = docLinkHtml;\n",
       "          element.appendChild(docLink);\n",
       "        }\n",
       "      </script>\n",
       "    </div>\n",
       "  </div>\n",
       "  "
      ],
      "text/plain": [
       "      Amb_Temperature  Exhaust_Vaccum  Amb_Pressure  Rel_Humidity  Target\n",
       "2959         0.043909        0.394821      0.761004      0.693909  450.41\n",
       "5215        -0.129286        0.389315      0.608879      0.259667  452.85"
      ]
     },
     "execution_count": 42,
     "metadata": {},
     "output_type": "execute_result"
    }
   ],
   "source": [
    "print(traindata_std.shape)\n",
    "print(testdata_std.shape)\n",
    "traindata_std.head(2)"
   ]
  },
  {
   "cell_type": "code",
   "execution_count": null,
   "metadata": {
    "id": "1_Do23xYrn6v"
   },
   "outputs": [],
   "source": [
    "Xtrain_std=sm.add_constant(traindata_std[ind_atr],prepend=False)\n",
    "Xtest_std=sm.add_constant(testdata_std[ind_atr],prepend=False)\n",
    "linregmod_std=sm.OLS(traindata_std['Target'],Xtrain_std).fit()"
   ]
  },
  {
   "cell_type": "code",
   "execution_count": null,
   "metadata": {
    "id": "AiHgAiVMrn6v",
    "outputId": "72f33a06-87ef-44d1-fa0f-c43c309f1d5a"
   },
   "outputs": [
    {
     "data": {
      "text/html": [
       "<table class=\"simpletable\">\n",
       "<tr>\n",
       "        <td>Model:</td>               <td>OLS</td>         <td>Adj. R-squared:</td>      <td>0.927</td>  \n",
       "</tr>\n",
       "<tr>\n",
       "  <td>Dependent Variable:</td>      <td>Target</td>             <td>AIC:</td>         <td>39437.0020</td>\n",
       "</tr>\n",
       "<tr>\n",
       "         <td>Date:</td>        <td>2020-10-10 16:49</td>        <td>BIC:</td>         <td>39471.0491</td>\n",
       "</tr>\n",
       "<tr>\n",
       "   <td>No. Observations:</td>        <td>6697</td>         <td>Log-Likelihood:</td>     <td>-19714.</td> \n",
       "</tr>\n",
       "<tr>\n",
       "       <td>Df Model:</td>              <td>4</td>           <td>F-statistic:</td>      <td>2.126e+04</td>\n",
       "</tr>\n",
       "<tr>\n",
       "     <td>Df Residuals:</td>          <td>6692</td>       <td>Prob (F-statistic):</td>    <td>0.00</td>   \n",
       "</tr>\n",
       "<tr>\n",
       "      <td>R-squared:</td>            <td>0.927</td>            <td>Scale:</td>          <td>21.118</td>  \n",
       "</tr>\n",
       "</table>\n",
       "<table class=\"simpletable\">\n",
       "<tr>\n",
       "         <td></td>           <th>Coef.</th>  <th>Std.Err.</th>     <th>t</th>      <th>P>|t|</th>  <th>[0.025</th>   <th>0.975]</th> \n",
       "</tr>\n",
       "<tr>\n",
       "  <th>Amb_Pressure</th>     <td>0.3978</td>   <td>0.0678</td>   <td>5.8712</td>   <td>0.0000</td>  <td>0.2650</td>   <td>0.5306</td> \n",
       "</tr>\n",
       "<tr>\n",
       "  <th>Exhaust_Vaccum</th>   <td>-2.9395</td>  <td>0.1110</td>  <td>-26.4768</td>  <td>0.0000</td>  <td>-3.1571</td>  <td>-2.7219</td>\n",
       "</tr>\n",
       "<tr>\n",
       "  <th>Amb_Temperature</th> <td>-14.7048</td>  <td>0.1372</td>  <td>-107.1452</td> <td>0.0000</td> <td>-14.9739</td> <td>-14.4358</td>\n",
       "</tr>\n",
       "<tr>\n",
       "  <th>Rel_Humidity</th>     <td>-2.3357</td>  <td>0.0737</td>  <td>-31.6776</td>  <td>0.0000</td>  <td>-2.4803</td>  <td>-2.1912</td>\n",
       "</tr>\n",
       "<tr>\n",
       "  <th>const</th>           <td>454.3512</td>  <td>0.0562</td>  <td>8091.0301</td> <td>0.0000</td> <td>454.2411</td> <td>454.4612</td>\n",
       "</tr>\n",
       "</table>\n",
       "<table class=\"simpletable\">\n",
       "<tr>\n",
       "     <td>Omnibus:</td>    <td>778.778</td>  <td>Durbin-Watson:</td>     <td>2.036</td> \n",
       "</tr>\n",
       "<tr>\n",
       "  <td>Prob(Omnibus):</td>  <td>0.000</td>  <td>Jarque-Bera (JB):</td> <td>4169.398</td>\n",
       "</tr>\n",
       "<tr>\n",
       "       <td>Skew:</td>     <td>-0.432</td>      <td>Prob(JB):</td>       <td>0.000</td> \n",
       "</tr>\n",
       "<tr>\n",
       "     <td>Kurtosis:</td>    <td>6.768</td>   <td>Condition No.:</td>       <td>5</td>   \n",
       "</tr>\n",
       "</table>"
      ],
      "text/plain": [
       "<class 'statsmodels.iolib.summary2.Summary'>\n",
       "\"\"\"\n",
       "                  Results: Ordinary least squares\n",
       "====================================================================\n",
       "Model:               OLS              Adj. R-squared:     0.927     \n",
       "Dependent Variable:  Target           AIC:                39437.0020\n",
       "Date:                2020-10-10 16:49 BIC:                39471.0491\n",
       "No. Observations:    6697             Log-Likelihood:     -19714.   \n",
       "Df Model:            4                F-statistic:        2.126e+04 \n",
       "Df Residuals:        6692             Prob (F-statistic): 0.00      \n",
       "R-squared:           0.927            Scale:              21.118    \n",
       "--------------------------------------------------------------------\n",
       "                 Coef.   Std.Err.     t     P>|t|   [0.025   0.975] \n",
       "--------------------------------------------------------------------\n",
       "Amb_Pressure      0.3978   0.0678    5.8712 0.0000   0.2650   0.5306\n",
       "Exhaust_Vaccum   -2.9395   0.1110  -26.4768 0.0000  -3.1571  -2.7219\n",
       "Amb_Temperature -14.7048   0.1372 -107.1452 0.0000 -14.9739 -14.4358\n",
       "Rel_Humidity     -2.3357   0.0737  -31.6776 0.0000  -2.4803  -2.1912\n",
       "const           454.3512   0.0562 8091.0301 0.0000 454.2411 454.4612\n",
       "--------------------------------------------------------------------\n",
       "Omnibus:              778.778       Durbin-Watson:          2.036   \n",
       "Prob(Omnibus):        0.000         Jarque-Bera (JB):       4169.398\n",
       "Skew:                 -0.432        Prob(JB):               0.000   \n",
       "Kurtosis:             6.768         Condition No.:          5       \n",
       "====================================================================\n",
       "\n",
       "\"\"\""
      ]
     },
     "execution_count": 46,
     "metadata": {},
     "output_type": "execute_result"
    }
   ],
   "source": [
    "linregmod_std.summary2()"
   ]
  },
  {
   "cell_type": "code",
   "execution_count": null,
   "metadata": {
    "id": "JF0v6Hzkrn6v"
   },
   "outputs": [],
   "source": [
    "trainpreds=linregmod_std.fittedvalues\n",
    "testpreds=linregmod_std.predict(Xtest_std)\n",
    "m1=mean_absolute_error(traindata_std['Target'],trainpreds)\n",
    "m2=mean_absolute_error(testdata_std['Target'],testpreds)\n",
    "m3=mape(traindata_std['Target'],trainpreds)\n",
    "m4=mape(testdata_std['Target'],testpreds)\n",
    "m5=mean_squared_error(traindata_std['Target'],trainpreds)\n",
    "m6=mean_squared_error(testdata_std['Target'],testpreds)\n",
    "m7=rmse(traindata_std['Target'],trainpreds)\n",
    "m8=rmse(testdata_std['Target'],testpreds)"
   ]
  },
  {
   "cell_type": "code",
   "execution_count": null,
   "metadata": {
    "id": "LR7HvlAlrn6w"
   },
   "outputs": [],
   "source": [
    "data_metrics=insertmetrics(data_metrics,\"linreg_std\",1,m1,m3,m5,m7)\n",
    "data_metrics=insertmetrics(data_metrics,\"linreg_std\",0,m2,m4,m6,m8)"
   ]
  },
  {
   "cell_type": "code",
   "execution_count": null,
   "metadata": {
    "colab": {
     "base_uri": "https://localhost:8080/",
     "height": 175
    },
    "id": "RRrSL1ANrn6w",
    "outputId": "ea75e34a-b184-4cc7-d025-6c114e32258a"
   },
   "outputs": [
    {
     "data": {
      "text/html": [
       "\n",
       "  <div id=\"df-e0657794-61f6-458d-a3f2-42a50eb6602d\">\n",
       "    <div class=\"colab-df-container\">\n",
       "      <div>\n",
       "<style scoped>\n",
       "    .dataframe tbody tr th:only-of-type {\n",
       "        vertical-align: middle;\n",
       "    }\n",
       "\n",
       "    .dataframe tbody tr th {\n",
       "        vertical-align: top;\n",
       "    }\n",
       "\n",
       "    .dataframe thead th {\n",
       "        text-align: right;\n",
       "    }\n",
       "</style>\n",
       "<table border=\"1\" class=\"dataframe\">\n",
       "  <thead>\n",
       "    <tr style=\"text-align: right;\">\n",
       "      <th></th>\n",
       "      <th>Experiment</th>\n",
       "      <th>traindata</th>\n",
       "      <th>Mae</th>\n",
       "      <th>Mape</th>\n",
       "      <th>Mse</th>\n",
       "      <th>Rmse</th>\n",
       "    </tr>\n",
       "  </thead>\n",
       "  <tbody>\n",
       "    <tr>\n",
       "      <th>0</th>\n",
       "      <td>base</td>\n",
       "      <td>1</td>\n",
       "      <td>3.639836</td>\n",
       "      <td>0.802717</td>\n",
       "      <td>21.102388</td>\n",
       "      <td>4.593734</td>\n",
       "    </tr>\n",
       "    <tr>\n",
       "      <th>1</th>\n",
       "      <td>base</td>\n",
       "      <td>0</td>\n",
       "      <td>3.600546</td>\n",
       "      <td>0.793333</td>\n",
       "      <td>20.011714</td>\n",
       "      <td>4.473445</td>\n",
       "    </tr>\n",
       "    <tr>\n",
       "      <th>2</th>\n",
       "      <td>linreg_std</td>\n",
       "      <td>1</td>\n",
       "      <td>3.639836</td>\n",
       "      <td>0.802717</td>\n",
       "      <td>21.102388</td>\n",
       "      <td>4.593734</td>\n",
       "    </tr>\n",
       "    <tr>\n",
       "      <th>3</th>\n",
       "      <td>linreg_std</td>\n",
       "      <td>0</td>\n",
       "      <td>3.600546</td>\n",
       "      <td>0.793333</td>\n",
       "      <td>20.011714</td>\n",
       "      <td>4.473445</td>\n",
       "    </tr>\n",
       "  </tbody>\n",
       "</table>\n",
       "</div>\n",
       "      <button class=\"colab-df-convert\" onclick=\"convertToInteractive('df-e0657794-61f6-458d-a3f2-42a50eb6602d')\"\n",
       "              title=\"Convert this dataframe to an interactive table.\"\n",
       "              style=\"display:none;\">\n",
       "        \n",
       "  <svg xmlns=\"http://www.w3.org/2000/svg\" height=\"24px\"viewBox=\"0 0 24 24\"\n",
       "       width=\"24px\">\n",
       "    <path d=\"M0 0h24v24H0V0z\" fill=\"none\"/>\n",
       "    <path d=\"M18.56 5.44l.94 2.06.94-2.06 2.06-.94-2.06-.94-.94-2.06-.94 2.06-2.06.94zm-11 1L8.5 8.5l.94-2.06 2.06-.94-2.06-.94L8.5 2.5l-.94 2.06-2.06.94zm10 10l.94 2.06.94-2.06 2.06-.94-2.06-.94-.94-2.06-.94 2.06-2.06.94z\"/><path d=\"M17.41 7.96l-1.37-1.37c-.4-.4-.92-.59-1.43-.59-.52 0-1.04.2-1.43.59L10.3 9.45l-7.72 7.72c-.78.78-.78 2.05 0 2.83L4 21.41c.39.39.9.59 1.41.59.51 0 1.02-.2 1.41-.59l7.78-7.78 2.81-2.81c.8-.78.8-2.07 0-2.86zM5.41 20L4 18.59l7.72-7.72 1.47 1.35L5.41 20z\"/>\n",
       "  </svg>\n",
       "      </button>\n",
       "      \n",
       "  <style>\n",
       "    .colab-df-container {\n",
       "      display:flex;\n",
       "      flex-wrap:wrap;\n",
       "      gap: 12px;\n",
       "    }\n",
       "\n",
       "    .colab-df-convert {\n",
       "      background-color: #E8F0FE;\n",
       "      border: none;\n",
       "      border-radius: 50%;\n",
       "      cursor: pointer;\n",
       "      display: none;\n",
       "      fill: #1967D2;\n",
       "      height: 32px;\n",
       "      padding: 0 0 0 0;\n",
       "      width: 32px;\n",
       "    }\n",
       "\n",
       "    .colab-df-convert:hover {\n",
       "      background-color: #E2EBFA;\n",
       "      box-shadow: 0px 1px 2px rgba(60, 64, 67, 0.3), 0px 1px 3px 1px rgba(60, 64, 67, 0.15);\n",
       "      fill: #174EA6;\n",
       "    }\n",
       "\n",
       "    [theme=dark] .colab-df-convert {\n",
       "      background-color: #3B4455;\n",
       "      fill: #D2E3FC;\n",
       "    }\n",
       "\n",
       "    [theme=dark] .colab-df-convert:hover {\n",
       "      background-color: #434B5C;\n",
       "      box-shadow: 0px 1px 3px 1px rgba(0, 0, 0, 0.15);\n",
       "      filter: drop-shadow(0px 1px 2px rgba(0, 0, 0, 0.3));\n",
       "      fill: #FFFFFF;\n",
       "    }\n",
       "  </style>\n",
       "\n",
       "      <script>\n",
       "        const buttonEl =\n",
       "          document.querySelector('#df-e0657794-61f6-458d-a3f2-42a50eb6602d button.colab-df-convert');\n",
       "        buttonEl.style.display =\n",
       "          google.colab.kernel.accessAllowed ? 'block' : 'none';\n",
       "\n",
       "        async function convertToInteractive(key) {\n",
       "          const element = document.querySelector('#df-e0657794-61f6-458d-a3f2-42a50eb6602d');\n",
       "          const dataTable =\n",
       "            await google.colab.kernel.invokeFunction('convertToInteractive',\n",
       "                                                     [key], {});\n",
       "          if (!dataTable) return;\n",
       "\n",
       "          const docLinkHtml = 'Like what you see? Visit the ' +\n",
       "            '<a target=\"_blank\" href=https://colab.research.google.com/notebooks/data_table.ipynb>data table notebook</a>'\n",
       "            + ' to learn more about interactive tables.';\n",
       "          element.innerHTML = '';\n",
       "          dataTable['output_type'] = 'display_data';\n",
       "          await google.colab.output.renderOutput(dataTable, element);\n",
       "          const docLink = document.createElement('div');\n",
       "          docLink.innerHTML = docLinkHtml;\n",
       "          element.appendChild(docLink);\n",
       "        }\n",
       "      </script>\n",
       "    </div>\n",
       "  </div>\n",
       "  "
      ],
      "text/plain": [
       "   Experiment  traindata       Mae      Mape        Mse      Rmse\n",
       "0        base          1  3.639836  0.802717  21.102388  4.593734\n",
       "1        base          0  3.600546  0.793333  20.011714  4.473445\n",
       "2  linreg_std          1  3.639836  0.802717  21.102388  4.593734\n",
       "3  linreg_std          0  3.600546  0.793333  20.011714  4.473445"
      ]
     },
     "execution_count": 46,
     "metadata": {},
     "output_type": "execute_result"
    }
   ],
   "source": [
    "data_metrics"
   ]
  },
  {
   "cell_type": "code",
   "execution_count": null,
   "metadata": {
    "id": "mnlZtveWrn6w"
   },
   "outputs": [],
   "source": [
    "# Empty Cell"
   ]
  },
  {
   "cell_type": "code",
   "execution_count": null,
   "metadata": {
    "id": "NcGTU8E3rn6w"
   },
   "outputs": [],
   "source": [
    "# Empty Cell"
   ]
  },
  {
   "cell_type": "code",
   "execution_count": null,
   "metadata": {
    "id": "tGVD6FLurn6w"
   },
   "outputs": [],
   "source": [
    "# Empty Cell"
   ]
  },
  {
   "cell_type": "code",
   "execution_count": null,
   "metadata": {
    "id": "KK7agWcprn6w"
   },
   "outputs": [],
   "source": [
    "# Empty Cell"
   ]
  },
  {
   "cell_type": "code",
   "execution_count": null,
   "metadata": {
    "id": "wmdzxsYvrn6x"
   },
   "outputs": [],
   "source": [
    "# Empty Cell"
   ]
  },
  {
   "cell_type": "markdown",
   "metadata": {
    "id": "s7V_6B_Yrn6x"
   },
   "source": [
    "### Additional Material-\n",
    "#### Diagnostic Checks and improvements- more experiments"
   ]
  },
  {
   "cell_type": "markdown",
   "metadata": {
    "id": "wQlavFM3YkI5"
   },
   "source": [
    "##### Lets look into the diagnostic plots - for the model we built earlier linregmodel\n",
    "    * Linearity & Equal Variance: Residual Vs Fitted Plot\n",
    "    * q-q plot\n",
    "    * Residual vs Leverage\n",
    "    * Cook's Distance"
   ]
  },
  {
   "cell_type": "markdown",
   "metadata": {
    "id": "lJV8IVT-YkI7"
   },
   "source": [
    "##### Residual vs Fitted plot"
   ]
  },
  {
   "cell_type": "code",
   "execution_count": null,
   "metadata": {
    "colab": {
     "base_uri": "https://localhost:8080/",
     "height": 282
    },
    "id": "Kl5d5uArYkI8",
    "outputId": "c572388d-b14e-404e-affc-04aceedfac5f",
    "scrolled": true
   },
   "outputs": [
    {
     "data": {
      "image/png": "[encoded data removed]",
      "text/plain": [
       "<Figure size 432x288 with 1 Axes>"
      ]
     },
     "metadata": {
      "needs_background": "light"
     },
     "output_type": "display_data"
    }
   ],
   "source": [
    "# Check the diagnostic plots for the first model\n",
    "preds_tr=linregmod.fittedvalues\n",
    "residuals=linregmod.resid\n",
    "plt.figure()\n",
    "plt.plot(preds_tr,residuals,'bo')\n",
    "plt.axhline(y=0)\n",
    "plt.xlabel('Predictions')\n",
    "plt.ylabel('Residuals')\n",
    "plt.show(block=True)"
   ]
  },
  {
   "cell_type": "markdown",
   "metadata": {
    "id": "Ybtc0ZcxYkI_"
   },
   "source": [
    "#### qqplot"
   ]
  },
  {
   "cell_type": "code",
   "execution_count": null,
   "metadata": {
    "colab": {
     "base_uri": "https://localhost:8080/",
     "height": 317
    },
    "id": "nBmuPOAOYkJA",
    "outputId": "8c261260-1bc1-467b-90ff-db0f04fac191"
   },
   "outputs": [
    {
     "data": {
      "text/plain": [
       "<Figure size 576x360 with 0 Axes>"
      ]
     },
     "metadata": {},
     "output_type": "display_data"
    },
    {
     "data": {
      "image/png": "[encoded data removed]",
      "text/plain": [
       "<Figure size 432x288 with 1 Axes>"
      ]
     },
     "metadata": {
      "needs_background": "light"
     },
     "output_type": "display_data"
    }
   ],
   "source": [
    "import scipy.stats as stats\n",
    "plt.figure(figsize=(8,5))\n",
    "sm.qqplot(residuals, stats.t, fit=True, line=\"45\")\n",
    "plt.title('Quantile-Quantile Plot',fontsize=20)\n",
    "plt.show(True)"
   ]
  },
  {
   "cell_type": "markdown",
   "metadata": {
    "id": "oXcA3-6grn6y"
   },
   "source": [
    "### Exp3: Check target variable distribution and transform the target if required"
   ]
  },
  {
   "cell_type": "code",
   "execution_count": null,
   "metadata": {
    "colab": {
     "base_uri": "https://localhost:8080/",
     "height": 352
    },
    "id": "KLKilLVUrn6y",
    "outputId": "965d3efe-09af-4084-af75-534c9676fe0d"
   },
   "outputs": [
    {
     "data": {
      "text/plain": [
       "(array([ 111.,  823., 1246., 1026.,  714.,  765.,  795.,  682.,  418.,\n",
       "         117.]),\n",
       " array([420.26 , 427.769, 435.278, 442.787, 450.296, 457.805, 465.314,\n",
       "        472.823, 480.332, 487.841, 495.35 ]),\n",
       " <a list of 10 Patch objects>)"
      ]
     },
     "execution_count": 49,
     "metadata": {},
     "output_type": "execute_result"
    },
    {
     "data": {
      "image/png": "[encoded data removed]",
      "text/plain": [
       "<Figure size 432x288 with 1 Axes>"
      ]
     },
     "metadata": {
      "needs_background": "light"
     },
     "output_type": "display_data"
    }
   ],
   "source": [
    "plt.hist(traindata[\"Target\"])"
   ]
  },
  {
   "cell_type": "code",
   "execution_count": null,
   "metadata": {
    "id": "eM_jTZJqrn6y"
   },
   "outputs": [],
   "source": [
    "# Boxcox transforamtion- boxcox from stata does not have inv_boxcox- so get the lamda from here\n",
    "from scipy import stats\n",
    "#fig = plt.figure()\n",
    "#ax2 = fig.add_subplot(212)\n",
    "xt, fittedlamda = stats.boxcox(traindata['Target'])\n",
    "#prob = stats.probplot(xt, dist=stats.norm, plot=ax2)\n",
    "#fittedlamda used to fit on testdata; Get the fitted lambda from the above code."
   ]
  },
  {
   "cell_type": "code",
   "execution_count": null,
   "metadata": {
    "colab": {
     "base_uri": "https://localhost:8080/",
     "height": 177
    },
    "id": "25OsJ4UXrn6y",
    "outputId": "abaa6f3b-5ae9-4cd7-b1a3-90fb46278d50"
   },
   "outputs": [
    {
     "data": {
      "image/png": "[encoded data removed]",
      "text/plain": [
       "<Figure size 432x288 with 1 Axes>"
      ]
     },
     "metadata": {
      "needs_background": "light"
     },
     "output_type": "display_data"
    }
   ],
   "source": [
    "# from the above code- lambda can be used to apply on trian and test in the following wat\n",
    "from scipy.special import boxcox, inv_boxcox\n",
    "ytrain1 = boxcox(traindata['Target'], fittedlamda)\n",
    "fig = plt.figure()\n",
    "ax2 = fig.add_subplot(212)\n",
    "prob = stats.probplot(ytrain1, dist=stats.norm, plot=ax2)"
   ]
  },
  {
   "cell_type": "code",
   "execution_count": null,
   "metadata": {
    "colab": {
     "base_uri": "https://localhost:8080/",
     "height": 365
    },
    "id": "zSyR1eAxrn6y",
    "outputId": "c441acb4-7e2d-4489-85da-77153dee6a4b"
   },
   "outputs": [
    {
     "data": {
      "text/plain": [
       "(array([  15.,  347.,  846., 1050.,  935.,  714.,  826.,  915.,  780.,\n",
       "         269.]),\n",
       " array([0.2473261, 0.2473261, 0.2473261, 0.2473261, 0.2473261, 0.2473261,\n",
       "        0.2473261, 0.2473261, 0.2473261, 0.2473261, 0.2473261]),\n",
       " <a list of 10 Patch objects>)"
      ]
     },
     "execution_count": 52,
     "metadata": {},
     "output_type": "execute_result"
    },
    {
     "data": {
      "image/png": "[encoded data removed]",
      "text/plain": [
       "<Figure size 432x288 with 1 Axes>"
      ]
     },
     "metadata": {
      "needs_background": "light"
     },
     "output_type": "display_data"
    }
   ],
   "source": [
    "plt.hist(ytrain1)"
   ]
  },
  {
   "cell_type": "markdown",
   "metadata": {
    "id": "dAg61A2jrn6z"
   },
   "source": [
    "* Observation: You see distribution got changed a bit"
   ]
  },
  {
   "cell_type": "code",
   "execution_count": null,
   "metadata": {
    "id": "raseQR_Mrn6z"
   },
   "outputs": [],
   "source": [
    "# Fit the model on transformed target \n",
    "linregmod1=sm.OLS(ytrain1,Xtrain1).fit()"
   ]
  },
  {
   "cell_type": "code",
   "execution_count": null,
   "metadata": {
    "colab": {
     "base_uri": "https://localhost:8080/"
    },
    "id": "EFfTJE0Brn6z",
    "outputId": "1162780a-1a5b-4e87-b64e-4ba3606ed342"
   },
   "outputs": [
    {
     "data": {
      "text/plain": [
       "['Exhaust_Vaccum', 'Amb_Temperature', 'Amb_Pressure', 'Rel_Humidity']"
      ]
     },
     "execution_count": 54,
     "metadata": {},
     "output_type": "execute_result"
    }
   ],
   "source": [
    "ind_atr"
   ]
  },
  {
   "cell_type": "code",
   "execution_count": null,
   "metadata": {
    "colab": {
     "base_uri": "https://localhost:8080/"
    },
    "id": "Ewtk4V2ern6z",
    "outputId": "e9fdbd81-5ef8-47fa-e461-1deee02096b6"
   },
   "outputs": [
    {
     "name": "stdout",
     "output_type": "stream",
     "text": [
      "The Mean Absolute Error on train data is: 3.5197054513033543\n",
      "The Mean Absolute Error on test data is: 3.4905642900254823\n",
      "The Mean Absolute Percentage Error on train data is:  0.7749633833431959\n",
      "The Mean Absolute Percentage Error on test data is:  0.7677117730564971\n",
      "The Mean Squared Error on train data is:  19.678526959139802\n",
      "The Mean Squared Error on test data is:  18.543924628083\n",
      "The Root Mean Squared Error on test data is:  4.43604857493015\n",
      "The Root Mean Squared Error on train data is:  4.306265740532396\n"
     ]
    }
   ],
   "source": [
    "trainpreds=inv_boxcox(linregmod1.fittedvalues,fittedlamda)\n",
    "testpreds=inv_boxcox(linregmod1.predict(Xtest1),fittedlamda)\n",
    "m1=mean_absolute_error(traindata['Target'],trainpreds)\n",
    "m2=mean_absolute_error(testdata['Target'],testpreds)\n",
    "print( \"The Mean Absolute Error on train data is:\",m1)\n",
    "print( \"The Mean Absolute Error on test data is:\",m2)\n",
    "\n",
    "m3=mape(traindata[\"Target\"],trainpreds)\n",
    "m4=mape(testdata[\"Target\"],testpreds)\n",
    "print(\"The Mean Absolute Percentage Error on train data is: \",m3)\n",
    "print(\"The Mean Absolute Percentage Error on test data is: \",m4)\n",
    "\n",
    "m5=mean_squared_error(traindata[\"Target\"],trainpreds)\n",
    "m6=mean_squared_error(testdata[\"Target\"],testpreds)\n",
    "print(\"The Mean Squared Error on train data is: \",m5)\n",
    "print(\"The Mean Squared Error on test data is: \",m6)\n",
    "\n",
    "m7=rmse(traindata[\"Target\"],trainpreds)\n",
    "m8=rmse(testdata[\"Target\"],testpreds)\n",
    "print(\"The Root Mean Squared Error on test data is: \",m7)\n",
    "print(\"The Root Mean Squared Error on train data is: \",m8)"
   ]
  },
  {
   "cell_type": "code",
   "execution_count": null,
   "metadata": {
    "id": "6VxcFa9irn6z"
   },
   "outputs": [],
   "source": [
    "data_metrics=insertmetrics(data_metrics,\"Target_Boxcox\",1,m1,m3,m5,m7)\n",
    "data_metrics=insertmetrics(data_metrics,\"Target_Boxcox\",0,m2,m4,m6,m8)"
   ]
  },
  {
   "cell_type": "code",
   "execution_count": null,
   "metadata": {
    "id": "KzUXwL7Hrn60"
   },
   "outputs": [],
   "source": [
    "data_metrics.to_csv(\"Data_metrics.csv\")"
   ]
  },
  {
   "cell_type": "code",
   "execution_count": null,
   "metadata": {
    "colab": {
     "base_uri": "https://localhost:8080/",
     "height": 238
    },
    "id": "kDZ8L1nBrn60",
    "outputId": "11bb676c-5950-4d8a-bf38-6da4f53eea68"
   },
   "outputs": [
    {
     "data": {
      "text/html": [
       "\n",
       "  <div id=\"df-90f7f256-d50e-4fea-b8d6-8e230d6c70b2\">\n",
       "    <div class=\"colab-df-container\">\n",
       "      <div>\n",
       "<style scoped>\n",
       "    .dataframe tbody tr th:only-of-type {\n",
       "        vertical-align: middle;\n",
       "    }\n",
       "\n",
       "    .dataframe tbody tr th {\n",
       "        vertical-align: top;\n",
       "    }\n",
       "\n",
       "    .dataframe thead th {\n",
       "        text-align: right;\n",
       "    }\n",
       "</style>\n",
       "<table border=\"1\" class=\"dataframe\">\n",
       "  <thead>\n",
       "    <tr style=\"text-align: right;\">\n",
       "      <th></th>\n",
       "      <th>Experiment</th>\n",
       "      <th>traindata</th>\n",
       "      <th>Mae</th>\n",
       "      <th>Mape</th>\n",
       "      <th>Mse</th>\n",
       "      <th>Rmse</th>\n",
       "    </tr>\n",
       "  </thead>\n",
       "  <tbody>\n",
       "    <tr>\n",
       "      <th>0</th>\n",
       "      <td>base</td>\n",
       "      <td>1</td>\n",
       "      <td>3.639836</td>\n",
       "      <td>0.802717</td>\n",
       "      <td>21.102388</td>\n",
       "      <td>4.593734</td>\n",
       "    </tr>\n",
       "    <tr>\n",
       "      <th>1</th>\n",
       "      <td>base</td>\n",
       "      <td>0</td>\n",
       "      <td>3.600546</td>\n",
       "      <td>0.793333</td>\n",
       "      <td>20.011714</td>\n",
       "      <td>4.473445</td>\n",
       "    </tr>\n",
       "    <tr>\n",
       "      <th>2</th>\n",
       "      <td>linreg_std</td>\n",
       "      <td>1</td>\n",
       "      <td>3.639836</td>\n",
       "      <td>0.802717</td>\n",
       "      <td>21.102388</td>\n",
       "      <td>4.593734</td>\n",
       "    </tr>\n",
       "    <tr>\n",
       "      <th>3</th>\n",
       "      <td>linreg_std</td>\n",
       "      <td>0</td>\n",
       "      <td>3.600546</td>\n",
       "      <td>0.793333</td>\n",
       "      <td>20.011714</td>\n",
       "      <td>4.473445</td>\n",
       "    </tr>\n",
       "    <tr>\n",
       "      <th>4</th>\n",
       "      <td>Target_Boxcox</td>\n",
       "      <td>1</td>\n",
       "      <td>3.519705</td>\n",
       "      <td>0.774963</td>\n",
       "      <td>19.678527</td>\n",
       "      <td>4.436049</td>\n",
       "    </tr>\n",
       "    <tr>\n",
       "      <th>5</th>\n",
       "      <td>Target_Boxcox</td>\n",
       "      <td>0</td>\n",
       "      <td>3.490564</td>\n",
       "      <td>0.767712</td>\n",
       "      <td>18.543925</td>\n",
       "      <td>4.306266</td>\n",
       "    </tr>\n",
       "  </tbody>\n",
       "</table>\n",
       "</div>\n",
       "      <button class=\"colab-df-convert\" onclick=\"convertToInteractive('df-90f7f256-d50e-4fea-b8d6-8e230d6c70b2')\"\n",
       "              title=\"Convert this dataframe to an interactive table.\"\n",
       "              style=\"display:none;\">\n",
       "        \n",
       "  <svg xmlns=\"http://www.w3.org/2000/svg\" height=\"24px\"viewBox=\"0 0 24 24\"\n",
       "       width=\"24px\">\n",
       "    <path d=\"M0 0h24v24H0V0z\" fill=\"none\"/>\n",
       "    <path d=\"M18.56 5.44l.94 2.06.94-2.06 2.06-.94-2.06-.94-.94-2.06-.94 2.06-2.06.94zm-11 1L8.5 8.5l.94-2.06 2.06-.94-2.06-.94L8.5 2.5l-.94 2.06-2.06.94zm10 10l.94 2.06.94-2.06 2.06-.94-2.06-.94-.94-2.06-.94 2.06-2.06.94z\"/><path d=\"M17.41 7.96l-1.37-1.37c-.4-.4-.92-.59-1.43-.59-.52 0-1.04.2-1.43.59L10.3 9.45l-7.72 7.72c-.78.78-.78 2.05 0 2.83L4 21.41c.39.39.9.59 1.41.59.51 0 1.02-.2 1.41-.59l7.78-7.78 2.81-2.81c.8-.78.8-2.07 0-2.86zM5.41 20L4 18.59l7.72-7.72 1.47 1.35L5.41 20z\"/>\n",
       "  </svg>\n",
       "      </button>\n",
       "      \n",
       "  <style>\n",
       "    .colab-df-container {\n",
       "      display:flex;\n",
       "      flex-wrap:wrap;\n",
       "      gap: 12px;\n",
       "    }\n",
       "\n",
       "    .colab-df-convert {\n",
       "      background-color: #E8F0FE;\n",
       "      border: none;\n",
       "      border-radius: 50%;\n",
       "      cursor: pointer;\n",
       "      display: none;\n",
       "      fill: #1967D2;\n",
       "      height: 32px;\n",
       "      padding: 0 0 0 0;\n",
       "      width: 32px;\n",
       "    }\n",
       "\n",
       "    .colab-df-convert:hover {\n",
       "      background-color: #E2EBFA;\n",
       "      box-shadow: 0px 1px 2px rgba(60, 64, 67, 0.3), 0px 1px 3px 1px rgba(60, 64, 67, 0.15);\n",
       "      fill: #174EA6;\n",
       "    }\n",
       "\n",
       "    [theme=dark] .colab-df-convert {\n",
       "      background-color: #3B4455;\n",
       "      fill: #D2E3FC;\n",
       "    }\n",
       "\n",
       "    [theme=dark] .colab-df-convert:hover {\n",
       "      background-color: #434B5C;\n",
       "      box-shadow: 0px 1px 3px 1px rgba(0, 0, 0, 0.15);\n",
       "      filter: drop-shadow(0px 1px 2px rgba(0, 0, 0, 0.3));\n",
       "      fill: #FFFFFF;\n",
       "    }\n",
       "  </style>\n",
       "\n",
       "      <script>\n",
       "        const buttonEl =\n",
       "          document.querySelector('#df-90f7f256-d50e-4fea-b8d6-8e230d6c70b2 button.colab-df-convert');\n",
       "        buttonEl.style.display =\n",
       "          google.colab.kernel.accessAllowed ? 'block' : 'none';\n",
       "\n",
       "        async function convertToInteractive(key) {\n",
       "          const element = document.querySelector('#df-90f7f256-d50e-4fea-b8d6-8e230d6c70b2');\n",
       "          const dataTable =\n",
       "            await google.colab.kernel.invokeFunction('convertToInteractive',\n",
       "                                                     [key], {});\n",
       "          if (!dataTable) return;\n",
       "\n",
       "          const docLinkHtml = 'Like what you see? Visit the ' +\n",
       "            '<a target=\"_blank\" href=https://colab.research.google.com/notebooks/data_table.ipynb>data table notebook</a>'\n",
       "            + ' to learn more about interactive tables.';\n",
       "          element.innerHTML = '';\n",
       "          dataTable['output_type'] = 'display_data';\n",
       "          await google.colab.output.renderOutput(dataTable, element);\n",
       "          const docLink = document.createElement('div');\n",
       "          docLink.innerHTML = docLinkHtml;\n",
       "          element.appendChild(docLink);\n",
       "        }\n",
       "      </script>\n",
       "    </div>\n",
       "  </div>\n",
       "  "
      ],
      "text/plain": [
       "      Experiment  traindata       Mae      Mape        Mse      Rmse\n",
       "0           base          1  3.639836  0.802717  21.102388  4.593734\n",
       "1           base          0  3.600546  0.793333  20.011714  4.473445\n",
       "2     linreg_std          1  3.639836  0.802717  21.102388  4.593734\n",
       "3     linreg_std          0  3.600546  0.793333  20.011714  4.473445\n",
       "4  Target_Boxcox          1  3.519705  0.774963  19.678527  4.436049\n",
       "5  Target_Boxcox          0  3.490564  0.767712  18.543925  4.306266"
      ]
     },
     "execution_count": 58,
     "metadata": {},
     "output_type": "execute_result"
    }
   ],
   "source": [
    "data_metrics"
   ]
  },
  {
   "cell_type": "code",
   "execution_count": null,
   "metadata": {
    "id": "KS2CuBM0rn60"
   },
   "outputs": [],
   "source": [
    "pd.DataFrame({'residuals':residuals}).reset_index(drop=True).to_csv(\"./Residuals.csv\")"
   ]
  },
  {
   "cell_type": "code",
   "execution_count": null,
   "metadata": {
    "id": "t_4O259Q4vlN"
   },
   "outputs": [],
   "source": []
  },
  {
   "cell_type": "markdown",
   "metadata": {
    "id": "_H9i5LomnxdZ"
   },
   "source": [
    "## Influential points"
   ]
  },
  {
   "cell_type": "code",
   "execution_count": null,
   "metadata": {
    "id": "QbY-34Q5nxdZ"
   },
   "outputs": [],
   "source": [
    "from statsmodels.stats.outliers_influence import OLSInfluence"
   ]
  },
  {
   "cell_type": "code",
   "execution_count": null,
   "metadata": {
    "colab": {
     "base_uri": "https://localhost:8080/",
     "height": 300
    },
    "id": "oKMbPN93nxdZ",
    "outputId": "890cb78c-1c9c-4f28-ed4e-9a6f190b5f8f"
   },
   "outputs": [
    {
     "data": {
      "text/html": [
       "\n",
       "  <div id=\"df-cea17b4e-e1d6-410c-a6c0-5c7edf0e34cc\">\n",
       "    <div class=\"colab-df-container\">\n",
       "      <div>\n",
       "<style scoped>\n",
       "    .dataframe tbody tr th:only-of-type {\n",
       "        vertical-align: middle;\n",
       "    }\n",
       "\n",
       "    .dataframe tbody tr th {\n",
       "        vertical-align: top;\n",
       "    }\n",
       "\n",
       "    .dataframe thead th {\n",
       "        text-align: right;\n",
       "    }\n",
       "</style>\n",
       "<table border=\"1\" class=\"dataframe\">\n",
       "  <thead>\n",
       "    <tr style=\"text-align: right;\">\n",
       "      <th></th>\n",
       "      <th>0</th>\n",
       "    </tr>\n",
       "  </thead>\n",
       "  <tbody>\n",
       "    <tr>\n",
       "      <th>count</th>\n",
       "      <td>6.697000e+03</td>\n",
       "    </tr>\n",
       "    <tr>\n",
       "      <th>mean</th>\n",
       "      <td>-4.688652e-18</td>\n",
       "    </tr>\n",
       "    <tr>\n",
       "      <th>std</th>\n",
       "      <td>1.534789e-16</td>\n",
       "    </tr>\n",
       "    <tr>\n",
       "      <th>min</th>\n",
       "      <td>-1.961574e-15</td>\n",
       "    </tr>\n",
       "    <tr>\n",
       "      <th>25%</th>\n",
       "      <td>-8.161062e-17</td>\n",
       "    </tr>\n",
       "    <tr>\n",
       "      <th>50%</th>\n",
       "      <td>2.791824e-18</td>\n",
       "    </tr>\n",
       "    <tr>\n",
       "      <th>75%</th>\n",
       "      <td>7.366279e-17</td>\n",
       "    </tr>\n",
       "    <tr>\n",
       "      <th>max</th>\n",
       "      <td>8.497024e-16</td>\n",
       "    </tr>\n",
       "  </tbody>\n",
       "</table>\n",
       "</div>\n",
       "      <button class=\"colab-df-convert\" onclick=\"convertToInteractive('df-cea17b4e-e1d6-410c-a6c0-5c7edf0e34cc')\"\n",
       "              title=\"Convert this dataframe to an interactive table.\"\n",
       "              style=\"display:none;\">\n",
       "        \n",
       "  <svg xmlns=\"http://www.w3.org/2000/svg\" height=\"24px\"viewBox=\"0 0 24 24\"\n",
       "       width=\"24px\">\n",
       "    <path d=\"M0 0h24v24H0V0z\" fill=\"none\"/>\n",
       "    <path d=\"M18.56 5.44l.94 2.06.94-2.06 2.06-.94-2.06-.94-.94-2.06-.94 2.06-2.06.94zm-11 1L8.5 8.5l.94-2.06 2.06-.94-2.06-.94L8.5 2.5l-.94 2.06-2.06.94zm10 10l.94 2.06.94-2.06 2.06-.94-2.06-.94-.94-2.06-.94 2.06-2.06.94z\"/><path d=\"M17.41 7.96l-1.37-1.37c-.4-.4-.92-.59-1.43-.59-.52 0-1.04.2-1.43.59L10.3 9.45l-7.72 7.72c-.78.78-.78 2.05 0 2.83L4 21.41c.39.39.9.59 1.41.59.51 0 1.02-.2 1.41-.59l7.78-7.78 2.81-2.81c.8-.78.8-2.07 0-2.86zM5.41 20L4 18.59l7.72-7.72 1.47 1.35L5.41 20z\"/>\n",
       "  </svg>\n",
       "      </button>\n",
       "      \n",
       "  <style>\n",
       "    .colab-df-container {\n",
       "      display:flex;\n",
       "      flex-wrap:wrap;\n",
       "      gap: 12px;\n",
       "    }\n",
       "\n",
       "    .colab-df-convert {\n",
       "      background-color: #E8F0FE;\n",
       "      border: none;\n",
       "      border-radius: 50%;\n",
       "      cursor: pointer;\n",
       "      display: none;\n",
       "      fill: #1967D2;\n",
       "      height: 32px;\n",
       "      padding: 0 0 0 0;\n",
       "      width: 32px;\n",
       "    }\n",
       "\n",
       "    .colab-df-convert:hover {\n",
       "      background-color: #E2EBFA;\n",
       "      box-shadow: 0px 1px 2px rgba(60, 64, 67, 0.3), 0px 1px 3px 1px rgba(60, 64, 67, 0.15);\n",
       "      fill: #174EA6;\n",
       "    }\n",
       "\n",
       "    [theme=dark] .colab-df-convert {\n",
       "      background-color: #3B4455;\n",
       "      fill: #D2E3FC;\n",
       "    }\n",
       "\n",
       "    [theme=dark] .colab-df-convert:hover {\n",
       "      background-color: #434B5C;\n",
       "      box-shadow: 0px 1px 3px 1px rgba(0, 0, 0, 0.15);\n",
       "      filter: drop-shadow(0px 1px 2px rgba(0, 0, 0, 0.3));\n",
       "      fill: #FFFFFF;\n",
       "    }\n",
       "  </style>\n",
       "\n",
       "      <script>\n",
       "        const buttonEl =\n",
       "          document.querySelector('#df-cea17b4e-e1d6-410c-a6c0-5c7edf0e34cc button.colab-df-convert');\n",
       "        buttonEl.style.display =\n",
       "          google.colab.kernel.accessAllowed ? 'block' : 'none';\n",
       "\n",
       "        async function convertToInteractive(key) {\n",
       "          const element = document.querySelector('#df-cea17b4e-e1d6-410c-a6c0-5c7edf0e34cc');\n",
       "          const dataTable =\n",
       "            await google.colab.kernel.invokeFunction('convertToInteractive',\n",
       "                                                     [key], {});\n",
       "          if (!dataTable) return;\n",
       "\n",
       "          const docLinkHtml = 'Like what you see? Visit the ' +\n",
       "            '<a target=\"_blank\" href=https://colab.research.google.com/notebooks/data_table.ipynb>data table notebook</a>'\n",
       "            + ' to learn more about interactive tables.';\n",
       "          element.innerHTML = '';\n",
       "          dataTable['output_type'] = 'display_data';\n",
       "          await google.colab.output.renderOutput(dataTable, element);\n",
       "          const docLink = document.createElement('div');\n",
       "          docLink.innerHTML = docLinkHtml;\n",
       "          element.appendChild(docLink);\n",
       "        }\n",
       "      </script>\n",
       "    </div>\n",
       "  </div>\n",
       "  "
      ],
      "text/plain": [
       "                  0\n",
       "count  6.697000e+03\n",
       "mean  -4.688652e-18\n",
       "std    1.534789e-16\n",
       "min   -1.961574e-15\n",
       "25%   -8.161062e-17\n",
       "50%    2.791824e-18\n",
       "75%    7.366279e-17\n",
       "max    8.497024e-16"
      ]
     },
     "execution_count": 62,
     "metadata": {},
     "output_type": "execute_result"
    }
   ],
   "source": [
    "influence_points = OLSInfluence(linregmod1) # results is output from the lm model built earlier\n",
    "\n",
    "pd.DataFrame(influence_points.influence).describe()"
   ]
  },
  {
   "cell_type": "code",
   "execution_count": null,
   "metadata": {
    "colab": {
     "base_uri": "https://localhost:8080/",
     "height": 49
    },
    "id": "RI6_-Q6OnxdZ",
    "outputId": "f5670995-b047-4681-c5db-1a58fadfc7ab"
   },
   "outputs": [
    {
     "data": {
      "text/html": [
       "\n",
       "  <div id=\"df-edada07e-86bf-461b-88a0-5fabf6189652\">\n",
       "    <div class=\"colab-df-container\">\n",
       "      <div>\n",
       "<style scoped>\n",
       "    .dataframe tbody tr th:only-of-type {\n",
       "        vertical-align: middle;\n",
       "    }\n",
       "\n",
       "    .dataframe tbody tr th {\n",
       "        vertical-align: top;\n",
       "    }\n",
       "\n",
       "    .dataframe thead th {\n",
       "        text-align: right;\n",
       "    }\n",
       "</style>\n",
       "<table border=\"1\" class=\"dataframe\">\n",
       "  <thead>\n",
       "    <tr style=\"text-align: right;\">\n",
       "      <th></th>\n",
       "      <th>Exhaust_Vaccum</th>\n",
       "      <th>Amb_Temperature</th>\n",
       "      <th>Amb_Pressure</th>\n",
       "      <th>Rel_Humidity</th>\n",
       "      <th>influence_value</th>\n",
       "    </tr>\n",
       "  </thead>\n",
       "  <tbody>\n",
       "  </tbody>\n",
       "</table>\n",
       "</div>\n",
       "      <button class=\"colab-df-convert\" onclick=\"convertToInteractive('df-edada07e-86bf-461b-88a0-5fabf6189652')\"\n",
       "              title=\"Convert this dataframe to an interactive table.\"\n",
       "              style=\"display:none;\">\n",
       "        \n",
       "  <svg xmlns=\"http://www.w3.org/2000/svg\" height=\"24px\"viewBox=\"0 0 24 24\"\n",
       "       width=\"24px\">\n",
       "    <path d=\"M0 0h24v24H0V0z\" fill=\"none\"/>\n",
       "    <path d=\"M18.56 5.44l.94 2.06.94-2.06 2.06-.94-2.06-.94-.94-2.06-.94 2.06-2.06.94zm-11 1L8.5 8.5l.94-2.06 2.06-.94-2.06-.94L8.5 2.5l-.94 2.06-2.06.94zm10 10l.94 2.06.94-2.06 2.06-.94-2.06-.94-.94-2.06-.94 2.06-2.06.94z\"/><path d=\"M17.41 7.96l-1.37-1.37c-.4-.4-.92-.59-1.43-.59-.52 0-1.04.2-1.43.59L10.3 9.45l-7.72 7.72c-.78.78-.78 2.05 0 2.83L4 21.41c.39.39.9.59 1.41.59.51 0 1.02-.2 1.41-.59l7.78-7.78 2.81-2.81c.8-.78.8-2.07 0-2.86zM5.41 20L4 18.59l7.72-7.72 1.47 1.35L5.41 20z\"/>\n",
       "  </svg>\n",
       "      </button>\n",
       "      \n",
       "  <style>\n",
       "    .colab-df-container {\n",
       "      display:flex;\n",
       "      flex-wrap:wrap;\n",
       "      gap: 12px;\n",
       "    }\n",
       "\n",
       "    .colab-df-convert {\n",
       "      background-color: #E8F0FE;\n",
       "      border: none;\n",
       "      border-radius: 50%;\n",
       "      cursor: pointer;\n",
       "      display: none;\n",
       "      fill: #1967D2;\n",
       "      height: 32px;\n",
       "      padding: 0 0 0 0;\n",
       "      width: 32px;\n",
       "    }\n",
       "\n",
       "    .colab-df-convert:hover {\n",
       "      background-color: #E2EBFA;\n",
       "      box-shadow: 0px 1px 2px rgba(60, 64, 67, 0.3), 0px 1px 3px 1px rgba(60, 64, 67, 0.15);\n",
       "      fill: #174EA6;\n",
       "    }\n",
       "\n",
       "    [theme=dark] .colab-df-convert {\n",
       "      background-color: #3B4455;\n",
       "      fill: #D2E3FC;\n",
       "    }\n",
       "\n",
       "    [theme=dark] .colab-df-convert:hover {\n",
       "      background-color: #434B5C;\n",
       "      box-shadow: 0px 1px 3px 1px rgba(0, 0, 0, 0.15);\n",
       "      filter: drop-shadow(0px 1px 2px rgba(0, 0, 0, 0.3));\n",
       "      fill: #FFFFFF;\n",
       "    }\n",
       "  </style>\n",
       "\n",
       "      <script>\n",
       "        const buttonEl =\n",
       "          document.querySelector('#df-edada07e-86bf-461b-88a0-5fabf6189652 button.colab-df-convert');\n",
       "        buttonEl.style.display =\n",
       "          google.colab.kernel.accessAllowed ? 'block' : 'none';\n",
       "\n",
       "        async function convertToInteractive(key) {\n",
       "          const element = document.querySelector('#df-edada07e-86bf-461b-88a0-5fabf6189652');\n",
       "          const dataTable =\n",
       "            await google.colab.kernel.invokeFunction('convertToInteractive',\n",
       "                                                     [key], {});\n",
       "          if (!dataTable) return;\n",
       "\n",
       "          const docLinkHtml = 'Like what you see? Visit the ' +\n",
       "            '<a target=\"_blank\" href=https://colab.research.google.com/notebooks/data_table.ipynb>data table notebook</a>'\n",
       "            + ' to learn more about interactive tables.';\n",
       "          element.innerHTML = '';\n",
       "          dataTable['output_type'] = 'display_data';\n",
       "          await google.colab.output.renderOutput(dataTable, element);\n",
       "          const docLink = document.createElement('div');\n",
       "          docLink.innerHTML = docLinkHtml;\n",
       "          element.appendChild(docLink);\n",
       "        }\n",
       "      </script>\n",
       "    </div>\n",
       "  </div>\n",
       "  "
      ],
      "text/plain": [
       "Empty DataFrame\n",
       "Columns: [Exhaust_Vaccum, Amb_Temperature, Amb_Pressure, Rel_Humidity, influence_value]\n",
       "Index: []"
      ]
     },
     "execution_count": 64,
     "metadata": {},
     "output_type": "execute_result"
    }
   ],
   "source": [
    "influence_data = pd.DataFrame(influence_points.influence[influence_points.influence>=1])\n",
    "Xtrain['influence_value']= influence_points.influence\n",
    "Xtrain.loc[influence_data.index,].sort_values(['influence_value'], ascending = False).head(10)\n"
   ]
  },
  {
   "cell_type": "code",
   "execution_count": null,
   "metadata": {
    "colab": {
     "base_uri": "https://localhost:8080/",
     "height": 295
    },
    "id": "KjssV8dxnxda",
    "outputId": "6bcfc8a7-3662-410e-82a4-3deb21ec9f4b"
   },
   "outputs": [
    {
     "data": {
      "image/png": "[encoded data removed]",
      "text/plain": [
       "<Figure size 432x288 with 1 Axes>"
      ]
     },
     "metadata": {
      "needs_background": "light"
     },
     "output_type": "display_data"
    }
   ],
   "source": [
    "from statsmodels.graphics.regressionplots import plot_leverage_resid2\n",
    "#fig, ax = plt.subplots(figsize=(8, 6))\n",
    "fig = plot_leverage_resid2(linregmod1, ax=ax)\n"
   ]
  },
  {
   "cell_type": "code",
   "execution_count": null,
   "metadata": {
    "colab": {
     "base_uri": "https://localhost:8080/",
     "height": 143
    },
    "id": "8nZ2hBlNnxda",
    "outputId": "af642eda-f40a-49ea-c01c-53d15633f398"
   },
   "outputs": [
    {
     "data": {
      "text/html": [
       "\n",
       "  <div id=\"df-a40c912d-40e0-44e7-8709-abc098ea5870\">\n",
       "    <div class=\"colab-df-container\">\n",
       "      <div>\n",
       "<style scoped>\n",
       "    .dataframe tbody tr th:only-of-type {\n",
       "        vertical-align: middle;\n",
       "    }\n",
       "\n",
       "    .dataframe tbody tr th {\n",
       "        vertical-align: top;\n",
       "    }\n",
       "\n",
       "    .dataframe thead th {\n",
       "        text-align: right;\n",
       "    }\n",
       "</style>\n",
       "<table border=\"1\" class=\"dataframe\">\n",
       "  <thead>\n",
       "    <tr style=\"text-align: right;\">\n",
       "      <th></th>\n",
       "      <th>Exhaust_Vaccum</th>\n",
       "      <th>Amb_Temperature</th>\n",
       "      <th>Amb_Pressure</th>\n",
       "      <th>Rel_Humidity</th>\n",
       "      <th>influence_value</th>\n",
       "    </tr>\n",
       "  </thead>\n",
       "  <tbody>\n",
       "    <tr>\n",
       "      <th>3383</th>\n",
       "      <td>39.85</td>\n",
       "      <td>6.22</td>\n",
       "      <td>1012.05</td>\n",
       "      <td>86.88</td>\n",
       "      <td>-1.510601e-15</td>\n",
       "    </tr>\n",
       "    <tr>\n",
       "      <th>3117</th>\n",
       "      <td>36.30</td>\n",
       "      <td>8.74</td>\n",
       "      <td>1015.18</td>\n",
       "      <td>61.97</td>\n",
       "      <td>-1.961574e-15</td>\n",
       "    </tr>\n",
       "    <tr>\n",
       "      <th>7664</th>\n",
       "      <td>41.22</td>\n",
       "      <td>7.14</td>\n",
       "      <td>1016.60</td>\n",
       "      <td>97.09</td>\n",
       "      <td>-1.219205e-15</td>\n",
       "    </tr>\n",
       "  </tbody>\n",
       "</table>\n",
       "</div>\n",
       "      <button class=\"colab-df-convert\" onclick=\"convertToInteractive('df-a40c912d-40e0-44e7-8709-abc098ea5870')\"\n",
       "              title=\"Convert this dataframe to an interactive table.\"\n",
       "              style=\"display:none;\">\n",
       "        \n",
       "  <svg xmlns=\"http://www.w3.org/2000/svg\" height=\"24px\"viewBox=\"0 0 24 24\"\n",
       "       width=\"24px\">\n",
       "    <path d=\"M0 0h24v24H0V0z\" fill=\"none\"/>\n",
       "    <path d=\"M18.56 5.44l.94 2.06.94-2.06 2.06-.94-2.06-.94-.94-2.06-.94 2.06-2.06.94zm-11 1L8.5 8.5l.94-2.06 2.06-.94-2.06-.94L8.5 2.5l-.94 2.06-2.06.94zm10 10l.94 2.06.94-2.06 2.06-.94-2.06-.94-.94-2.06-.94 2.06-2.06.94z\"/><path d=\"M17.41 7.96l-1.37-1.37c-.4-.4-.92-.59-1.43-.59-.52 0-1.04.2-1.43.59L10.3 9.45l-7.72 7.72c-.78.78-.78 2.05 0 2.83L4 21.41c.39.39.9.59 1.41.59.51 0 1.02-.2 1.41-.59l7.78-7.78 2.81-2.81c.8-.78.8-2.07 0-2.86zM5.41 20L4 18.59l7.72-7.72 1.47 1.35L5.41 20z\"/>\n",
       "  </svg>\n",
       "      </button>\n",
       "      \n",
       "  <style>\n",
       "    .colab-df-container {\n",
       "      display:flex;\n",
       "      flex-wrap:wrap;\n",
       "      gap: 12px;\n",
       "    }\n",
       "\n",
       "    .colab-df-convert {\n",
       "      background-color: #E8F0FE;\n",
       "      border: none;\n",
       "      border-radius: 50%;\n",
       "      cursor: pointer;\n",
       "      display: none;\n",
       "      fill: #1967D2;\n",
       "      height: 32px;\n",
       "      padding: 0 0 0 0;\n",
       "      width: 32px;\n",
       "    }\n",
       "\n",
       "    .colab-df-convert:hover {\n",
       "      background-color: #E2EBFA;\n",
       "      box-shadow: 0px 1px 2px rgba(60, 64, 67, 0.3), 0px 1px 3px 1px rgba(60, 64, 67, 0.15);\n",
       "      fill: #174EA6;\n",
       "    }\n",
       "\n",
       "    [theme=dark] .colab-df-convert {\n",
       "      background-color: #3B4455;\n",
       "      fill: #D2E3FC;\n",
       "    }\n",
       "\n",
       "    [theme=dark] .colab-df-convert:hover {\n",
       "      background-color: #434B5C;\n",
       "      box-shadow: 0px 1px 3px 1px rgba(0, 0, 0, 0.15);\n",
       "      filter: drop-shadow(0px 1px 2px rgba(0, 0, 0, 0.3));\n",
       "      fill: #FFFFFF;\n",
       "    }\n",
       "  </style>\n",
       "\n",
       "      <script>\n",
       "        const buttonEl =\n",
       "          document.querySelector('#df-a40c912d-40e0-44e7-8709-abc098ea5870 button.colab-df-convert');\n",
       "        buttonEl.style.display =\n",
       "          google.colab.kernel.accessAllowed ? 'block' : 'none';\n",
       "\n",
       "        async function convertToInteractive(key) {\n",
       "          const element = document.querySelector('#df-a40c912d-40e0-44e7-8709-abc098ea5870');\n",
       "          const dataTable =\n",
       "            await google.colab.kernel.invokeFunction('convertToInteractive',\n",
       "                                                     [key], {});\n",
       "          if (!dataTable) return;\n",
       "\n",
       "          const docLinkHtml = 'Like what you see? Visit the ' +\n",
       "            '<a target=\"_blank\" href=https://colab.research.google.com/notebooks/data_table.ipynb>data table notebook</a>'\n",
       "            + ' to learn more about interactive tables.';\n",
       "          element.innerHTML = '';\n",
       "          dataTable['output_type'] = 'display_data';\n",
       "          await google.colab.output.renderOutput(dataTable, element);\n",
       "          const docLink = document.createElement('div');\n",
       "          docLink.innerHTML = docLinkHtml;\n",
       "          element.appendChild(docLink);\n",
       "        }\n",
       "      </script>\n",
       "    </div>\n",
       "  </div>\n",
       "  "
      ],
      "text/plain": [
       "      Exhaust_Vaccum  Amb_Temperature  Amb_Pressure  Rel_Humidity  \\\n",
       "3383           39.85             6.22       1012.05         86.88   \n",
       "3117           36.30             8.74       1015.18         61.97   \n",
       "7664           41.22             7.14       1016.60         97.09   \n",
       "\n",
       "      influence_value  \n",
       "3383    -1.510601e-15  \n",
       "3117    -1.961574e-15  \n",
       "7664    -1.219205e-15  "
      ]
     },
     "execution_count": 69,
     "metadata": {},
     "output_type": "execute_result"
    }
   ],
   "source": [
    "Xtrain.loc[[3383,3117,7664]]"
   ]
  },
  {
   "cell_type": "code",
   "execution_count": null,
   "metadata": {
    "colab": {
     "base_uri": "https://localhost:8080/",
     "height": 424
    },
    "id": "1elzw7GKnxda",
    "outputId": "78001598-1503-4c3c-f9e4-095a4128bedc"
   },
   "outputs": [
    {
     "data": {
      "text/html": [
       "\n",
       "  <div id=\"df-f6074a85-15ea-4ebf-9012-652ddf49a310\">\n",
       "    <div class=\"colab-df-container\">\n",
       "      <div>\n",
       "<style scoped>\n",
       "    .dataframe tbody tr th:only-of-type {\n",
       "        vertical-align: middle;\n",
       "    }\n",
       "\n",
       "    .dataframe tbody tr th {\n",
       "        vertical-align: top;\n",
       "    }\n",
       "\n",
       "    .dataframe thead th {\n",
       "        text-align: right;\n",
       "    }\n",
       "</style>\n",
       "<table border=\"1\" class=\"dataframe\">\n",
       "  <thead>\n",
       "    <tr style=\"text-align: right;\">\n",
       "      <th></th>\n",
       "      <th>Exhaust_Vaccum</th>\n",
       "      <th>Amb_Temperature</th>\n",
       "      <th>Amb_Pressure</th>\n",
       "      <th>Rel_Humidity</th>\n",
       "      <th>influence_value</th>\n",
       "    </tr>\n",
       "  </thead>\n",
       "  <tbody>\n",
       "    <tr>\n",
       "      <th>2959</th>\n",
       "      <td>59.21</td>\n",
       "      <td>19.97</td>\n",
       "      <td>1017.87</td>\n",
       "      <td>83.46</td>\n",
       "      <td>9.044834e-18</td>\n",
       "    </tr>\n",
       "    <tr>\n",
       "      <th>5215</th>\n",
       "      <td>59.14</td>\n",
       "      <td>18.68</td>\n",
       "      <td>1016.96</td>\n",
       "      <td>77.09</td>\n",
       "      <td>-6.876726e-19</td>\n",
       "    </tr>\n",
       "    <tr>\n",
       "      <th>8118</th>\n",
       "      <td>38.73</td>\n",
       "      <td>13.11</td>\n",
       "      <td>1005.89</td>\n",
       "      <td>89.02</td>\n",
       "      <td>2.065894e-16</td>\n",
       "    </tr>\n",
       "    <tr>\n",
       "      <th>4113</th>\n",
       "      <td>60.37</td>\n",
       "      <td>25.32</td>\n",
       "      <td>1006.19</td>\n",
       "      <td>73.94</td>\n",
       "      <td>-4.604072e-17</td>\n",
       "    </tr>\n",
       "    <tr>\n",
       "      <th>3253</th>\n",
       "      <td>59.27</td>\n",
       "      <td>25.50</td>\n",
       "      <td>1012.92</td>\n",
       "      <td>68.88</td>\n",
       "      <td>7.323289e-18</td>\n",
       "    </tr>\n",
       "    <tr>\n",
       "      <th>...</th>\n",
       "      <td>...</td>\n",
       "      <td>...</td>\n",
       "      <td>...</td>\n",
       "      <td>...</td>\n",
       "      <td>...</td>\n",
       "    </tr>\n",
       "    <tr>\n",
       "      <th>4859</th>\n",
       "      <td>38.52</td>\n",
       "      <td>16.81</td>\n",
       "      <td>1018.26</td>\n",
       "      <td>75.21</td>\n",
       "      <td>-1.239569e-16</td>\n",
       "    </tr>\n",
       "    <tr>\n",
       "      <th>919</th>\n",
       "      <td>66.93</td>\n",
       "      <td>27.56</td>\n",
       "      <td>1016.81</td>\n",
       "      <td>55.59</td>\n",
       "      <td>1.488972e-16</td>\n",
       "    </tr>\n",
       "    <tr>\n",
       "      <th>500</th>\n",
       "      <td>63.77</td>\n",
       "      <td>23.69</td>\n",
       "      <td>1013.39</td>\n",
       "      <td>79.50</td>\n",
       "      <td>2.343154e-17</td>\n",
       "    </tr>\n",
       "    <tr>\n",
       "      <th>4517</th>\n",
       "      <td>69.75</td>\n",
       "      <td>33.08</td>\n",
       "      <td>1009.03</td>\n",
       "      <td>43.69</td>\n",
       "      <td>1.820043e-16</td>\n",
       "    </tr>\n",
       "    <tr>\n",
       "      <th>5925</th>\n",
       "      <td>48.14</td>\n",
       "      <td>19.60</td>\n",
       "      <td>1013.18</td>\n",
       "      <td>68.71</td>\n",
       "      <td>1.307294e-17</td>\n",
       "    </tr>\n",
       "  </tbody>\n",
       "</table>\n",
       "<p>6697 rows × 5 columns</p>\n",
       "</div>\n",
       "      <button class=\"colab-df-convert\" onclick=\"convertToInteractive('df-f6074a85-15ea-4ebf-9012-652ddf49a310')\"\n",
       "              title=\"Convert this dataframe to an interactive table.\"\n",
       "              style=\"display:none;\">\n",
       "        \n",
       "  <svg xmlns=\"http://www.w3.org/2000/svg\" height=\"24px\"viewBox=\"0 0 24 24\"\n",
       "       width=\"24px\">\n",
       "    <path d=\"M0 0h24v24H0V0z\" fill=\"none\"/>\n",
       "    <path d=\"M18.56 5.44l.94 2.06.94-2.06 2.06-.94-2.06-.94-.94-2.06-.94 2.06-2.06.94zm-11 1L8.5 8.5l.94-2.06 2.06-.94-2.06-.94L8.5 2.5l-.94 2.06-2.06.94zm10 10l.94 2.06.94-2.06 2.06-.94-2.06-.94-.94-2.06-.94 2.06-2.06.94z\"/><path d=\"M17.41 7.96l-1.37-1.37c-.4-.4-.92-.59-1.43-.59-.52 0-1.04.2-1.43.59L10.3 9.45l-7.72 7.72c-.78.78-.78 2.05 0 2.83L4 21.41c.39.39.9.59 1.41.59.51 0 1.02-.2 1.41-.59l7.78-7.78 2.81-2.81c.8-.78.8-2.07 0-2.86zM5.41 20L4 18.59l7.72-7.72 1.47 1.35L5.41 20z\"/>\n",
       "  </svg>\n",
       "      </button>\n",
       "      \n",
       "  <style>\n",
       "    .colab-df-container {\n",
       "      display:flex;\n",
       "      flex-wrap:wrap;\n",
       "      gap: 12px;\n",
       "    }\n",
       "\n",
       "    .colab-df-convert {\n",
       "      background-color: #E8F0FE;\n",
       "      border: none;\n",
       "      border-radius: 50%;\n",
       "      cursor: pointer;\n",
       "      display: none;\n",
       "      fill: #1967D2;\n",
       "      height: 32px;\n",
       "      padding: 0 0 0 0;\n",
       "      width: 32px;\n",
       "    }\n",
       "\n",
       "    .colab-df-convert:hover {\n",
       "      background-color: #E2EBFA;\n",
       "      box-shadow: 0px 1px 2px rgba(60, 64, 67, 0.3), 0px 1px 3px 1px rgba(60, 64, 67, 0.15);\n",
       "      fill: #174EA6;\n",
       "    }\n",
       "\n",
       "    [theme=dark] .colab-df-convert {\n",
       "      background-color: #3B4455;\n",
       "      fill: #D2E3FC;\n",
       "    }\n",
       "\n",
       "    [theme=dark] .colab-df-convert:hover {\n",
       "      background-color: #434B5C;\n",
       "      box-shadow: 0px 1px 3px 1px rgba(0, 0, 0, 0.15);\n",
       "      filter: drop-shadow(0px 1px 2px rgba(0, 0, 0, 0.3));\n",
       "      fill: #FFFFFF;\n",
       "    }\n",
       "  </style>\n",
       "\n",
       "      <script>\n",
       "        const buttonEl =\n",
       "          document.querySelector('#df-f6074a85-15ea-4ebf-9012-652ddf49a310 button.colab-df-convert');\n",
       "        buttonEl.style.display =\n",
       "          google.colab.kernel.accessAllowed ? 'block' : 'none';\n",
       "\n",
       "        async function convertToInteractive(key) {\n",
       "          const element = document.querySelector('#df-f6074a85-15ea-4ebf-9012-652ddf49a310');\n",
       "          const dataTable =\n",
       "            await google.colab.kernel.invokeFunction('convertToInteractive',\n",
       "                                                     [key], {});\n",
       "          if (!dataTable) return;\n",
       "\n",
       "          const docLinkHtml = 'Like what you see? Visit the ' +\n",
       "            '<a target=\"_blank\" href=https://colab.research.google.com/notebooks/data_table.ipynb>data table notebook</a>'\n",
       "            + ' to learn more about interactive tables.';\n",
       "          element.innerHTML = '';\n",
       "          dataTable['output_type'] = 'display_data';\n",
       "          await google.colab.output.renderOutput(dataTable, element);\n",
       "          const docLink = document.createElement('div');\n",
       "          docLink.innerHTML = docLinkHtml;\n",
       "          element.appendChild(docLink);\n",
       "        }\n",
       "      </script>\n",
       "    </div>\n",
       "  </div>\n",
       "  "
      ],
      "text/plain": [
       "      Exhaust_Vaccum  Amb_Temperature  Amb_Pressure  Rel_Humidity  \\\n",
       "2959           59.21            19.97       1017.87         83.46   \n",
       "5215           59.14            18.68       1016.96         77.09   \n",
       "8118           38.73            13.11       1005.89         89.02   \n",
       "4113           60.37            25.32       1006.19         73.94   \n",
       "3253           59.27            25.50       1012.92         68.88   \n",
       "...              ...              ...           ...           ...   \n",
       "4859           38.52            16.81       1018.26         75.21   \n",
       "919            66.93            27.56       1016.81         55.59   \n",
       "500            63.77            23.69       1013.39         79.50   \n",
       "4517           69.75            33.08       1009.03         43.69   \n",
       "5925           48.14            19.60       1013.18         68.71   \n",
       "\n",
       "      influence_value  \n",
       "2959     9.044834e-18  \n",
       "5215    -6.876726e-19  \n",
       "8118     2.065894e-16  \n",
       "4113    -4.604072e-17  \n",
       "3253     7.323289e-18  \n",
       "...               ...  \n",
       "4859    -1.239569e-16  \n",
       "919      1.488972e-16  \n",
       "500      2.343154e-17  \n",
       "4517     1.820043e-16  \n",
       "5925     1.307294e-17  \n",
       "\n",
       "[6697 rows x 5 columns]"
      ]
     },
     "execution_count": 70,
     "metadata": {},
     "output_type": "execute_result"
    }
   ],
   "source": [
    "Xtrain[~Xtrain.index.isin(influence_data.index)]"
   ]
  },
  {
   "cell_type": "code",
   "execution_count": null,
   "metadata": {
    "colab": {
     "base_uri": "https://localhost:8080/"
    },
    "id": "vcBsa4vGnxdb",
    "outputId": "16b25703-d0e2-4eb1-f92f-4bf2a9da80eb"
   },
   "outputs": [
    {
     "data": {
      "text/plain": [
       "54.19070479319109"
      ]
     },
     "execution_count": 71,
     "metadata": {},
     "output_type": "execute_result"
    }
   ],
   "source": [
    "Xtrain[~Xtrain.index.isin(influence_data.index)]['Exhaust_Vaccum'].mean()"
   ]
  },
  {
   "cell_type": "code",
   "execution_count": null,
   "metadata": {
    "id": "PaaRJk0Ynxdb"
   },
   "outputs": [],
   "source": [
    "customers_clean.loc[[0,1,499]]\n",
    "\n"
   ]
  }
 ],
 "metadata": {
  "anaconda-cloud": {},
  "colab": {
   "collapsed_sections": [
    "Q59mID69YkHD"
   ],
   "name": "Multi_Linear_PowerEnergy.ipynb",
   "provenance": []
  },
  "kernelspec": {
   "display_name": "Python 3",
   "language": "python",
   "name": "python3"
  },
  "language_info": {
   "codemirror_mode": {
    "name": "ipython",
    "version": 3
   },
   "file_extension": ".py",
   "mimetype": "text/x-python",
   "name": "python",
   "nbconvert_exporter": "python",
   "pygments_lexer": "ipython3",
   "version": "3.7.6"
  }
 },
 "nbformat": 4,
 "nbformat_minor": 4
}
