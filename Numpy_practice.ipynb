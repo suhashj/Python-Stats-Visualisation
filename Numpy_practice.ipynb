{
  "nbformat": 4,
  "nbformat_minor": 0,
  "metadata": {
    "colab": {
      "name": "Numpy_practice.ipynb",
      "provenance": []
    },
    "kernelspec": {
      "name": "python3",
      "display_name": "Python 3"
    },
    "language_info": {
      "name": "python"
    }
  },
  "cells": [
    {
      "cell_type": "code",
      "execution_count": 3,
      "metadata": {
        "colab": {
          "base_uri": "https://localhost:8080/"
        },
        "id": "jjq9AFVW6dZq",
        "outputId": "a429b8ae-453b-40f6-fdfd-f0b7014273b8"
      },
      "outputs": [
        {
          "output_type": "stream",
          "name": "stdout",
          "text": [
            "[10, 15, 20, 25]\n"
          ]
        },
        {
          "output_type": "execute_result",
          "data": {
            "text/plain": [
              "list"
            ]
          },
          "metadata": {},
          "execution_count": 3
        }
      ],
      "source": [
        "L1=[10,15,20,25]\n",
        "print(L1)\n",
        "type(L1)"
      ]
    },
    {
      "cell_type": "code",
      "source": [
        "import numpy as np\n",
        "a1 = np.array([1,2,3,4,5])\n",
        "print(a1)\n",
        "print(a1.dtype)"
      ],
      "metadata": {
        "colab": {
          "base_uri": "https://localhost:8080/"
        },
        "id": "wqWJCtvF7f0Y",
        "outputId": "f7682562-31ab-42d6-910f-40e4e8272e2e"
      },
      "execution_count": 19,
      "outputs": [
        {
          "output_type": "stream",
          "name": "stdout",
          "text": [
            "[1 2 3 4 5]\n",
            "int64\n"
          ]
        }
      ]
    },
    {
      "cell_type": "code",
      "source": [
        "a2 = np.array([1, 2, 3.3])\n",
        "print(a2)\n",
        "print(a2.dtype)"
      ],
      "metadata": {
        "colab": {
          "base_uri": "https://localhost:8080/"
        },
        "id": "fkyRRBsF8jP1",
        "outputId": "3eb587cc-e6ee-4ccd-8581-54a3b67cf07e"
      },
      "execution_count": 20,
      "outputs": [
        {
          "output_type": "stream",
          "name": "stdout",
          "text": [
            "[1.  2.  3.3]\n",
            "float64\n"
          ]
        }
      ]
    },
    {
      "cell_type": "code",
      "source": [
        "a3 = np.array(['a','b','cat'])\n",
        "print(a3)\n",
        "print(a3.dtype)"
      ],
      "metadata": {
        "colab": {
          "base_uri": "https://localhost:8080/"
        },
        "id": "G6jeZ93O8H0f",
        "outputId": "2d82d3dd-31a9-43cd-8a45-21332be924ab"
      },
      "execution_count": 15,
      "outputs": [
        {
          "output_type": "stream",
          "name": "stdout",
          "text": [
            "['a' 'b' 'cat']\n",
            "<U3\n"
          ]
        }
      ]
    },
    {
      "cell_type": "code",
      "source": [
        "print(a1)\n",
        "print(a1[0])\n",
        "print(a1[1])\n",
        "print(a1[0:3])\n",
        "print(a1[1:4])\n"
      ],
      "metadata": {
        "colab": {
          "base_uri": "https://localhost:8080/"
        },
        "id": "YTbLv5wz97BH",
        "outputId": "cb3cd2bf-2d04-4711-fc20-cb54875c86d6"
      },
      "execution_count": 29,
      "outputs": [
        {
          "output_type": "stream",
          "name": "stdout",
          "text": [
            "[1 2 3 4 5]\n",
            "1\n",
            "2\n",
            "[1 2 3]\n",
            "[2 3 4]\n"
          ]
        }
      ]
    },
    {
      "cell_type": "code",
      "source": [
        "print(a1.shape)\n",
        "print(a1.ndim)"
      ],
      "metadata": {
        "colab": {
          "base_uri": "https://localhost:8080/"
        },
        "id": "AjRcm9iX-0Mv",
        "outputId": "6513c579-d2cf-4968-8843-7643e0332c6c"
      },
      "execution_count": 31,
      "outputs": [
        {
          "output_type": "stream",
          "name": "stdout",
          "text": [
            "(5,)\n",
            "1\n"
          ]
        }
      ]
    },
    {
      "cell_type": "code",
      "source": [
        "### 2D"
      ],
      "metadata": {
        "id": "xvx_wM8E_PVX"
      },
      "execution_count": null,
      "outputs": []
    },
    {
      "cell_type": "code",
      "source": [
        "b= np.array([[1,2,3],[10,20,30]])\n",
        "print(b)"
      ],
      "metadata": {
        "colab": {
          "base_uri": "https://localhost:8080/"
        },
        "id": "my5oqRKu_Ekn",
        "outputId": "f71e3ad5-5a9c-4f11-fa51-ac321ba341fe"
      },
      "execution_count": 42,
      "outputs": [
        {
          "output_type": "stream",
          "name": "stdout",
          "text": [
            "[[ 1  2  3]\n",
            " [10 20 30]]\n"
          ]
        }
      ]
    },
    {
      "cell_type": "code",
      "source": [
        "print(b.shape)\n",
        "print(b.ndim)\n",
        "print(b.dtype)"
      ],
      "metadata": {
        "colab": {
          "base_uri": "https://localhost:8080/"
        },
        "id": "K3OPcr_n_Onf",
        "outputId": "a54c6362-ca1e-456a-fad6-9819fbf2c4b8"
      },
      "execution_count": 43,
      "outputs": [
        {
          "output_type": "stream",
          "name": "stdout",
          "text": [
            "(2, 3)\n",
            "2\n",
            "int64\n"
          ]
        }
      ]
    },
    {
      "cell_type": "code",
      "source": [
        "# access the values from array\n",
        "print(b[0])\n",
        "print(b[1])"
      ],
      "metadata": {
        "colab": {
          "base_uri": "https://localhost:8080/"
        },
        "id": "eskvmyYwAxEf",
        "outputId": "04aba562-8eab-4621-c7e4-96e84ba2b99f"
      },
      "execution_count": 44,
      "outputs": [
        {
          "output_type": "stream",
          "name": "stdout",
          "text": [
            "[1 2 3]\n",
            "[10 20 30]\n"
          ]
        }
      ]
    },
    {
      "cell_type": "code",
      "source": [
        "b= np.array([[1,2,3],[10,20,30],[100,200,300]])\n",
        "print(b)\n",
        "print(\"************\")\n",
        "print(b[0:2, : ])\n",
        "print(\"************\")\n",
        "print(b[ : , 0:2 ])\n",
        "print(\"************\")\n",
        "print(b[0:2 , 0:2 ])\n"
      ],
      "metadata": {
        "colab": {
          "base_uri": "https://localhost:8080/"
        },
        "id": "xG0Fy1RL_o7q",
        "outputId": "9ec9d749-3abe-4b58-dfe3-bc8d6d22dde4"
      },
      "execution_count": 50,
      "outputs": [
        {
          "output_type": "stream",
          "name": "stdout",
          "text": [
            "[[  1   2   3]\n",
            " [ 10  20  30]\n",
            " [100 200 300]]\n",
            "************\n",
            "[[ 1  2  3]\n",
            " [10 20 30]]\n",
            "************\n",
            "[[  1   2]\n",
            " [ 10  20]\n",
            " [100 200]]\n",
            "************\n",
            "[[ 1  2]\n",
            " [10 20]]\n"
          ]
        }
      ]
    },
    {
      "cell_type": "code",
      "source": [
        "b2 = np.array([[1,2,3],[4,5,51.5],[6,8,50.5]])\n",
        "print(b2)\n",
        "# print 1st row, 2nd col\n",
        "print(b2[0,1])\n",
        "# print 2nd and 3rd row\n",
        "print(b2[1: , :])\n",
        "# print 3rd col only\n",
        "print(b2[: ,2])\n",
        "# print 2row,3rd col\n",
        "print(b2[1,2])\n",
        "# print 3rd row\n",
        "print(b[2,:])"
      ],
      "metadata": {
        "colab": {
          "base_uri": "https://localhost:8080/"
        },
        "id": "pXPssMglBuSd",
        "outputId": "9f12cc62-61e2-4811-a2f5-c29fde4297f4"
      },
      "execution_count": 60,
      "outputs": [
        {
          "output_type": "stream",
          "name": "stdout",
          "text": [
            "[[ 1.   2.   3. ]\n",
            " [ 4.   5.  51.5]\n",
            " [ 6.   8.  50.5]]\n",
            "2.0\n",
            "[[ 4.   5.  51.5]\n",
            " [ 6.   8.  50.5]]\n",
            "[ 3.  51.5 50.5]\n",
            "51.5\n",
            "[100 200 300]\n"
          ]
        }
      ]
    },
    {
      "cell_type": "code",
      "source": [
        "b3 = np.array([True,False,True,False])\n",
        "print(b3)\n",
        "print(b3.dtype)\n"
      ],
      "metadata": {
        "colab": {
          "base_uri": "https://localhost:8080/"
        },
        "id": "aaFBt8XaD872",
        "outputId": "c65a843e-7af7-4f8d-9f3f-dfd61c16fdf4"
      },
      "execution_count": 61,
      "outputs": [
        {
          "output_type": "stream",
          "name": "stdout",
          "text": [
            "[ True False  True False]\n",
            "bool\n"
          ]
        }
      ]
    },
    {
      "cell_type": "code",
      "source": [
        "print(b3.astype('int'))"
      ],
      "metadata": {
        "colab": {
          "base_uri": "https://localhost:8080/"
        },
        "id": "8T1r3FlQEmK5",
        "outputId": "a4a41586-1784-4e30-e0be-c5d2bb892577"
      },
      "execution_count": 63,
      "outputs": [
        {
          "output_type": "stream",
          "name": "stdout",
          "text": [
            "[1 0 1 0]\n"
          ]
        }
      ]
    },
    {
      "cell_type": "code",
      "source": [
        "b4 = np.array([10,20,30,0])\n",
        "print(b4.dtype)\n",
        "print(b4.astype('bool'))"
      ],
      "metadata": {
        "colab": {
          "base_uri": "https://localhost:8080/"
        },
        "id": "uAtTnF_dEbs-",
        "outputId": "2655fc77-c2df-4fff-8b83-e55f32924899"
      },
      "execution_count": 65,
      "outputs": [
        {
          "output_type": "stream",
          "name": "stdout",
          "text": [
            "int64\n",
            "[ True  True  True False]\n"
          ]
        }
      ]
    },
    {
      "cell_type": "code",
      "source": [
        "np.array([1,2,3],[1,2])"
      ],
      "metadata": {
        "colab": {
          "base_uri": "https://localhost:8080/",
          "height": 166
        },
        "id": "k2EtCdZBFoVl",
        "outputId": "e769381b-72ee-4e20-d310-2df8fd2aed64"
      },
      "execution_count": 70,
      "outputs": [
        {
          "output_type": "error",
          "ename": "TypeError",
          "evalue": "ignored",
          "traceback": [
            "\u001b[0;31m---------------------------------------------------------------------------\u001b[0m",
            "\u001b[0;31mTypeError\u001b[0m                                 Traceback (most recent call last)",
            "\u001b[0;32m<ipython-input-70-402ed38fc5c8>\u001b[0m in \u001b[0;36m<module>\u001b[0;34m()\u001b[0m\n\u001b[0;32m----> 1\u001b[0;31m \u001b[0mnp\u001b[0m\u001b[0;34m.\u001b[0m\u001b[0marray\u001b[0m\u001b[0;34m(\u001b[0m\u001b[0;34m[\u001b[0m\u001b[0;36m1\u001b[0m\u001b[0;34m,\u001b[0m\u001b[0;36m2\u001b[0m\u001b[0;34m,\u001b[0m\u001b[0;36m3\u001b[0m\u001b[0;34m]\u001b[0m\u001b[0;34m,\u001b[0m\u001b[0;34m[\u001b[0m\u001b[0;36m1\u001b[0m\u001b[0;34m,\u001b[0m\u001b[0;36m2\u001b[0m\u001b[0;34m]\u001b[0m\u001b[0;34m)\u001b[0m\u001b[0;34m\u001b[0m\u001b[0;34m\u001b[0m\u001b[0m\n\u001b[0m",
            "\u001b[0;31mTypeError\u001b[0m: Field elements must be 2- or 3-tuples, got '1'"
          ]
        }
      ]
    },
    {
      "cell_type": "code",
      "source": [
        "a1 = np.array([1,2,3])\n",
        "a2 = np.array([2,3,4])\n",
        "print(a1+a2)\n",
        "print(a1-a2)\n",
        "print(a1*a2)"
      ],
      "metadata": {
        "colab": {
          "base_uri": "https://localhost:8080/"
        },
        "id": "cGOv67fMFyqi",
        "outputId": "b06fda9d-64c5-4f83-d8c4-6f80b86438c0"
      },
      "execution_count": 72,
      "outputs": [
        {
          "output_type": "stream",
          "name": "stdout",
          "text": [
            "[3 5 7]\n",
            "[-1 -1 -1]\n",
            "[ 2  6 12]\n"
          ]
        }
      ]
    },
    {
      "cell_type": "code",
      "source": [
        "a1 = np.array([[1,2,3],[3,4,5]])\n",
        "a2 = np.array([[2,3,4],[4,5,6]])\n",
        "print(a1)\n",
        "print(a2)\n",
        "print(\"*******\")\n",
        "print(a1+a2)\n",
        "print(\"*******\")\n",
        "print(a1-a2)\n",
        "print(\"*******\")\n",
        "print(a1*a2)"
      ],
      "metadata": {
        "colab": {
          "base_uri": "https://localhost:8080/"
        },
        "id": "UJq443feGJLz",
        "outputId": "50a656e0-8d4c-4482-9bd2-dc55fda9bdf5"
      },
      "execution_count": 76,
      "outputs": [
        {
          "output_type": "stream",
          "name": "stdout",
          "text": [
            "[[1 2 3]\n",
            " [3 4 5]]\n",
            "[[2 3 4]\n",
            " [4 5 6]]\n",
            "*******\n",
            "[[ 3  5  7]\n",
            " [ 7  9 11]]\n",
            "*******\n",
            "[[-1 -1 -1]\n",
            " [-1 -1 -1]]\n",
            "*******\n",
            "[[ 2  6 12]\n",
            " [12 20 30]]\n"
          ]
        }
      ]
    },
    {
      "cell_type": "code",
      "source": [
        "print(np.multiply(a1,a2))\n",
        "print(np.dot(a1,np.transpose(a2)))"
      ],
      "metadata": {
        "colab": {
          "base_uri": "https://localhost:8080/"
        },
        "id": "bBs-_qjWG-tD",
        "outputId": "7a282b92-1ba8-482e-cda8-6a91313ca332"
      },
      "execution_count": 81,
      "outputs": [
        {
          "output_type": "stream",
          "name": "stdout",
          "text": [
            "[[ 2  6 12]\n",
            " [12 20 30]]\n",
            "[[20 32]\n",
            " [38 62]]\n"
          ]
        }
      ]
    },
    {
      "cell_type": "code",
      "source": [
        "# generate random integers --- with size\n",
        "a1 = np.random.randint(20,size=10)\n",
        "a1"
      ],
      "metadata": {
        "colab": {
          "base_uri": "https://localhost:8080/"
        },
        "id": "fMlrkMXTIjDx",
        "outputId": "c9ef7d36-15f1-41a4-bab9-d932a0d68d50"
      },
      "execution_count": 92,
      "outputs": [
        {
          "output_type": "execute_result",
          "data": {
            "text/plain": [
              "array([11, 12, 17,  3,  0,  9,  5,  8, 14, 19])"
            ]
          },
          "metadata": {},
          "execution_count": 92
        }
      ]
    },
    {
      "cell_type": "code",
      "source": [
        "a2 = np.random.randint(50,size=20)\n",
        "a2"
      ],
      "metadata": {
        "colab": {
          "base_uri": "https://localhost:8080/"
        },
        "id": "Vv37K7PTI7n-",
        "outputId": "8ff6abdb-d82a-4339-fb75-7987dded82fa"
      },
      "execution_count": 93,
      "outputs": [
        {
          "output_type": "execute_result",
          "data": {
            "text/plain": [
              "array([40, 13, 27, 33, 25, 47,  3, 10, 21, 43, 49, 30,  6, 23,  0, 47, 33,\n",
              "       14, 17,  8])"
            ]
          },
          "metadata": {},
          "execution_count": 93
        }
      ]
    },
    {
      "cell_type": "code",
      "source": [
        "np.array(a1,ndmin=2)"
      ],
      "metadata": {
        "colab": {
          "base_uri": "https://localhost:8080/"
        },
        "id": "1KyFlcabJUKc",
        "outputId": "296e0695-d663-4713-bb7f-1122a0e1b647"
      },
      "execution_count": 86,
      "outputs": [
        {
          "output_type": "execute_result",
          "data": {
            "text/plain": [
              "array([[16,  5,  5, 11,  6,  0, 19,  0, 12, 17]])"
            ]
          },
          "metadata": {},
          "execution_count": 86
        }
      ]
    },
    {
      "cell_type": "code",
      "source": [
        "a3 = np.random.randint(20,size=(2,3))\n",
        "print(a3)\n",
        "#?np.random.randint"
      ],
      "metadata": {
        "colab": {
          "base_uri": "https://localhost:8080/"
        },
        "id": "MtcpPdxpJ7l-",
        "outputId": "f5fc98a6-0425-46f4-c033-99b04f0d786d"
      },
      "execution_count": 94,
      "outputs": [
        {
          "output_type": "stream",
          "name": "stdout",
          "text": [
            "[[ 9 13  5]\n",
            " [18  0  0]]\n"
          ]
        }
      ]
    },
    {
      "cell_type": "code",
      "source": [
        "a4 = np.random.randint(20,size=(2,3))\n",
        "print(a4)"
      ],
      "metadata": {
        "colab": {
          "base_uri": "https://localhost:8080/"
        },
        "id": "cJZKgRUmKfHr",
        "outputId": "03aec417-83c5-4667-8e46-9115fa6903cb"
      },
      "execution_count": 95,
      "outputs": [
        {
          "output_type": "stream",
          "name": "stdout",
          "text": [
            "[[19  3 18]\n",
            " [10  0 11]]\n"
          ]
        }
      ]
    },
    {
      "cell_type": "code",
      "source": [
        "print(a1)\n",
        "print(a2)\n",
        "print(\"**************\")\n",
        "print(np.concatenate([a1,a2]))"
      ],
      "metadata": {
        "colab": {
          "base_uri": "https://localhost:8080/"
        },
        "id": "VgREqgAfKnVM",
        "outputId": "3800a7e7-4345-453f-bc96-ab2c99e872cc"
      },
      "execution_count": 100,
      "outputs": [
        {
          "output_type": "stream",
          "name": "stdout",
          "text": [
            "[11 12 17  3  0  9  5  8 14 19]\n",
            "[40 13 27 33 25 47  3 10 21 43 49 30  6 23  0 47 33 14 17  8]\n",
            "**************\n",
            "[11 12 17  3  0  9  5  8 14 19 40 13 27 33 25 47  3 10 21 43 49 30  6 23\n",
            "  0 47 33 14 17  8]\n"
          ]
        }
      ]
    },
    {
      "cell_type": "code",
      "source": [
        "print(a3)\n",
        "print(a4)\n",
        "print(\"*********\")\n",
        "print(np.concatenate([a3,a4]))"
      ],
      "metadata": {
        "colab": {
          "base_uri": "https://localhost:8080/"
        },
        "id": "YZu3iWUuLPaE",
        "outputId": "9ecb0a1f-b0c5-4437-fb00-3c74ec305e64"
      },
      "execution_count": 101,
      "outputs": [
        {
          "output_type": "stream",
          "name": "stdout",
          "text": [
            "[[ 9 13  5]\n",
            " [18  0  0]]\n",
            "[[19  3 18]\n",
            " [10  0 11]]\n",
            "*********\n",
            "[[ 9 13  5]\n",
            " [18  0  0]\n",
            " [19  3 18]\n",
            " [10  0 11]]\n"
          ]
        }
      ]
    },
    {
      "cell_type": "code",
      "source": [
        "print(a3)\n",
        "print(a4)\n",
        "print(\"*********\")\n",
        "print(np.concatenate([a3,a4],axis=1))"
      ],
      "metadata": {
        "colab": {
          "base_uri": "https://localhost:8080/"
        },
        "id": "9GdUQblyLk7q",
        "outputId": "42ecf3ed-8e39-4c31-b932-e62b0b078ac7"
      },
      "execution_count": 103,
      "outputs": [
        {
          "output_type": "stream",
          "name": "stdout",
          "text": [
            "[[ 9 13  5]\n",
            " [18  0  0]]\n",
            "[[19  3 18]\n",
            " [10  0 11]]\n",
            "*********\n",
            "[[ 9 13  5 19  3 18]\n",
            " [18  0  0 10  0 11]]\n"
          ]
        }
      ]
    },
    {
      "cell_type": "code",
      "source": [
        "a5 = np.random.randint(50,size=(2,3))\n",
        "a6 = np.random.randint(50,size=(3,2))\n",
        "print(a5)\n",
        "print(a6)\n"
      ],
      "metadata": {
        "colab": {
          "base_uri": "https://localhost:8080/"
        },
        "id": "LKlXpbElMzxD",
        "outputId": "b9098aeb-9531-448a-b417-949fa61481d2"
      },
      "execution_count": 104,
      "outputs": [
        {
          "output_type": "stream",
          "name": "stdout",
          "text": [
            "[[ 0 29 38]\n",
            " [16 42 18]]\n",
            "[[27 12]\n",
            " [ 6 37]\n",
            " [39 38]]\n"
          ]
        }
      ]
    },
    {
      "cell_type": "code",
      "source": [
        "print(\"*********\")\n",
        "print(np.concatenate([a5,a6],axis=1))"
      ],
      "metadata": {
        "colab": {
          "base_uri": "https://localhost:8080/",
          "height": 270
        },
        "id": "xfL3_GLTNUwg",
        "outputId": "c1b30ebf-505d-47bb-dc24-f6cdc1718159"
      },
      "execution_count": 105,
      "outputs": [
        {
          "output_type": "stream",
          "name": "stdout",
          "text": [
            "*********\n"
          ]
        },
        {
          "output_type": "error",
          "ename": "ValueError",
          "evalue": "ignored",
          "traceback": [
            "\u001b[0;31m---------------------------------------------------------------------------\u001b[0m",
            "\u001b[0;31mValueError\u001b[0m                                Traceback (most recent call last)",
            "\u001b[0;32m<ipython-input-105-649baa6d9997>\u001b[0m in \u001b[0;36m<module>\u001b[0;34m()\u001b[0m\n\u001b[1;32m      1\u001b[0m \u001b[0mprint\u001b[0m\u001b[0;34m(\u001b[0m\u001b[0;34m\"*********\"\u001b[0m\u001b[0;34m)\u001b[0m\u001b[0;34m\u001b[0m\u001b[0;34m\u001b[0m\u001b[0m\n\u001b[0;32m----> 2\u001b[0;31m \u001b[0mprint\u001b[0m\u001b[0;34m(\u001b[0m\u001b[0mnp\u001b[0m\u001b[0;34m.\u001b[0m\u001b[0mconcatenate\u001b[0m\u001b[0;34m(\u001b[0m\u001b[0;34m[\u001b[0m\u001b[0ma5\u001b[0m\u001b[0;34m,\u001b[0m\u001b[0ma6\u001b[0m\u001b[0;34m]\u001b[0m\u001b[0;34m,\u001b[0m\u001b[0maxis\u001b[0m\u001b[0;34m=\u001b[0m\u001b[0;36m1\u001b[0m\u001b[0;34m)\u001b[0m\u001b[0;34m)\u001b[0m\u001b[0;34m\u001b[0m\u001b[0;34m\u001b[0m\u001b[0m\n\u001b[0m",
            "\u001b[0;32m<__array_function__ internals>\u001b[0m in \u001b[0;36mconcatenate\u001b[0;34m(*args, **kwargs)\u001b[0m\n",
            "\u001b[0;31mValueError\u001b[0m: all the input array dimensions for the concatenation axis must match exactly, but along dimension 0, the array at index 0 has size 2 and the array at index 1 has size 3"
          ]
        }
      ]
    },
    {
      "cell_type": "code",
      "source": [
        "a7 = np.arange(0,40,5)\n",
        "print(a7)"
      ],
      "metadata": {
        "colab": {
          "base_uri": "https://localhost:8080/"
        },
        "id": "0K8xQEDWN0At",
        "outputId": "4bcc1b70-a13d-4207-b2ab-777f2c960e1e"
      },
      "execution_count": 110,
      "outputs": [
        {
          "output_type": "stream",
          "name": "stdout",
          "text": [
            "[ 0  5 10 15 20 25 30 35]\n"
          ]
        }
      ]
    },
    {
      "cell_type": "code",
      "source": [
        "a8 = np.arange(40,80,5)\n",
        "print(a8)"
      ],
      "metadata": {
        "colab": {
          "base_uri": "https://localhost:8080/"
        },
        "id": "-X2QGGDIODqL",
        "outputId": "74654981-dc25-4fbd-b64f-b5304d7b7f8b"
      },
      "execution_count": 112,
      "outputs": [
        {
          "output_type": "stream",
          "name": "stdout",
          "text": [
            "[40 45 50 55 60 65 70 75]\n"
          ]
        }
      ]
    },
    {
      "cell_type": "code",
      "source": [
        "print(np.stack([a7,a8]))"
      ],
      "metadata": {
        "colab": {
          "base_uri": "https://localhost:8080/"
        },
        "id": "_az0we7vOIOT",
        "outputId": "0f8986e3-0436-4251-9724-0d9941aec1d6"
      },
      "execution_count": 118,
      "outputs": [
        {
          "output_type": "stream",
          "name": "stdout",
          "text": [
            "[[ 0  5 10 15 20 25 30 35]\n",
            " [40 45 50 55 60 65 70 75]]\n"
          ]
        }
      ]
    },
    {
      "cell_type": "code",
      "source": [
        "np.concatenate([a7,a8],axis=0)"
      ],
      "metadata": {
        "colab": {
          "base_uri": "https://localhost:8080/"
        },
        "id": "n2nn8YF9Nj6F",
        "outputId": "363bc8a6-ca43-4e6a-9401-69c13ef68350"
      },
      "execution_count": 117,
      "outputs": [
        {
          "output_type": "execute_result",
          "data": {
            "text/plain": [
              "array([ 0,  5, 10, 15, 20, 25, 30, 35, 40, 45, 50, 55, 60, 65, 70, 75])"
            ]
          },
          "metadata": {},
          "execution_count": 117
        }
      ]
    },
    {
      "cell_type": "code",
      "source": [
        "a9 = np.arange(0,100,10)\n",
        "print(a9)"
      ],
      "metadata": {
        "colab": {
          "base_uri": "https://localhost:8080/"
        },
        "id": "1J2rROLeO-yZ",
        "outputId": "15605faf-253b-424c-cc1d-bc1fc23b6578"
      },
      "execution_count": 120,
      "outputs": [
        {
          "output_type": "stream",
          "name": "stdout",
          "text": [
            "[ 0 10 20 30 40 50 60 70 80 90]\n"
          ]
        }
      ]
    },
    {
      "cell_type": "code",
      "source": [
        "np.reshape(a9,(2,5))"
      ],
      "metadata": {
        "colab": {
          "base_uri": "https://localhost:8080/"
        },
        "id": "qmuoci9IPRcm",
        "outputId": "be876051-9826-417e-9dee-ca29bb70c4ef"
      },
      "execution_count": 122,
      "outputs": [
        {
          "output_type": "execute_result",
          "data": {
            "text/plain": [
              "array([[ 0, 10, 20, 30, 40],\n",
              "       [50, 60, 70, 80, 90]])"
            ]
          },
          "metadata": {},
          "execution_count": 122
        }
      ]
    },
    {
      "cell_type": "code",
      "source": [
        "np.reshape(a9,(5,2))"
      ],
      "metadata": {
        "colab": {
          "base_uri": "https://localhost:8080/"
        },
        "id": "2Oq9d1mbP0PK",
        "outputId": "59e1dc82-b91b-4dde-97be-3a20fc25b890"
      },
      "execution_count": 123,
      "outputs": [
        {
          "output_type": "execute_result",
          "data": {
            "text/plain": [
              "array([[ 0, 10],\n",
              "       [20, 30],\n",
              "       [40, 50],\n",
              "       [60, 70],\n",
              "       [80, 90]])"
            ]
          },
          "metadata": {},
          "execution_count": 123
        }
      ]
    },
    {
      "cell_type": "code",
      "source": [
        "np.reshape(a9,(1,10))"
      ],
      "metadata": {
        "colab": {
          "base_uri": "https://localhost:8080/"
        },
        "id": "s3EJg-0sP9XH",
        "outputId": "36da8766-8cd1-47d4-e9f3-fa4b645cfd4e"
      },
      "execution_count": 124,
      "outputs": [
        {
          "output_type": "execute_result",
          "data": {
            "text/plain": [
              "array([[ 0, 10, 20, 30, 40, 50, 60, 70, 80, 90]])"
            ]
          },
          "metadata": {},
          "execution_count": 124
        }
      ]
    },
    {
      "cell_type": "code",
      "source": [
        "np.reshape(a9,(10,1))"
      ],
      "metadata": {
        "colab": {
          "base_uri": "https://localhost:8080/"
        },
        "id": "jOsc84mIQAAh",
        "outputId": "a9bdf4a4-83da-4dc1-a774-75c802a99d82"
      },
      "execution_count": 125,
      "outputs": [
        {
          "output_type": "execute_result",
          "data": {
            "text/plain": [
              "array([[ 0],\n",
              "       [10],\n",
              "       [20],\n",
              "       [30],\n",
              "       [40],\n",
              "       [50],\n",
              "       [60],\n",
              "       [70],\n",
              "       [80],\n",
              "       [90]])"
            ]
          },
          "metadata": {},
          "execution_count": 125
        }
      ]
    }
  ]
}
